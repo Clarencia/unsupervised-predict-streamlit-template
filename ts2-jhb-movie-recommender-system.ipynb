{
 "cells": [
  {
   "cell_type": "markdown",
   "execution_count": null,
   "metadata": {
    "id": "RCwLtHeW3tNJ"
   },
   "source": [
    "#  <center><span style=\"color:darkblue; font-size:2em;\">Team TS2  </span>\n",
    "# <center><span style=\"color:darkblue;font-size:1.4em;\">EDSA Movie Recommendation Challenge </span>"
   ]
  },
  {
   "cell_type": "markdown",
   "execution_count": null,
   "metadata": {
    "id": "vugyFAnj3tNQ"
   },
   "source": [
    "![](https://github.com/Clarencia/unsupervised-predict-streamlit-template/blob/master/images/netrecl.jpg?raw=true)"
   ]
  },
  {
   "cell_type": "markdown",
   "execution_count": null,
   "metadata": {
    "id": "xt-9k206GEx5"
   },
   "source": [
    "## Overview"
   ]
  },
  {
   "cell_type": "markdown",
   "execution_count": null,
   "metadata": {
    "id": "S1VntrD1GEx7"
   },
   "source": [
    "In today’s technology driven world, recommender systems are socially and economically critical for ensuring that individuals can make appropriate choices surrounding the content they engage with on a daily basis. One application where this is especially true surrounds movie content recommendations; where intelligent algorithms can help viewers find great titles from tens of thousands of options. \n",
    "<br>\n",
    "\n",
    "Providing an accurate and robust solution to this challenge has immense economic potential, with users of the system being exposed to content they would like to view or purchase - generating revenue and platform affinity."
   ]
  },
  {
   "cell_type": "markdown",
   "execution_count": null,
   "metadata": {
    "id": "se5tCw26GEx8"
   },
   "source": [
    "## Problem Statement"
   ]
  },
  {
   "cell_type": "markdown",
   "execution_count": null,
   "metadata": {
    "id": "FhMTBiXjGEx9"
   },
   "source": [
    "The aim of this project is to construct a recommendation algorithm based on `content or collaborative filtering`, capable of accurately predicting how a user will rate a movie they have not yet viewed based on their historical preferences. The project also aims to build and algorithm into a web app, that recommends movies to different users given their favourite or watched movies.\n",
    "<br>\n",
    "\n",
    "The evaluation metric will be the `Root Mean Square Error(RMSE)`, with the the lower(close to 0) value meaning the better or most accurate predictions. To view more infomation about the compepition [click here](https://www.kaggle.com/c/edsa-recommender-system-predict/overview)."
   ]
  },
  {
   "cell_type": "markdown",
   "execution_count": null,
   "metadata": {
    "id": "m0XE_LnZGEx-"
   },
   "source": [
    "<a id='contents'></a>\n",
    "## Table of Contents"
   ]
  },
  {
   "cell_type": "markdown",
   "execution_count": null,
   "metadata": {
    "id": "WNbUe_5AGEyA"
   },
   "source": [
    "* [1. Data overview](#the_over)\n",
    "* [2. Connect to Comet](#the_connection)\n",
    "* [3. Importing librabies](#the_library)\n",
    "* [4. Loading datasets](#the_data)\n",
    "* [5. Inspecting datasets](#the_inspect)\n",
    "* [6. Data cleaning](#the_clean)\n",
    "* [7. Exploratory Data Analysis](#the_eda)\n",
    "* [8. Recommender systems](#the_system)\n",
    "* [9. Recommender system for movie ratings](#the_surprise)\n",
    "* [10. Recommender system for movie recommendations](#the_movie)\n",
    "* [11. Save the model](#the_save)\n",
    "* [12. Log to Comet](#the_log)\n",
    "* [13. Conclusion](#the_end)\n",
    "* [14. References](#the_ref)\n"
   ]
  },
  {
   "cell_type": "markdown",
   "execution_count": null,
   "metadata": {
    "id": "pZH77A3EGEyC"
   },
   "source": [
    "<a id='the_over'></a>\n",
    "## 1. Data overview"
   ]
  },
  {
   "cell_type": "markdown",
   "execution_count": null,
   "metadata": {
    "id": "rHNgSlbfGEyD"
   },
   "source": [
    "This dataset consists of several million 5-star ratings obtained from users of the online [MovieLens](http://movielens.org/ ) movie recommendation service. The data for the MovieLens dataset is maintained by the [GroupLens](https://grouplens.org/)  research group in the Department of Computer Science and Engineering at the University of Minnesota. Additional movie content data was legally scraped from [IMDB](https://www.imdb.com/).\n",
    "\n",
    "Below is a table of supplied files that will be used in this notebook and a throrough description of each file follows the table."
   ]
  },
  {
   "cell_type": "markdown",
   "execution_count": null,
   "metadata": {
    "id": "h_NEdXgjGEyE"
   },
   "source": [
    "| **File Name** | **Description** |\n",
    "|:---------:|:----------------|\n",
    "|   **genome_scores.csv**   |A score mapping the strength between movies and tag-related properties. Read more [here](http://files.grouplens.org/papers/tag_genome.pdf) |\n",
    "|   **genome_tags.csv**   |User assigned tags for genome-related scores. |\n",
    "|   **imdb_data.csv**   |Additional movie metadata scraped from IMDB using the links.csv file. |\n",
    "|  **links.csv**   |File providing a mapping between a MovieLens ID and associated IMDB and TMDB IDs. |  \n",
    "|  **sample_submission.csv**   |Sample of the submission format for the hackathon. | \n",
    "|  **tags.csv**   |User assigned for the movies within the dataset. | \n",
    "|  **test.csv**   |The test split of the dataset. Contains user and movie IDs with no rating data. | \n",
    "|  **train.csv**   |The training split of the dataset. Contains user and movie IDs with associated rating data. | \n"
   ]
  },
  {
   "cell_type": "markdown",
   "execution_count": null,
   "metadata": {
    "id": "gK3egcSuGEyF"
   },
   "source": [
    "**Ratings Data File Structure (train.csv)**\n",
    "\n",
    "All ratings are contained in the file train.csv. Each line of this file after the header row represents one rating of one movie by one user, and has the following features:\n",
    "\n",
    "| userId | movieId | rating | timestamp |\n",
    "|:---------:|:----------------|:---------:|:----------------|\n",
    "\n",
    "\n",
    "The lines within this file are ordered first by userId, then, within user, by movieId. Ratings are made on a 5-star scale, with half-star increments (0.5 stars - 5.0 stars). Timestamps represent seconds since midnight Coordinated Universal Time (UTC) of January 1, 1970.\n",
    "\n",
    "**Tags Data File Structure (tags.csv)**\n",
    "\n",
    "All tags are contained in the file tags.csv. Each line of this file after the header row represents one tag applied to one movie by one user, and has the following features:\n",
    "\n",
    "| userId | movieId | tag | timestamp |\n",
    "|:---------:|:----------------|:---------:|:----------------|\n",
    "\n",
    "\n",
    "The lines within this file are ordered first by userId, then, within user, by movieId. Tags are user-generated metadata about movies. Each tag is typically a single word or short phrase. The meaning, value, and purpose of a particular tag is determined by each user. Timestamps represent seconds since midnight Coordinated Universal Time (UTC) of January 1, 1970\n",
    "\n",
    "**Movies Data File Structure (movies.csv)**\n",
    "\n",
    "Movie information is contained in the file movies.csv. Each line of this file after the header row represents one movie, and has the following features:\n",
    "\n",
    "\n",
    "| userId | title | genres | \n",
    "|:---------:|:----------------|:---------:|\n",
    "\n",
    "\n",
    "Movie titles are entered manually or imported from [here](https://www.themoviedb.org/), and include the year of release in parentheses. Errors and inconsistencies may exist in these titles. Genres are a pipe-separated list, and are selected from the following:\n",
    "\n",
    "Action,\n",
    "Adventure,\n",
    "Animation,\n",
    "Children's,\n",
    "Comedy,\n",
    "Crime,\n",
    "Documentary,\n",
    "Drama,\n",
    "Fantasy,\n",
    "Film-Noir,\n",
    "Horror,\n",
    "Musical,\n",
    "Mystery,\n",
    "Romance,\n",
    "Sci-Fi,\n",
    "Thriller,\n",
    "War,\n",
    "Western,\n",
    "and (no genres listed).\n",
    "\n",
    "**Links Data File Structure (links.csv)**\n",
    "\n",
    "Identifiers that can be used to link to other sources of movie data are contained in the file links.csv. Each line of this file after the header row represents one movie, and has the following features:\n",
    "\n",
    "| userId |imdbId  | tmdbId  | \n",
    "|:---------:|:----------------|:---------:|\n",
    "\n",
    "\n",
    "\n",
    "- movieId is an identifier for movies used by [movielens site](https://movielens.org). E.g., the movie Toy Story has this [link](https://movielens.org/movies/1).\n",
    "\n",
    "- imdbId is an identifier for movies used by [imdb site](http://www.imdb.com). E.g., the movie Toy Story has this [link](http://www.imdb.com/title/tt0114709/).\n",
    "\n",
    "- tmdbId is an identifier for movies used by [themoviedb site](https://www.themoviedb.org). E.g., the movie Toy Story has this [link](https://www.themoviedb.org/movie/862).\n",
    "\n",
    "- Use of the resources listed above is subject to the terms of each provider.\n",
    "\n",
    "**Tag Genome (genome-scores.csv and genome-tags.csv)**\n",
    "\n",
    "The tag genome encodes how strongly movies exhibit particular properties represented by tags (atmospheric, thought-provoking, realistic, etc.). The tag genome was computed using a machine learning algorithm on user-contributed content including tags, ratings, and textual reviews. The genome is split into two files. The file genome-scores.csv contains movie-tag relevance data in the following features:\n",
    "\n",
    "\n",
    "| userId | tagId | relevance | \n",
    "|:---------:|:----------------|:---------:|\n",
    "\n",
    "\n",
    "The second file, genome-tags.csv, provides the tag descriptions for the tag IDs in the genome file, in the following features:\n",
    "\n",
    "| tagId | tag |\n",
    "|:---------:|:----------------|"
   ]
  },
  {
   "cell_type": "markdown",
   "execution_count": null,
   "metadata": {
    "id": "tlSqWFlk3tN9"
   },
   "source": [
    "[Back to contents](#contents)"
   ]
  },
  {
   "cell_type": "markdown",
   "execution_count": null,
   "metadata": {
    "id": "tclxjxodGEyH"
   },
   "source": [
    "<a id='the_connection'></a>\n",
    "## 2. Connect to Comet"
   ]
  },
  {
   "cell_type": "markdown",
   "execution_count": null,
   "metadata": {
    "id": "nl9UzkfTAY4B"
   },
   "source": [
    "[Comet](https://www.kdnuggets.com/2018/04/comet-ml-machine-learning-experiment-management.html) is a platform that allows tracking machine learning experiments with an emphasis on collaboration and knowledge sharing. It allows you to keep your current workflow and report your result from any machine - whether it’s your laptop or a GPU cluster."
   ]
  },
  {
   "cell_type": "code",
   "execution_count": 1,
   "metadata": {
    "id": "lXFrFVENGEyI",
    "outputId": "de7cf94e-a81c-49c7-84e8-2c57fd3bf6b1"
   },
   "outputs": [
    {
     "name": "stdout",
     "output_type": "stream",
     "text": [
      "Collecting comet_ml\r\n",
      "  Downloading comet_ml-3.1.14-py2.py3-none-any.whl (216 kB)\r\n",
      "\u001b[K     |████████████████████████████████| 216 kB 2.5 MB/s \r\n",
      "\u001b[?25hRequirement already satisfied: requests>=2.18.4 in /opt/conda/lib/python3.7/site-packages (from comet_ml) (2.23.0)\r\n",
      "Requirement already satisfied: six in /opt/conda/lib/python3.7/site-packages (from comet_ml) (1.14.0)\r\n",
      "Requirement already satisfied: wrapt>=1.11.2 in /opt/conda/lib/python3.7/site-packages (from comet_ml) (1.11.2)\r\n",
      "Collecting netifaces>=0.10.7\r\n",
      "  Downloading netifaces-0.10.9.tar.gz (28 kB)\r\n",
      "Collecting comet-git-pure>=0.19.11\r\n",
      "  Downloading comet_git_pure-0.19.16-py3-none-any.whl (409 kB)\r\n",
      "\u001b[K     |████████████████████████████████| 409 kB 4.3 MB/s \r\n",
      "\u001b[?25hRequirement already satisfied: websocket-client>=0.55.0 in /opt/conda/lib/python3.7/site-packages (from comet_ml) (0.57.0)\r\n",
      "Requirement already satisfied: jsonschema!=3.1.0,>=2.6.0 in /opt/conda/lib/python3.7/site-packages (from comet_ml) (3.2.0)\r\n",
      "Collecting everett[ini]>=1.0.1; python_version >= \"3.0\"\r\n",
      "  Downloading everett-1.0.2-py2.py3-none-any.whl (31 kB)\r\n",
      "Requirement already satisfied: nvidia-ml-py3>=7.352.0 in /opt/conda/lib/python3.7/site-packages (from comet_ml) (7.352.0)\r\n",
      "Requirement already satisfied: wurlitzer>=1.0.2 in /opt/conda/lib/python3.7/site-packages (from comet_ml) (2.0.0)\r\n",
      "Requirement already satisfied: chardet<4,>=3.0.2 in /opt/conda/lib/python3.7/site-packages (from requests>=2.18.4->comet_ml) (3.0.4)\r\n",
      "Requirement already satisfied: certifi>=2017.4.17 in /opt/conda/lib/python3.7/site-packages (from requests>=2.18.4->comet_ml) (2020.6.20)\r\n",
      "Requirement already satisfied: urllib3!=1.25.0,!=1.25.1,<1.26,>=1.21.1 in /opt/conda/lib/python3.7/site-packages (from requests>=2.18.4->comet_ml) (1.24.3)\r\n",
      "Requirement already satisfied: idna<3,>=2.5 in /opt/conda/lib/python3.7/site-packages (from requests>=2.18.4->comet_ml) (2.9)\r\n",
      "Requirement already satisfied: setuptools in /opt/conda/lib/python3.7/site-packages (from jsonschema!=3.1.0,>=2.6.0->comet_ml) (46.1.3.post20200325)\r\n",
      "Requirement already satisfied: attrs>=17.4.0 in /opt/conda/lib/python3.7/site-packages (from jsonschema!=3.1.0,>=2.6.0->comet_ml) (19.3.0)\r\n",
      "Requirement already satisfied: pyrsistent>=0.14.0 in /opt/conda/lib/python3.7/site-packages (from jsonschema!=3.1.0,>=2.6.0->comet_ml) (0.16.0)\r\n",
      "Requirement already satisfied: importlib-metadata; python_version < \"3.8\" in /opt/conda/lib/python3.7/site-packages (from jsonschema!=3.1.0,>=2.6.0->comet_ml) (1.6.0)\r\n",
      "Collecting configobj; extra == \"ini\"\r\n",
      "  Downloading configobj-5.0.6.tar.gz (33 kB)\r\n",
      "Requirement already satisfied: zipp>=0.5 in /opt/conda/lib/python3.7/site-packages (from importlib-metadata; python_version < \"3.8\"->jsonschema!=3.1.0,>=2.6.0->comet_ml) (3.1.0)\r\n",
      "Building wheels for collected packages: netifaces, configobj\r\n",
      "  Building wheel for netifaces (setup.py) ... \u001b[?25l-\b \b\\\b \b|\b \b/\b \b-\b \b\\\b \bdone\r\n",
      "\u001b[?25h  Created wheel for netifaces: filename=netifaces-0.10.9-cp37-cp37m-linux_x86_64.whl size=37295 sha256=0d3ce95d21bf74ab8d3ce28729c4a3fe81f9938ed925ad8e0c7acb743f04291c\r\n",
      "  Stored in directory: /root/.cache/pip/wheels/5f/09/cf/2b1aa8371c071fa89518ac0bbda1b8cca4e65b6e2538af4192\r\n",
      "  Building wheel for configobj (setup.py) ... \u001b[?25l-\b \b\\\b \bdone\r\n",
      "\u001b[?25h  Created wheel for configobj: filename=configobj-5.0.6-py3-none-any.whl size=34546 sha256=9198fab278abae0ba33197069205b2c59f8eb55eb1eb1a94e8fa36caf0558371\r\n",
      "  Stored in directory: /root/.cache/pip/wheels/0d/c4/19/13d74440f2a571841db6b6e0a273694327498884dafb9cf978\r\n",
      "Successfully built netifaces configobj\r\n",
      "Installing collected packages: netifaces, comet-git-pure, configobj, everett, comet-ml\r\n",
      "Successfully installed comet-git-pure-0.19.16 comet-ml-3.1.14 configobj-5.0.6 everett-1.0.2 netifaces-0.10.9\r\n"
     ]
    }
   ],
   "source": [
    "!pip install comet_ml"
   ]
  },
  {
   "cell_type": "code",
   "execution_count": 2,
   "metadata": {
    "id": "K0TsfykZGEyS",
    "outputId": "79b3d211-fa18-4469-c777-6d8ca01114b0"
   },
   "outputs": [
    {
     "name": "stderr",
     "output_type": "stream",
     "text": [
      "COMET INFO: Experiment is live on comet.ml https://www.comet.ml/crtshabangu/unsupervised-learning-ts2/8142b122ad49403d9309a31385e1a4f1\n",
      "\n"
     ]
    }
   ],
   "source": [
    "import comet_ml\n",
    "from comet_ml import Experiment\n",
    "\n",
    "### UNCOMMENT ###\n",
    "# Setting up the API KEY\n",
    "experiment = Experiment(\n",
    "    api_key='xHRiEsQ8ADZrOR6bO0WpE2aWW',\n",
    "    project_name=\"unsupervised_learning_ts2\", workspace=\"crtshabangu\")\n"
   ]
  },
  {
   "cell_type": "markdown",
   "execution_count": null,
   "metadata": {
    "id": "QaZNCx1y3tOy"
   },
   "source": [
    "[Back to contents](#contents)"
   ]
  },
  {
   "cell_type": "markdown",
   "execution_count": null,
   "metadata": {
    "id": "PSobDWumGEyX"
   },
   "source": [
    "<a id='the_library'></a>\n",
    "## 3. Importing the libraries"
   ]
  },
  {
   "cell_type": "markdown",
   "execution_count": null,
   "metadata": {},
   "source": [
    "Before we import any libraries. We first need to install some packages first.\n",
    "* `!pip install surprise`\n",
    "* `!pip install WordCloud`\n",
    "* `!pip install scipy`\n",
    "* `!pip install PIL`\n",
    "* `!pip install Image`\n"
   ]
  },
  {
   "cell_type": "code",
   "execution_count": 3,
   "metadata": {
    "id": "bJ0kEztLGEyY"
   },
   "outputs": [],
   "source": [
    "import numpy as np # linear algebra\n",
    "import pandas as pd # data processing, CSV file I/O (e.g. pd.read_csv)\n",
    "\n",
    "#visualization\n",
    "import scipy as sp # \n",
    "from scipy import sparse \n",
    "from wordcloud import WordCloud\n",
    "import matplotlib.pyplot as plt\n",
    "import seaborn as sns\n",
    "%matplotlib inline\n",
    "from wordcloud import WordCloud, STOPWORDS\n",
    "from PIL import Image\n",
    "import urllib.request\n",
    "\n",
    "# Entity featurization and similarity computation\n",
    "from sklearn.metrics.pairwise import cosine_similarity \n",
    "from sklearn.feature_extraction.text import TfidfVectorizer\n",
    "from sklearn.metrics.pairwise import linear_kernel\n",
    "\n",
    "#recommender systems\n",
    "from surprise import *\n",
    "from surprise.model_selection import train_test_split\n",
    "from surprise.model_selection import cross_validate\n",
    "\n",
    "#saving model\n",
    "import pickle"
   ]
  },
  {
   "cell_type": "markdown",
   "execution_count": null,
   "metadata": {
    "id": "ub1EODOr3tPH"
   },
   "source": [
    "[Back to contents](#contents)"
   ]
  },
  {
   "cell_type": "markdown",
   "execution_count": null,
   "metadata": {
    "id": "n-rXaE9PGEyc"
   },
   "source": [
    "<a id ='the_data'></a>\n",
    "## 4. Loading datasets"
   ]
  },
  {
   "cell_type": "code",
   "execution_count": 4,
   "metadata": {
    "_cell_guid": "79c7e3d0-c299-4dcb-8224-4455121ee9b0",
    "_uuid": "d629ff2d2480ee46fbb7e2d37f6b5fab8052498a",
    "id": "kbkBxYWZGEye"
   },
   "outputs": [],
   "source": [
    "train_df = pd.read_csv(\n",
    "    '/kaggle/input/edsa-recommender-system-predict/train.csv')\n",
    "test_df = pd.read_csv('/kaggle/input/edsa-recommender-system-predict/test.csv')\n",
    "genome_scores_df = pd.read_csv(\n",
    "    '/kaggle/input/edsa-recommender-system-predict/genome_scores.csv')\n",
    "genome_tags_df = pd.read_csv(\n",
    "    '/kaggle/input/edsa-recommender-system-predict/genome_tags.csv')\n",
    "imdb_df = pd.read_csv(\n",
    "    '/kaggle/input/edsa-recommender-system-predict/imdb_data.csv')\n",
    "movies_df = pd.read_csv(\n",
    "    '/kaggle/input/edsa-recommender-system-predict/movies.csv')\n",
    "tags_df = pd.read_csv(\n",
    "    '/kaggle/input/edsa-recommender-system-predict/tags.csv')\n",
    "links_df = pd.read_csv(\n",
    "    '/kaggle/input/edsa-recommender-system-predict/links.csv')\n",
    "\n",
    "submission_df = pd.read_csv(\n",
    "    '/kaggle/input/edsa-recommender-system-predict/sample_submission.csv')\n"
   ]
  },
  {
   "cell_type": "markdown",
   "execution_count": null,
   "metadata": {
    "id": "5yiPJkUj3tPb"
   },
   "source": [
    "[Back to contents](#contents)"
   ]
  },
  {
   "cell_type": "markdown",
   "execution_count": null,
   "metadata": {
    "id": "3tmMzZBnGEyi"
   },
   "source": [
    "<a id='the_inspect'></a>\n",
    "## 5. Inspecting datasets"
   ]
  },
  {
   "cell_type": "markdown",
   "execution_count": null,
   "metadata": {
    "id": "4NTQZ01h3tPe"
   },
   "source": [
    "We are first going to look at the train_df and test_df from which we will be working on/with mostly throughout the project."
   ]
  },
  {
   "cell_type": "code",
   "execution_count": 5,
   "metadata": {
    "id": "92lydIwKGEyk",
    "outputId": "7940d569-cae9-45af-b616-a53374c3bf78"
   },
   "outputs": [
    {
     "data": {
      "text/html": [
       "<div>\n",
       "<style scoped>\n",
       "    .dataframe tbody tr th:only-of-type {\n",
       "        vertical-align: middle;\n",
       "    }\n",
       "\n",
       "    .dataframe tbody tr th {\n",
       "        vertical-align: top;\n",
       "    }\n",
       "\n",
       "    .dataframe thead th {\n",
       "        text-align: right;\n",
       "    }\n",
       "</style>\n",
       "<table border=\"1\" class=\"dataframe\">\n",
       "  <thead>\n",
       "    <tr style=\"text-align: right;\">\n",
       "      <th></th>\n",
       "      <th>userId</th>\n",
       "      <th>movieId</th>\n",
       "      <th>rating</th>\n",
       "      <th>timestamp</th>\n",
       "    </tr>\n",
       "  </thead>\n",
       "  <tbody>\n",
       "    <tr>\n",
       "      <th>0</th>\n",
       "      <td>5163</td>\n",
       "      <td>57669</td>\n",
       "      <td>4.0</td>\n",
       "      <td>1518349992</td>\n",
       "    </tr>\n",
       "    <tr>\n",
       "      <th>1</th>\n",
       "      <td>106343</td>\n",
       "      <td>5</td>\n",
       "      <td>4.5</td>\n",
       "      <td>1206238739</td>\n",
       "    </tr>\n",
       "    <tr>\n",
       "      <th>2</th>\n",
       "      <td>146790</td>\n",
       "      <td>5459</td>\n",
       "      <td>5.0</td>\n",
       "      <td>1076215539</td>\n",
       "    </tr>\n",
       "    <tr>\n",
       "      <th>3</th>\n",
       "      <td>106362</td>\n",
       "      <td>32296</td>\n",
       "      <td>2.0</td>\n",
       "      <td>1423042565</td>\n",
       "    </tr>\n",
       "    <tr>\n",
       "      <th>4</th>\n",
       "      <td>9041</td>\n",
       "      <td>366</td>\n",
       "      <td>3.0</td>\n",
       "      <td>833375837</td>\n",
       "    </tr>\n",
       "  </tbody>\n",
       "</table>\n",
       "</div>"
      ],
      "text/plain": [
       "   userId  movieId  rating   timestamp\n",
       "0    5163    57669     4.0  1518349992\n",
       "1  106343        5     4.5  1206238739\n",
       "2  146790     5459     5.0  1076215539\n",
       "3  106362    32296     2.0  1423042565\n",
       "4    9041      366     3.0   833375837"
      ]
     },
     "execution_count": 5,
     "metadata": {},
     "output_type": "execute_result"
    }
   ],
   "source": [
    "train_df.head()\n"
   ]
  },
  {
   "cell_type": "code",
   "execution_count": 6,
   "metadata": {
    "id": "e5SrQ7KDGEyr",
    "outputId": "68b4006f-31b2-4b72-e050-719cc5559bbc"
   },
   "outputs": [
    {
     "data": {
      "text/html": [
       "<div>\n",
       "<style scoped>\n",
       "    .dataframe tbody tr th:only-of-type {\n",
       "        vertical-align: middle;\n",
       "    }\n",
       "\n",
       "    .dataframe tbody tr th {\n",
       "        vertical-align: top;\n",
       "    }\n",
       "\n",
       "    .dataframe thead th {\n",
       "        text-align: right;\n",
       "    }\n",
       "</style>\n",
       "<table border=\"1\" class=\"dataframe\">\n",
       "  <thead>\n",
       "    <tr style=\"text-align: right;\">\n",
       "      <th></th>\n",
       "      <th>userId</th>\n",
       "      <th>movieId</th>\n",
       "    </tr>\n",
       "  </thead>\n",
       "  <tbody>\n",
       "    <tr>\n",
       "      <th>0</th>\n",
       "      <td>1</td>\n",
       "      <td>2011</td>\n",
       "    </tr>\n",
       "    <tr>\n",
       "      <th>1</th>\n",
       "      <td>1</td>\n",
       "      <td>4144</td>\n",
       "    </tr>\n",
       "    <tr>\n",
       "      <th>2</th>\n",
       "      <td>1</td>\n",
       "      <td>5767</td>\n",
       "    </tr>\n",
       "    <tr>\n",
       "      <th>3</th>\n",
       "      <td>1</td>\n",
       "      <td>6711</td>\n",
       "    </tr>\n",
       "    <tr>\n",
       "      <th>4</th>\n",
       "      <td>1</td>\n",
       "      <td>7318</td>\n",
       "    </tr>\n",
       "  </tbody>\n",
       "</table>\n",
       "</div>"
      ],
      "text/plain": [
       "   userId  movieId\n",
       "0       1     2011\n",
       "1       1     4144\n",
       "2       1     5767\n",
       "3       1     6711\n",
       "4       1     7318"
      ]
     },
     "execution_count": 6,
     "metadata": {},
     "output_type": "execute_result"
    }
   ],
   "source": [
    "test_df.head()\n"
   ]
  },
  {
   "cell_type": "markdown",
   "execution_count": null,
   "metadata": {
    "id": "jvcaDf763tP9"
   },
   "source": [
    "From the above dataframe we can draw that the number of features in each matches those explained and mentioned in the [data overview](#the_over) section. Then we go further to check the missing values in the dataframes."
   ]
  },
  {
   "cell_type": "markdown",
   "execution_count": null,
   "metadata": {
    "id": "iF28zpm6GEyv"
   },
   "source": [
    "### Check missing values"
   ]
  },
  {
   "cell_type": "code",
   "execution_count": 7,
   "metadata": {
    "id": "LwHQLXMrGEyw",
    "outputId": "197bb4b6-2b7f-4a21-aaa3-9b402d955628"
   },
   "outputs": [
    {
     "name": "stdout",
     "output_type": "stream",
     "text": [
      "userId       0\n",
      "movieId      0\n",
      "rating       0\n",
      "timestamp    0\n",
      "dtype: int64\n",
      "(10000038, 4)\n"
     ]
    }
   ],
   "source": [
    "print(train_df.isnull().sum())\n",
    "print(train_df.shape)\n"
   ]
  },
  {
   "cell_type": "markdown",
   "execution_count": null,
   "metadata": {
    "id": "h4ByLZqaGEy1"
   },
   "source": [
    "The train dataset has no missing values and has `10000038` values. Let's now check out the movies dataset."
   ]
  },
  {
   "cell_type": "code",
   "execution_count": 8,
   "metadata": {
    "id": "ee29z2mPGEy1",
    "outputId": "c1f2580b-4f21-4adb-d01b-e86a31e32d78"
   },
   "outputs": [
    {
     "data": {
      "text/html": [
       "<div>\n",
       "<style scoped>\n",
       "    .dataframe tbody tr th:only-of-type {\n",
       "        vertical-align: middle;\n",
       "    }\n",
       "\n",
       "    .dataframe tbody tr th {\n",
       "        vertical-align: top;\n",
       "    }\n",
       "\n",
       "    .dataframe thead th {\n",
       "        text-align: right;\n",
       "    }\n",
       "</style>\n",
       "<table border=\"1\" class=\"dataframe\">\n",
       "  <thead>\n",
       "    <tr style=\"text-align: right;\">\n",
       "      <th></th>\n",
       "      <th>movieId</th>\n",
       "      <th>title</th>\n",
       "      <th>genres</th>\n",
       "    </tr>\n",
       "  </thead>\n",
       "  <tbody>\n",
       "    <tr>\n",
       "      <th>0</th>\n",
       "      <td>1</td>\n",
       "      <td>Toy Story (1995)</td>\n",
       "      <td>Adventure|Animation|Children|Comedy|Fantasy</td>\n",
       "    </tr>\n",
       "    <tr>\n",
       "      <th>1</th>\n",
       "      <td>2</td>\n",
       "      <td>Jumanji (1995)</td>\n",
       "      <td>Adventure|Children|Fantasy</td>\n",
       "    </tr>\n",
       "    <tr>\n",
       "      <th>2</th>\n",
       "      <td>3</td>\n",
       "      <td>Grumpier Old Men (1995)</td>\n",
       "      <td>Comedy|Romance</td>\n",
       "    </tr>\n",
       "    <tr>\n",
       "      <th>3</th>\n",
       "      <td>4</td>\n",
       "      <td>Waiting to Exhale (1995)</td>\n",
       "      <td>Comedy|Drama|Romance</td>\n",
       "    </tr>\n",
       "    <tr>\n",
       "      <th>4</th>\n",
       "      <td>5</td>\n",
       "      <td>Father of the Bride Part II (1995)</td>\n",
       "      <td>Comedy</td>\n",
       "    </tr>\n",
       "  </tbody>\n",
       "</table>\n",
       "</div>"
      ],
      "text/plain": [
       "   movieId                               title  \\\n",
       "0        1                    Toy Story (1995)   \n",
       "1        2                      Jumanji (1995)   \n",
       "2        3             Grumpier Old Men (1995)   \n",
       "3        4            Waiting to Exhale (1995)   \n",
       "4        5  Father of the Bride Part II (1995)   \n",
       "\n",
       "                                        genres  \n",
       "0  Adventure|Animation|Children|Comedy|Fantasy  \n",
       "1                   Adventure|Children|Fantasy  \n",
       "2                               Comedy|Romance  \n",
       "3                         Comedy|Drama|Romance  \n",
       "4                                       Comedy  "
      ]
     },
     "execution_count": 8,
     "metadata": {},
     "output_type": "execute_result"
    }
   ],
   "source": [
    "movies_df.head()\n"
   ]
  },
  {
   "cell_type": "markdown",
   "execution_count": null,
   "metadata": {
    "id": "BERbk8wdGEy5"
   },
   "source": [
    "We now check if there any movies that are duplicated or if there are any missing genres."
   ]
  },
  {
   "cell_type": "code",
   "execution_count": 9,
   "metadata": {
    "id": "QkagfnOjGEy6",
    "outputId": "bc29b139-9f8c-4981-be85-ea34eb5766c0"
   },
   "outputs": [
    {
     "name": "stdout",
     "output_type": "stream",
     "text": [
      "Number of duplicate rows = 98\n"
     ]
    }
   ],
   "source": [
    "movies_df.loc[movies_df[\"title\"].duplicated() == True]\n",
    "duplicates = movies_df.duplicated([\"title\"])\n",
    "print(\"Number of duplicate rows = \"+str(duplicates.sum()))\n"
   ]
  },
  {
   "cell_type": "markdown",
   "execution_count": null,
   "metadata": {
    "id": "Uu4idVSaGEzD"
   },
   "source": [
    "We will drop these duplicates later on. Now let's check which movies have no genres."
   ]
  },
  {
   "cell_type": "code",
   "execution_count": 10,
   "metadata": {
    "id": "gTK0hz1CGEzD",
    "outputId": "8a8e9375-c6e8-4224-d332-b036df22b0f3"
   },
   "outputs": [
    {
     "data": {
      "text/html": [
       "<div>\n",
       "<style scoped>\n",
       "    .dataframe tbody tr th:only-of-type {\n",
       "        vertical-align: middle;\n",
       "    }\n",
       "\n",
       "    .dataframe tbody tr th {\n",
       "        vertical-align: top;\n",
       "    }\n",
       "\n",
       "    .dataframe thead th {\n",
       "        text-align: right;\n",
       "    }\n",
       "</style>\n",
       "<table border=\"1\" class=\"dataframe\">\n",
       "  <thead>\n",
       "    <tr style=\"text-align: right;\">\n",
       "      <th></th>\n",
       "      <th>movieId</th>\n",
       "      <th>title</th>\n",
       "      <th>genres</th>\n",
       "    </tr>\n",
       "  </thead>\n",
       "  <tbody>\n",
       "    <tr>\n",
       "      <th>15881</th>\n",
       "      <td>83773</td>\n",
       "      <td>Away with Words (San tiao ren) (1999)</td>\n",
       "      <td>(no genres listed)</td>\n",
       "    </tr>\n",
       "    <tr>\n",
       "      <th>16060</th>\n",
       "      <td>84768</td>\n",
       "      <td>Glitterbug (1994)</td>\n",
       "      <td>(no genres listed)</td>\n",
       "    </tr>\n",
       "    <tr>\n",
       "      <th>16351</th>\n",
       "      <td>86493</td>\n",
       "      <td>Age of the Earth, The (A Idade da Terra) (1980)</td>\n",
       "      <td>(no genres listed)</td>\n",
       "    </tr>\n",
       "    <tr>\n",
       "      <th>16491</th>\n",
       "      <td>87061</td>\n",
       "      <td>Trails (Veredas) (1978)</td>\n",
       "      <td>(no genres listed)</td>\n",
       "    </tr>\n",
       "    <tr>\n",
       "      <th>17404</th>\n",
       "      <td>91246</td>\n",
       "      <td>Milky Way (Tejút) (2007)</td>\n",
       "      <td>(no genres listed)</td>\n",
       "    </tr>\n",
       "  </tbody>\n",
       "</table>\n",
       "</div>"
      ],
      "text/plain": [
       "       movieId                                            title  \\\n",
       "15881    83773            Away with Words (San tiao ren) (1999)   \n",
       "16060    84768                                Glitterbug (1994)   \n",
       "16351    86493  Age of the Earth, The (A Idade da Terra) (1980)   \n",
       "16491    87061                          Trails (Veredas) (1978)   \n",
       "17404    91246                         Milky Way (Tejút) (2007)   \n",
       "\n",
       "                   genres  \n",
       "15881  (no genres listed)  \n",
       "16060  (no genres listed)  \n",
       "16351  (no genres listed)  \n",
       "16491  (no genres listed)  \n",
       "17404  (no genres listed)  "
      ]
     },
     "execution_count": 10,
     "metadata": {},
     "output_type": "execute_result"
    }
   ],
   "source": [
    "# check movies with missing genres\n",
    "movies_df.loc[movies_df[\"genres\"] == \"(no genres listed)\"].head()\n"
   ]
  },
  {
   "cell_type": "markdown",
   "execution_count": null,
   "metadata": {
    "id": "JmJECmaFGEzG"
   },
   "source": [
    "A total of 5062 movies in the dataframe have no genre listed. For simplicity purposes we will rename these to `not_listed` later on. Another thing that is quite unsettling is the way the movie titles are messy and contain articles after their release year. This leads us to the end of dataframe introspection and into the data cleaning."
   ]
  },
  {
   "cell_type": "markdown",
   "execution_count": null,
   "metadata": {
    "id": "q8V1d9Ml3tRN"
   },
   "source": [
    "[Back to contents](#contents)"
   ]
  },
  {
   "cell_type": "markdown",
   "execution_count": null,
   "metadata": {
    "id": "2wDOXIGyGEzH"
   },
   "source": [
    "<a id='the_clean'></a>\n",
    "## 6. Data cleaning"
   ]
  },
  {
   "cell_type": "markdown",
   "execution_count": null,
   "metadata": {
    "id": "_xcG3MCiGEzJ"
   },
   "source": [
    "It is time to clean our data after doing inspections. Data cleaning entails `dropping unnecessary columns`, `imputation of missing values`, `handling duplicates`, `fixing data types`, `name conversions`, etc. In this section we will start off by dropping features that wil be of no value to the project."
   ]
  },
  {
   "cell_type": "markdown",
   "execution_count": null,
   "metadata": {
    "id": "5kyJLmUrGEzJ"
   },
   "source": [
    "### Drop columns"
   ]
  },
  {
   "cell_type": "markdown",
   "execution_count": null,
   "metadata": {
    "id": "wBsDSFcd3tRY"
   },
   "source": [
    "The timestamp does not have any predicitive power and does not give us any usefull information. Knowing when the user gave a rating seems to have no effect. So we drop this column."
   ]
  },
  {
   "cell_type": "code",
   "execution_count": 11,
   "metadata": {
    "id": "71oby4evGEzK"
   },
   "outputs": [],
   "source": [
    "df = train_df.copy(deep=True)\n"
   ]
  },
  {
   "cell_type": "code",
   "execution_count": 12,
   "metadata": {
    "id": "f2h0u6iCGEzO"
   },
   "outputs": [],
   "source": [
    "df = df.iloc[:, :-1]\n"
   ]
  },
  {
   "cell_type": "markdown",
   "execution_count": null,
   "metadata": {
    "id": "XafVqno-GEzU"
   },
   "source": [
    "### Drop duplicates "
   ]
  },
  {
   "cell_type": "markdown",
   "execution_count": null,
   "metadata": {
    "id": "el6o4DhmGEzU"
   },
   "source": [
    "At least 98 movie titles are duplicated in the movies database at least once. However, the `movieId` and `titles` are different. But since it's the same movie,the duplicates need to be deleted. Only keep the title with the most genres as this one has more information. Let us see the difference between the duplicated movies."
   ]
  },
  {
   "cell_type": "code",
   "execution_count": 13,
   "metadata": {
    "id": "XcGbnzDuGEzV",
    "outputId": "a2bb796f-53c9-4c22-db7a-b451231b5093"
   },
   "outputs": [
    {
     "data": {
      "text/html": [
       "<div>\n",
       "<style scoped>\n",
       "    .dataframe tbody tr th:only-of-type {\n",
       "        vertical-align: middle;\n",
       "    }\n",
       "\n",
       "    .dataframe tbody tr th {\n",
       "        vertical-align: top;\n",
       "    }\n",
       "\n",
       "    .dataframe thead th {\n",
       "        text-align: right;\n",
       "    }\n",
       "</style>\n",
       "<table border=\"1\" class=\"dataframe\">\n",
       "  <thead>\n",
       "    <tr style=\"text-align: right;\">\n",
       "      <th></th>\n",
       "      <th>movieId</th>\n",
       "      <th>title</th>\n",
       "      <th>genres</th>\n",
       "    </tr>\n",
       "  </thead>\n",
       "  <tbody>\n",
       "    <tr>\n",
       "      <th>27081</th>\n",
       "      <td>128255</td>\n",
       "      <td>The Plague (2006)</td>\n",
       "      <td>Documentary|Horror|Thriller</td>\n",
       "    </tr>\n",
       "    <tr>\n",
       "      <th>61800</th>\n",
       "      <td>206925</td>\n",
       "      <td>The Plague (2006)</td>\n",
       "      <td>Documentary</td>\n",
       "    </tr>\n",
       "  </tbody>\n",
       "</table>\n",
       "</div>"
      ],
      "text/plain": [
       "       movieId              title                       genres\n",
       "27081   128255  The Plague (2006)  Documentary|Horror|Thriller\n",
       "61800   206925  The Plague (2006)                  Documentary"
      ]
     },
     "execution_count": 13,
     "metadata": {},
     "output_type": "execute_result"
    }
   ],
   "source": [
    "# Random check differences between first & second occurance of title in movies\n",
    "movies_df.loc[movies_df[\"title\"] == \"The Plague (2006)\"] \n"
   ]
  },
  {
   "cell_type": "markdown",
   "execution_count": null,
   "metadata": {
    "id": "MiZmQHuc3tST"
   },
   "source": [
    "Inspecting random duplication shows that the first occourance of the movies title has more genres,so we are going to keep first occurance."
   ]
  },
  {
   "cell_type": "code",
   "execution_count": 14,
   "metadata": {
    "id": "f7j-JMsXGEzZ"
   },
   "outputs": [],
   "source": [
    "# Dropping duplicated movie titles\n",
    "movies_df = movies_df.drop(\n",
    "    movies_df.loc[movies_df[\"title\"].duplicated(keep='first') == True].index)\n"
   ]
  },
  {
   "cell_type": "markdown",
   "execution_count": null,
   "metadata": {
    "id": "QlKXiuDC3tSj"
   },
   "source": [
    "We then check for duplicates again to see if they are all removed."
   ]
  },
  {
   "cell_type": "code",
   "execution_count": 15,
   "metadata": {
    "id": "1aWj4Trd3tSm",
    "outputId": "07a1f87a-1dd3-48bf-f3f6-207110d3b7fd"
   },
   "outputs": [
    {
     "data": {
      "text/plain": [
       "movieId    0\n",
       "title      0\n",
       "genres     0\n",
       "dtype: int64"
      ]
     },
     "execution_count": 15,
     "metadata": {},
     "output_type": "execute_result"
    }
   ],
   "source": [
    "movies_df.loc[movies_df[\"title\"].duplicated(keep='first') == True].count()\n"
   ]
  },
  {
   "cell_type": "markdown",
   "execution_count": null,
   "metadata": {
    "id": "6oGlQwMJGEzc"
   },
   "source": [
    "Now we see that the number of duplicates is zero.\n",
    "<br>\n",
    "\n",
    "`Number of duplicate rows = 0`"
   ]
  },
  {
   "cell_type": "markdown",
   "execution_count": null,
   "metadata": {
    "id": "0Tkk3tYkGEzd"
   },
   "source": [
    "### Fixing format in the genres"
   ]
  },
  {
   "cell_type": "markdown",
   "execution_count": null,
   "metadata": {
    "id": "IoFuvZaJGEzd"
   },
   "source": [
    "In the case where the genre is `\"(no genre listed)\"` , movies to not_listed rename as `\"Not_listed\"` .This allows for easy manangement of genre column."
   ]
  },
  {
   "cell_type": "code",
   "execution_count": 16,
   "metadata": {
    "id": "F9XVmuWzGEzj"
   },
   "outputs": [],
   "source": [
    "movies_df[\"genres\"] = movies_df[\"genres\"].str.replace(\n",
    "    \"(no genres listed)\", \"Not_listed\", regex=False)\n",
    "\n"
   ]
  },
  {
   "cell_type": "markdown",
   "execution_count": null,
   "metadata": {
    "id": "n3E2MbA8GEzm"
   },
   "source": [
    "Next, change the separator in the genres."
   ]
  },
  {
   "cell_type": "code",
   "execution_count": 17,
   "metadata": {
    "id": "3HDDEdVMGEzn"
   },
   "outputs": [
    {
     "data": {
      "text/html": [
       "<div>\n",
       "<style scoped>\n",
       "    .dataframe tbody tr th:only-of-type {\n",
       "        vertical-align: middle;\n",
       "    }\n",
       "\n",
       "    .dataframe tbody tr th {\n",
       "        vertical-align: top;\n",
       "    }\n",
       "\n",
       "    .dataframe thead th {\n",
       "        text-align: right;\n",
       "    }\n",
       "</style>\n",
       "<table border=\"1\" class=\"dataframe\">\n",
       "  <thead>\n",
       "    <tr style=\"text-align: right;\">\n",
       "      <th></th>\n",
       "      <th>movieId</th>\n",
       "      <th>title</th>\n",
       "      <th>genres</th>\n",
       "    </tr>\n",
       "  </thead>\n",
       "  <tbody>\n",
       "    <tr>\n",
       "      <th>0</th>\n",
       "      <td>1</td>\n",
       "      <td>Toy Story (1995)</td>\n",
       "      <td>Adventure Animation Children Comedy Fantasy</td>\n",
       "    </tr>\n",
       "    <tr>\n",
       "      <th>1</th>\n",
       "      <td>2</td>\n",
       "      <td>Jumanji (1995)</td>\n",
       "      <td>Adventure Children Fantasy</td>\n",
       "    </tr>\n",
       "    <tr>\n",
       "      <th>2</th>\n",
       "      <td>3</td>\n",
       "      <td>Grumpier Old Men (1995)</td>\n",
       "      <td>Comedy Romance</td>\n",
       "    </tr>\n",
       "    <tr>\n",
       "      <th>3</th>\n",
       "      <td>4</td>\n",
       "      <td>Waiting to Exhale (1995)</td>\n",
       "      <td>Comedy Drama Romance</td>\n",
       "    </tr>\n",
       "    <tr>\n",
       "      <th>4</th>\n",
       "      <td>5</td>\n",
       "      <td>Father of the Bride Part II (1995)</td>\n",
       "      <td>Comedy</td>\n",
       "    </tr>\n",
       "  </tbody>\n",
       "</table>\n",
       "</div>"
      ],
      "text/plain": [
       "   movieId                               title  \\\n",
       "0        1                    Toy Story (1995)   \n",
       "1        2                      Jumanji (1995)   \n",
       "2        3             Grumpier Old Men (1995)   \n",
       "3        4            Waiting to Exhale (1995)   \n",
       "4        5  Father of the Bride Part II (1995)   \n",
       "\n",
       "                                        genres  \n",
       "0  Adventure Animation Children Comedy Fantasy  \n",
       "1                   Adventure Children Fantasy  \n",
       "2                               Comedy Romance  \n",
       "3                         Comedy Drama Romance  \n",
       "4                                       Comedy  "
      ]
     },
     "execution_count": 17,
     "metadata": {},
     "output_type": "execute_result"
    }
   ],
   "source": [
    "# change the separator between genres\n",
    "movies_df[\"genres\"] = movies_df[\"genres\"].str.replace(\"|\", \" \", regex=False)\n",
    "# Check movies_df\n",
    "movies_df.head()\n"
   ]
  },
  {
   "cell_type": "markdown",
   "execution_count": null,
   "metadata": {
    "id": "b9pDUtJvGEzs"
   },
   "source": [
    "### Merging Datasets"
   ]
  },
  {
   "cell_type": "markdown",
   "execution_count": null,
   "metadata": {
    "id": "puT1w6_7GEzt"
   },
   "source": [
    "Let's merge the datasets. For the purposes of this project we will only fix our focus on the `train_df` and the `movies_df`. Merge the two datasets. Although for the ratings predictions we will not need this dataframe, but when we make movie recommendations we will use it."
   ]
  },
  {
   "cell_type": "code",
   "execution_count": 18,
   "metadata": {
    "id": "X8DQJ0nmGEzu"
   },
   "outputs": [],
   "source": [
    "# Merge dataframes on common column\n",
    "df_movie_info = pd.merge(train_df,movies_df,on = \"movieId\")\n"
   ]
  },
  {
   "cell_type": "markdown",
   "execution_count": null,
   "metadata": {
    "id": "DBvX1aeLGEzx"
   },
   "source": [
    "We will now create a movies_merge, a datframe that will combine both the movies and imdb dataframes into one that will be useful for the EDA section. This dataframe will contain a new column year, which is a year in which movies were made. In this dataframe, has all the currencies that are not US dollars dropped and the entire column changed to numerical values."
   ]
  },
  {
   "cell_type": "code",
   "execution_count": 19,
   "metadata": {
    "id": "-zsD6N9fGEzy",
    "outputId": "1e978727-411b-4eb7-e6cd-e5c34d3f4369"
   },
   "outputs": [
    {
     "data": {
      "text/html": [
       "<div>\n",
       "<style scoped>\n",
       "    .dataframe tbody tr th:only-of-type {\n",
       "        vertical-align: middle;\n",
       "    }\n",
       "\n",
       "    .dataframe tbody tr th {\n",
       "        vertical-align: top;\n",
       "    }\n",
       "\n",
       "    .dataframe thead th {\n",
       "        text-align: right;\n",
       "    }\n",
       "</style>\n",
       "<table border=\"1\" class=\"dataframe\">\n",
       "  <thead>\n",
       "    <tr style=\"text-align: right;\">\n",
       "      <th></th>\n",
       "      <th>movieId</th>\n",
       "      <th>title</th>\n",
       "      <th>genres</th>\n",
       "      <th>runtime</th>\n",
       "      <th>budget</th>\n",
       "      <th>year</th>\n",
       "    </tr>\n",
       "  </thead>\n",
       "  <tbody>\n",
       "    <tr>\n",
       "      <th>0</th>\n",
       "      <td>1</td>\n",
       "      <td>Toy Story (1995)</td>\n",
       "      <td>Adventure Animation Children Comedy Fantasy</td>\n",
       "      <td>81.0</td>\n",
       "      <td>30000000.0</td>\n",
       "      <td>1995.0</td>\n",
       "    </tr>\n",
       "  </tbody>\n",
       "</table>\n",
       "</div>"
      ],
      "text/plain": [
       "   movieId             title                                       genres  \\\n",
       "0        1  Toy Story (1995)  Adventure Animation Children Comedy Fantasy   \n",
       "\n",
       "   runtime      budget    year  \n",
       "0     81.0  30000000.0  1995.0  "
      ]
     },
     "execution_count": 19,
     "metadata": {},
     "output_type": "execute_result"
    }
   ],
   "source": [
    "# merge movies_df and imdb_df on a common column ,i.e \"movieId\"\n",
    "movies_merge = pd.merge(\n",
    "    movies_df, imdb_df[['runtime', \"movieId\", 'budget', ]], on=\"movieId\")\n",
    "movies_merge['year'] = movies_merge['title'].str.split().str[-1]\n",
    "movies_merge[\"year\"] = movies_merge[\"year\"].str.replace(\"(\", \"\", regex=False)\n",
    "movies_merge[\"year\"] = movies_merge[\"year\"].str.replace(\")\", \"\", regex=False)\n",
    "movies_merge = movies_merge[~movies_merge['year'].str.contains(\n",
    "    '[A-z]', na=False)]\n",
    "movies_merge = movies_merge[~movies_merge['year'].str.contains(\n",
    "    '[a-z]', na=False)]\n",
    "movies_merge[\"year\"] = movies_merge[\"year\"].astype(float)\n",
    "movies_merge1 = movies_merge.copy()\n",
    "movies_merge = movies_merge.dropna()\n",
    "movies_merge = movies_merge[movies_merge['budget'].str.startswith('$')]\n",
    "movies_merge[\"budget\"] = movies_merge[\"budget\"].str.replace(\n",
    "    \"$\", \"\", regex=False)\n",
    "movies_merge[\"budget\"] = movies_merge[\"budget\"].str.replace(\n",
    "    \",\", \"\", regex=False)\n",
    "movies_merge[\"budget\"] = movies_merge[\"budget\"].astype(float)\n",
    "movies_merge.head(1)\n"
   ]
  },
  {
   "cell_type": "markdown",
   "execution_count": null,
   "metadata": {
    "id": "0kbIpG4s3tT0"
   },
   "source": [
    "[Back to contents](#contents)"
   ]
  },
  {
   "cell_type": "markdown",
   "execution_count": null,
   "metadata": {
    "id": "Ossh5yN_GEz1"
   },
   "source": [
    "<a id='the_eda'></a>\n",
    "## 7. Exploratory Data Analysis"
   ]
  },
  {
   "cell_type": "markdown",
   "execution_count": null,
   "metadata": {
    "id": "Bgwj7dofGEz2"
   },
   "source": [
    "### Basic statistics"
   ]
  },
  {
   "cell_type": "markdown",
   "execution_count": null,
   "metadata": {
    "id": "v7TyX-R5GEz2"
   },
   "source": [
    "Before we dive in EDA, let's first see do some basic summary statistics."
   ]
  },
  {
   "cell_type": "code",
   "execution_count": 20,
   "metadata": {
    "id": "_01PFLRzGEz3",
    "outputId": "4ccdedae-938e-4c31-e9e7-8db93380fdba"
   },
   "outputs": [
    {
     "name": "stdout",
     "output_type": "stream",
     "text": [
      "Summary of df:\n",
      "Number of unique movies = 48213\n",
      "Number of unique users = 162541\n",
      "Total number of movie ratings = 10000038\n"
     ]
    }
   ],
   "source": [
    "print(\"Summary of df:\")\n",
    "print(\"Number of unique movies = \" + str(len(np.unique(df[\"movieId\"]))))\n",
    "print(\"Number of unique users = \" + str(len(np.unique(df[\"userId\"]))))\n",
    "print(\"Total number of movie ratings = \" + str(df.shape[0]))\n"
   ]
  },
  {
   "cell_type": "markdown",
   "execution_count": null,
   "metadata": {
    "id": "L6HWdjJRGEz6"
   },
   "source": [
    "### User behaviour analysis"
   ]
  },
  {
   "cell_type": "code",
   "execution_count": 21,
   "metadata": {
    "id": "Rc5k8Y54GEz6",
    "outputId": "1c2ef022-4930-496e-b509-e237959ee31e"
   },
   "outputs": [
    {
     "data": {
      "text/plain": [
       "userId\n",
       "72315     12934\n",
       "80974      3679\n",
       "137293     3586\n",
       "33844      3207\n",
       "20055      3050\n",
       "109731     2670\n",
       "49403      2667\n",
       "92046      2578\n",
       "110971     2287\n",
       "30879      2283\n",
       "Name: rating, dtype: int64"
      ]
     },
     "execution_count": 21,
     "metadata": {},
     "output_type": "execute_result"
    }
   ],
   "source": [
    "no_of_rated_movies_per_user = df_movie_info.copy(deep=True)\n",
    "no_of_rated_movies_per_user[\n",
    "    'user_ratings'] = no_of_rated_movies_per_user.groupby(\n",
    "        by=\"userId\")[\"rating\"].count().sort_values(ascending=False)\n",
    "no_of_rated_movies_per_user.groupby(\n",
    "    by=\"userId\")[\"rating\"].count().sort_values(ascending=False)[:10]\n"
   ]
  },
  {
   "cell_type": "markdown",
   "execution_count": null,
   "metadata": {
    "id": "ZQd_hFVyGEz9"
   },
   "source": [
    "User `72315` has rated the most movies. 12% of the ratings are from this user.Every user has rated a movie at some point ,with 6 users having only rated one movie.\n",
    "A possible reason why some users have fewer rating than either may be linked to how long they have been with the movie service .Users who have been using the service for a long time are most likely to have the most ratings because they  have seem a lot of movies.\n",
    "Let's see if users actually give ratings for movies they liked or movies they did not like."
   ]
  },
  {
   "cell_type": "code",
   "execution_count": 22,
   "metadata": {
    "id": "dlI6WnHD3tUn",
    "outputId": "9536ec8d-b218-4825-a39d-e5c520d99fb2"
   },
   "outputs": [
    {
     "name": "stdout",
     "output_type": "stream",
     "text": [
      "Summary of user ratings: \n",
      "Highest number of ratings by single user in database = 12934\n",
      "Lowest number of ratings by single user of in database = 1\n"
     ]
    }
   ],
   "source": [
    "print(\"Summary of user ratings: \")\n",
    "print(\"Highest number of ratings by single user in database = \" + str(\n",
    "    max(no_of_rated_movies_per_user.groupby(\n",
    "        by=\"userId\")[\"rating\"].count().sort_values(ascending=False))))\n",
    "\n",
    "print(\"Lowest number of ratings by single user of in database = \" + str(\n",
    "    min(no_of_rated_movies_per_user.groupby(\n",
    "        by=\"userId\")[\"rating\"].count().sort_values(ascending=False))))\n"
   ]
  },
  {
   "cell_type": "code",
   "execution_count": 23,
   "metadata": {
    "id": "BjDT3lCgGEz-",
    "outputId": "302aaef4-656a-42be-b5eb-61b4806f539a"
   },
   "outputs": [
    {
     "data": {
      "image/png": "[encoded data removed]",
      "text/plain": [
       "<Figure size 720x504 with 1 Axes>"
      ]
     },
     "metadata": {
      "needs_background": "light"
     },
     "output_type": "display_data"
    }
   ],
   "source": [
    "plt.figure(figsize=(10, 7))\n",
    "plt.title('Distribution of the number of ratings per user')\n",
    "plt.xlabel('Ratings per userId')\n",
    "plt.ylabel('Count')\n",
    "plt.xlim(0, 1100)\n",
    "no_of_rated_movies_per_user.groupby(\n",
    "    by=\"userId\")[\"rating\"].count().plot.hist(\n",
    "        bins=100, color='tan', edgecolor='black', linewidth=0.5)\n",
    "experiment.log_figure(\n",
    "    figure=plt, figure_name='Distribution of the number of ratings per user')\n",
    "plt.grid(False)\n",
    "\n",
    "plt.show()\n"
   ]
  },
  {
   "cell_type": "markdown",
   "execution_count": null,
   "metadata": {
    "id": "7KpTwLjdGE0A"
   },
   "source": [
    "Most people find it tedious to give ratings and do not. As we can see that only a few users actually gave ratings.It is possible to have users who leave no ratings .In the case of new users ,they would not have had the opportunity to leave ratings. This is one of the biggest challenges in collaborative based recommender systems, `the cold start problem`, having to deal with a situation where a user does not give a rating, making it hard to make recommendations. The Cold start is a potential problem in computer-based information systems which involve a degree of automated data modelling. Specifically, it concerns the issue that the system cannot draw any inferences for users or items about which it has not yet gathered sufficient information.The more user actions an item has, the easier it is to tell which user would be interested in it and what other items are similar to it. As time progresses, the system will be able to give more and more accurate recommendations.\n",
    "\n",
    "One way to address the cold start problem would be to give incentives to encourage users to leave ratings after a movie.Users are more likely to leave a rating if they are rewarded for it .For new users ,the alternative would be to always recommend the newest/most popular movies in the database."
   ]
  },
  {
   "cell_type": "markdown",
   "execution_count": null,
   "metadata": {
    "id": "KGRASGJAGE0B"
   },
   "source": [
    "### Movie ratings analysis"
   ]
  },
  {
   "cell_type": "markdown",
   "execution_count": null,
   "metadata": {
    "id": "021bWz1WGE0C"
   },
   "source": [
    "Now let's take a look at the average rating of each movie. To do so, we can group the dataset by the title of the movie and then calculate the mean of the rating for each movie.\n",
    "\n"
   ]
  },
  {
   "cell_type": "code",
   "execution_count": 24,
   "metadata": {
    "id": "3pMndwSAGE0D",
    "outputId": "ee4debdd-e98b-45b5-ca2a-2879b7f7de20"
   },
   "outputs": [
    {
     "data": {
      "text/plain": [
       "title\n",
       "Detective Conan: The Raven Chaser (2009)    5.0\n",
       "Rockabilly Zombie Weekend (2013)            5.0\n",
       "Sweaty Betty (2015)                         5.0\n",
       "Robert Williams Mr. Bitchin' (2013)         5.0\n",
       "Day the Universe Changed, The (1985)        5.0\n",
       "Name: rating, dtype: float64"
      ]
     },
     "execution_count": 24,
     "metadata": {},
     "output_type": "execute_result"
    }
   ],
   "source": [
    "# Analysis of ratings per movie\n",
    "# view the avarage ratings per movie\n",
    "ratings_per_movie = df_movie_info.groupby(\n",
    "    by=\"title\")[\"rating\"].mean().sort_values(ascending=True)\n",
    "ratings_per_movie.tail()  # top 5 movies!!!\n"
   ]
  },
  {
   "cell_type": "markdown",
   "execution_count": null,
   "metadata": {
    "id": "s2bLQr3OGE0I"
   },
   "source": [
    "The movies have now been sorted according to the ascending order of their ratings. However, there is a problem. A movie can make it to the top of the above list even if only a single user has given it five stars. Therefore, the above stats can be misleading. Normally, a movie which is really a good one gets a higher rating by a large number of users.We need to explore the number of ratings per movie."
   ]
  },
  {
   "cell_type": "code",
   "execution_count": 25,
   "metadata": {
    "id": "26YBn71pGE0J",
    "outputId": "8c5d3b37-4feb-4346-aa45-93c57b61a33c"
   },
   "outputs": [
    {
     "data": {
      "text/plain": [
       "title\n",
       "Shawshank Redemption, The (1994)             32831\n",
       "Forrest Gump (1994)                          32383\n",
       "Pulp Fiction (1994)                          31697\n",
       "Silence of the Lambs, The (1991)             29444\n",
       "Matrix, The (1999)                           29014\n",
       "Star Wars: Episode IV - A New Hope (1977)    27560\n",
       "Jurassic Park (1993)                         25518\n",
       "Schindler's List (1993)                      24004\n",
       "Braveheart (1995)                            23722\n",
       "Fight Club (1999)                            23536\n",
       "Name: rating, dtype: int64"
      ]
     },
     "execution_count": 25,
     "metadata": {},
     "output_type": "execute_result"
    }
   ],
   "source": [
    "df_movie_info.groupby('title')['rating'].count().sort_values(\n",
    "    ascending=False)[:10]\n"
   ]
  },
  {
   "cell_type": "markdown",
   "execution_count": null,
   "metadata": {
    "id": "cC9vWXziGE0N"
   },
   "source": [
    "When we look at the number of ratings per movie ,the Most rated movie ,which is The Shawshank Redemption, did not come up top when looking at movies with the highest ratings .At 32831 total ratings ,This movie has an avarage rating of 4.4 .This is more represantative of how users feel in general about about the movie because it has been rated many times .It is important however to note that both the average rating per movie and the number of ratings per movie are important attributes .We can create a new dataframe that contains both of these attributes."
   ]
  },
  {
   "cell_type": "code",
   "execution_count": 26,
   "metadata": {
    "id": "KFV-CI0h3tVQ",
    "outputId": "b26bc21c-4e2e-4193-d3b3-1a5ab0676447"
   },
   "outputs": [
    {
     "data": {
      "image/png": "[encoded data removed]",
      "text/plain": [
       "<Figure size 720x504 with 1 Axes>"
      ]
     },
     "metadata": {
      "needs_background": "light"
     },
     "output_type": "display_data"
    }
   ],
   "source": [
    "plt.figure(figsize=(10, 7))\n",
    "plt.title('Ratings per MovieId')\n",
    "plt.xlabel('Movie Id')\n",
    "plt.ylabel('Count')\n",
    "plt.xlim(0, 13500)\n",
    "df_movie_info.groupby('title')['rating'].count().plot.hist(\n",
    "    bins=10, color='lime', edgecolor='black', linewidth=0.5)\n",
    "experiment.log_figure(figure=plt, figure_name='Ratings per Movie')\n",
    "plt.show()\n"
   ]
  },
  {
   "cell_type": "markdown",
   "execution_count": null,
   "metadata": {
    "id": "IzxemiWY3tVW"
   },
   "source": [
    "We have only a small portion of movies that got many ratings,these must be the most popular movies."
   ]
  },
  {
   "cell_type": "code",
   "execution_count": 27,
   "metadata": {
    "id": "f41SrV603tVX",
    "outputId": "78366bff-7fc9-465c-8a21-e2b3f823414f"
   },
   "outputs": [
    {
     "data": {
      "text/html": [
       "<div>\n",
       "<style scoped>\n",
       "    .dataframe tbody tr th:only-of-type {\n",
       "        vertical-align: middle;\n",
       "    }\n",
       "\n",
       "    .dataframe tbody tr th {\n",
       "        vertical-align: top;\n",
       "    }\n",
       "\n",
       "    .dataframe thead th {\n",
       "        text-align: right;\n",
       "    }\n",
       "</style>\n",
       "<table border=\"1\" class=\"dataframe\">\n",
       "  <thead>\n",
       "    <tr style=\"text-align: right;\">\n",
       "      <th></th>\n",
       "      <th>rating</th>\n",
       "      <th>rating_counts</th>\n",
       "    </tr>\n",
       "    <tr>\n",
       "      <th>title</th>\n",
       "      <th></th>\n",
       "      <th></th>\n",
       "    </tr>\n",
       "  </thead>\n",
       "  <tbody>\n",
       "    <tr>\n",
       "      <th>\"BLOW THE NIGHT!\" Let's Spend the Night Together (1983)</th>\n",
       "      <td>3.000000</td>\n",
       "      <td>1</td>\n",
       "    </tr>\n",
       "    <tr>\n",
       "      <th>\"Great Performances\" Cats (1998)</th>\n",
       "      <td>2.753731</td>\n",
       "      <td>67</td>\n",
       "    </tr>\n",
       "    <tr>\n",
       "      <th>#1 Cheerleader Camp (2010)</th>\n",
       "      <td>1.900000</td>\n",
       "      <td>5</td>\n",
       "    </tr>\n",
       "    <tr>\n",
       "      <th>#Female Pleasure (2018)</th>\n",
       "      <td>4.000000</td>\n",
       "      <td>1</td>\n",
       "    </tr>\n",
       "    <tr>\n",
       "      <th>#FollowMe (2019)</th>\n",
       "      <td>2.400000</td>\n",
       "      <td>5</td>\n",
       "    </tr>\n",
       "  </tbody>\n",
       "</table>\n",
       "</div>"
      ],
      "text/plain": [
       "                                                      rating  rating_counts\n",
       "title                                                                      \n",
       "\"BLOW THE NIGHT!\" Let's Spend the Night Togethe...  3.000000              1\n",
       "\"Great Performances\" Cats (1998)                    2.753731             67\n",
       "#1 Cheerleader Camp (2010)                          1.900000              5\n",
       "#Female Pleasure (2018)                             4.000000              1\n",
       "#FollowMe (2019)                                    2.400000              5"
      ]
     },
     "execution_count": 27,
     "metadata": {},
     "output_type": "execute_result"
    }
   ],
   "source": [
    "# creating new dataframe where we can see movie title\n",
    "# along with the average rating and number of ratings for the movie\n",
    "ratings_mean_count = pd.DataFrame(\n",
    "    df_movie_info.groupby('title')['rating'].mean())\n",
    "ratings_mean_count['rating_counts'] = pd.DataFrame(\n",
    "    df_movie_info.groupby('title')['rating'].count())\n",
    "ratings_mean_count.head()\n"
   ]
  },
  {
   "cell_type": "code",
   "execution_count": 28,
   "metadata": {
    "id": "XhVNhU0d3tVc",
    "outputId": "02e6e61b-9c71-4455-d416-436fe33df4e0"
   },
   "outputs": [
    {
     "data": {
      "image/png": "[encoded data removed]",
      "text/plain": [
       "<Figure size 864x504 with 1 Axes>"
      ]
     },
     "metadata": {
      "needs_background": "light"
     },
     "output_type": "display_data"
    }
   ],
   "source": [
    "plt.figure(figsize=(12, 7))\n",
    "df_movie_info['rating'].value_counts().plot(kind='bar',\n",
    "                                            title='Distribution of the ratings')\n",
    "plt.ylabel('count')\n",
    "plt.xlabel('rating')\n",
    "plt.rcParams['patch.force_edgecolor'] = True\n",
    "experiment.log_figure(figure=plt, figure_name='Ratings per Movie')\n",
    "plt.show()\n"
   ]
  },
  {
   "cell_type": "markdown",
   "execution_count": null,
   "metadata": {
    "id": "CueKlSxL3tVh"
   },
   "source": [
    "The bar plot gives an indication that the ratings were positive. More than 60% of the ratings were above `3.5` which indicates that some users rate the movies that they have watched/seen as positive. However there is a clear indication from the count of ratings that most of the users do not leave a movie rating after watching which is a problem for the collaborative recommender system which gives rise to the `cold start problem`. It is a common tendency that users do not rate a movie mainly because they do not see the reason to rate which is one other problem that we will discuss as we go further in the notebook."
   ]
  },
  {
   "cell_type": "code",
   "execution_count": 29,
   "metadata": {
    "id": "sFWGGzkL3tVi",
    "outputId": "fcdd65c6-2276-4929-fdaa-fb8ec16c9616"
   },
   "outputs": [
    {
     "data": {
      "text/plain": [
       "<matplotlib.axes._subplots.AxesSubplot at 0x7f63fc9f0650>"
      ]
     },
     "execution_count": 29,
     "metadata": {},
     "output_type": "execute_result"
    },
    {
     "data": {
      "image/png": "[encoded data removed]",
      "text/plain": [
       "<Figure size 720x504 with 1 Axes>"
      ]
     },
     "metadata": {
      "needs_background": "light"
     },
     "output_type": "display_data"
    }
   ],
   "source": [
    "# histogram to visualize average ratings\n",
    "plt.figure(figsize=(10, 7))\n",
    "plt.xlabel(\"rating\")\n",
    "plt.ylabel(\"number of ratings\")\n",
    "plt.title(\"Average ratings\")\n",
    "plt.rcParams['patch.force_edgecolor'] = True\n",
    "ratings_mean_count['rating'].hist(bins=50, grid=False, color='gold')\n"
   ]
  },
  {
   "cell_type": "markdown",
   "execution_count": null,
   "metadata": {
    "id": "NH8cLZLn3tVs"
   },
   "source": [
    "From the histogram ,we observe that the ratings have a weak normal distribution with the most ratings at at approximately 3. All the movies with a rating of 5.0 have been rated less than 1 000 times . The lowest rated movies have also been seen by very few people .There are a few outliers in the data.We can further explore the relationship between the number of ratings and the avarage ratings of a movie.This can be done by making a joint plot"
   ]
  },
  {
   "cell_type": "code",
   "execution_count": 30,
   "metadata": {
    "id": "iBfKQiZm3tVt",
    "outputId": "6aeb2ec2-a728-4f99-9bc3-954d0cbb60d3"
   },
   "outputs": [
    {
     "data": {
      "text/plain": [
       "<seaborn.axisgrid.JointGrid at 0x7f63fc1591d0>"
      ]
     },
     "execution_count": 30,
     "metadata": {},
     "output_type": "execute_result"
    },
    {
     "data": {
      "text/plain": [
       "<Figure size 576x432 with 0 Axes>"
      ]
     },
     "metadata": {},
     "output_type": "display_data"
    },
    {
     "data": {
      "image/png": "[encoded data removed]",
      "text/plain": [
       "<Figure size 432x432 with 3 Axes>"
      ]
     },
     "metadata": {
      "needs_background": "light"
     },
     "output_type": "display_data"
    }
   ],
   "source": [
    "plt.figure(figsize=(8, 6))\n",
    "plt.rcParams['patch.force_edgecolor'] = True\n",
    "sns.jointplot(\n",
    "    x='rating', y='rating_counts', data=ratings_mean_count, alpha=0.4)\n"
   ]
  },
  {
   "cell_type": "markdown",
   "execution_count": null,
   "metadata": {
    "id": "hN8e9_ih3tV5"
   },
   "source": [
    "The graph shows that, in general, movies with higher average ratings actually have more number of ratings, compared with movies that have lower average ratings."
   ]
  },
  {
   "cell_type": "markdown",
   "execution_count": null,
   "metadata": {
    "id": "jrtrQpws3tV7"
   },
   "source": [
    "### Genres analysis"
   ]
  },
  {
   "cell_type": "markdown",
   "execution_count": null,
   "metadata": {
    "id": "xbOVPT8nGE0X"
   },
   "source": [
    "Let us look at the title and the genres for the Movies for the movies_df dataframe. We are going to look at the genres since the title was inspected in detail under the data cleaning section. We will have a look at all the genres contained in the movies and the number of their occurances."
   ]
  },
  {
   "cell_type": "code",
   "execution_count": 31,
   "metadata": {
    "id": "h6t41dfXGE0Y",
    "outputId": "c33aba80-f769-4772-d117-7c3599cfeb5b"
   },
   "outputs": [
    {
     "name": "stdout",
     "output_type": "stream",
     "text": [
      "The number are 20 unique movie genres in the dataframe\n"
     ]
    }
   ],
   "source": [
    "# Create new dataframe to see the genres\n",
    "genres = movies_df['genres'].str.replace(\"|\", \" \", regex=False)\n",
    "genres = genres.str.replace(\"(no genres listed)\", \"Not_listed\", regex=False)\n",
    "genres_string = ' '.join(genres)\n",
    "all_genres = genres_string.split()\n",
    "# function to get unique genres ,to avoid repetation in dataframe\n",
    "\n",
    "\n",
    "def unique_genres(genre_list):\n",
    "    \"\"\"The function inputs the genres of the movies and outputs all the unique genres \n",
    "    \"\"\"\n",
    "    # insert the list to the set\n",
    "    list_set = set(genre_list)\n",
    "    # convert the set to the list\n",
    "    unique_list = (list(genre_list))\n",
    "    return unique_list\n",
    "\n",
    "all_genres = unique_genres(all_genres)\n",
    "print(\"The number are \" + str(\n",
    "    len(set(all_genres))) + \" unique movie genres in the dataframe\")\n"
   ]
  },
  {
   "cell_type": "markdown",
   "execution_count": null,
   "metadata": {
    "id": "x1PJ-Nv_GE0d"
   },
   "source": [
    "Now that we have seen our genres we need to look at the number of films contained in each genre. This will also help in giving us insights on popularity of each genre."
   ]
  },
  {
   "cell_type": "code",
   "execution_count": 32,
   "metadata": {
    "id": "VYeFtcc-GE0d",
    "outputId": "1c66cf9a-57b1-4ba4-d906-9de63a992513"
   },
   "outputs": [
    {
     "data": {
      "image/png": "[encoded data removed]",
      "text/plain": [
       "<Figure size 1296x504 with 1 Axes>"
      ]
     },
     "metadata": {
      "needs_background": "light"
     },
     "output_type": "display_data"
    }
   ],
   "source": [
    "total_genresdf = pd.DataFrame(all_genres)\n",
    "total_genresdf = total_genresdf[0].value_counts()\n",
    "total_genresdf = pd.DataFrame(total_genresdf).reset_index()\n",
    "total_genresdf['Genres'] = total_genresdf['index']\n",
    "total_genresdf['Count'] = total_genresdf[0]\n",
    "plt.figure(figsize=(18, 7))\n",
    "plt.title('Distribution of Genres')\n",
    "sns.barplot(x='Genres', y='Count', data=total_genresdf)\n",
    "# Rotate the genres for better visualizations\n",
    "\n",
    "plt.xticks(rotation=45)\n",
    "experiment.log_figure(figure=plt, figure_name='Distribution of Genres')\n",
    "plt.show()\n"
   ]
  },
  {
   "cell_type": "markdown",
   "execution_count": null,
   "metadata": {
    "id": "V0XQhIG8GE0g"
   },
   "source": [
    "The Drama genre has  more movies than any other genre in the movies. This makes sense as this genre is about a representation of real life experiences, which you are most likely to find in movies. Comedy ,Romance and Thriller also appear to be common genre, supporting that most movies are about love and violence as seen in the title wordcloud. The next insight we want to draw is the trends in the share of genres of movies across the world. Has the demand for Sci-Fi movies declined? Do certain years have a disproportionate share of Horror Movies? Let us find out!\n",
    "\n",
    "We will only be looking at the trends from the year 2000 and themes that are in the top 10 of most popular genres. Let us first look at the movie proportions per year and then the movie trends."
   ]
  },
  {
   "cell_type": "code",
   "execution_count": 33,
   "metadata": {
    "id": "gAezgsqrGE0g",
    "outputId": "6f673bf8-6b78-415a-c754-595a4706ae7d"
   },
   "outputs": [
    {
     "data": {
      "image/png": "[encoded data removed]",
      "text/plain": [
       "<Figure size 1296x576 with 1 Axes>"
      ]
     },
     "metadata": {
      "needs_background": "light"
     },
     "output_type": "display_data"
    }
   ],
   "source": [
    "topgenres = [\n",
    "    'Drama', 'Comedy', 'Thriller', 'Romance',\n",
    "    'Action', 'Horror', 'Crime', 'Adventure', 'Sci-Fi', 'Mystery']\n",
    "pop_gen_movies = movies_merge[(\n",
    "    movies_merge['genres'].isin(topgenres)) & (\n",
    "        movies_merge['year'] >= 2000) & (movies_merge['year'] <= 2017)]\n",
    "ctab = pd.crosstab([pop_gen_movies['year']], pop_gen_movies['genres']).apply(\n",
    "    lambda x: x/x.sum(), axis=1)\n",
    "ctab[topgenres].plot(\n",
    "    kind='bar', stacked=True, colormap='jet', figsize=(18, 8)).legend(\n",
    "        loc='center left', bbox_to_anchor=(1, 0.5))\n",
    "plt.title(\"Stacked Bar Chart of Movie Proportions by Genre\")\n",
    "plt.ylabel(\"percentage contribution in decimals\")\n",
    "experiment.log_figure(\n",
    "    figure=plt, figure_name='Stacked Bar Chart of Movie Proportions by Genre')\n",
    "plt.show()\n"
   ]
  },
  {
   "cell_type": "code",
   "execution_count": 34,
   "metadata": {
    "id": "78SBWt15GE0k",
    "outputId": "ee24e776-d124-421f-c698-f7600cf34c94"
   },
   "outputs": [
    {
     "data": {
      "image/png": "[encoded data removed]",
      "text/plain": [
       "<Figure size 1296x576 with 1 Axes>"
      ]
     },
     "metadata": {
      "needs_background": "light"
     },
     "output_type": "display_data"
    }
   ],
   "source": [
    "ctab[topgenres].plot(\n",
    "    kind='line', stacked=False, colormap='jet', figsize=(18, 8)).legend(\n",
    "        loc='center left', bbox_to_anchor=(1, 0.5))\n",
    "plt.title('Line Graph of Movie Proportions by Genre')\n",
    "plt.ylabel(\"percentage contribution in decimals\")\n",
    "experiment.log_figure(\n",
    "    figure=plt, figure_name='Line Graph of Movie Proportions by Genre')\n",
    "plt.show()\n"
   ]
  },
  {
   "cell_type": "markdown",
   "execution_count": null,
   "metadata": {
    "id": "5FZFdynHGE0p"
   },
   "source": [
    "The proportion of movies of each genre has remained fairly constant since the beginning of this century except for Drama. The proportion of drama films have been falling since 2005 while other genres fluctuated a little.\n",
    "\n",
    "We will now have a look at words commonly in movie titles."
   ]
  },
  {
   "cell_type": "code",
   "execution_count": 35,
   "metadata": {
    "id": "z4AJg-ERGE0p",
    "outputId": "7a0e5066-2f82-4542-e97e-69e0debf8166"
   },
   "outputs": [
    {
     "data": {
      "image/png": "[encoded data removed]",
      "text/plain": [
       "<Figure size 864x576 with 1 Axes>"
      ]
     },
     "metadata": {
      "needs_background": "light"
     },
     "output_type": "display_data"
    }
   ],
   "source": [
    "title_corpus = ' '.join(movies_df['title'])\n",
    "title_wordcloud = WordCloud(\n",
    "    stopwords=STOPWORDS, background_color='grey',\n",
    "    height=2000, width=4000, max_words=50).generate(title_corpus)\n",
    "plt.figure(figsize=(12, 8))\n",
    "plt.imshow(title_wordcloud)\n",
    "plt.axis('off')\n",
    "plt.title(\"Top 50 Words in Movie Titles\")\n",
    "experiment.log_figure(figure=plt, figure_name='Top 50 Words in Movie Titles')\n",
    "plt.show()\n"
   ]
  },
  {
   "cell_type": "markdown",
   "execution_count": null,
   "metadata": {
    "id": "-jF_UHqVGE0t"
   },
   "source": [
    "Words like Love, Girl, Boy, Man are the most commonly used words in movie titles. One can take from that that there is presence of romance in movies. Blood, War and Life are among the most occuring words, showing the presence of violence in the themes. This makes even more sense since Romance and Thriller or Horror were amongst the top genres."
   ]
  },
  {
   "cell_type": "markdown",
   "execution_count": null,
   "metadata": {
    "id": "oMZjrMh0GE0u"
   },
   "source": [
    "### Movie runtime"
   ]
  },
  {
   "cell_type": "markdown",
   "execution_count": null,
   "metadata": {
    "id": "iQBxdgjRGE0w"
   },
   "source": [
    "Movies have come a long way in terms of their run time. Earliest moving pictures had from 1 minute run time. We will now have look at movie run time to get some insights on the nature of movie lengths and how far they have come over time."
   ]
  },
  {
   "cell_type": "code",
   "execution_count": 36,
   "metadata": {
    "id": "v5p7BjDCGE0x",
    "outputId": "3d2a6086-00d1-44d8-9131-be92dc004d1a"
   },
   "outputs": [
    {
     "data": {
      "text/plain": [
       "count    13512.000000\n",
       "mean       101.357460\n",
       "std         29.861471\n",
       "min          1.000000\n",
       "25%         90.000000\n",
       "50%         98.000000\n",
       "75%        110.000000\n",
       "max        877.000000\n",
       "Name: runtime, dtype: float64"
      ]
     },
     "execution_count": 36,
     "metadata": {},
     "output_type": "execute_result"
    }
   ],
   "source": [
    "movies_runtime = pd.merge(\n",
    "    movies_df, imdb_df[['runtime', \"movieId\", 'budget']], on=\"movieId\")\n",
    "movies_runtime['runtime'].describe()\n"
   ]
  },
  {
   "cell_type": "markdown",
   "execution_count": null,
   "metadata": {
    "id": "uCR2U0o7GE09"
   },
   "source": [
    "The average movie length is 1 hour and 41 minutes (101 minutes). It can be seen that the longest movie length is a shocking 14 hours.\n",
    "\n",
    "Let us now plot a distribution of these movies."
   ]
  },
  {
   "cell_type": "code",
   "execution_count": 37,
   "metadata": {
    "id": "GDj9sy5JGE0-",
    "outputId": "8730818d-7835-4df0-ca52-13cc2c5a6c67"
   },
   "outputs": [
    {
     "data": {
      "image/png": "[encoded data removed]",
      "text/plain": [
       "<Figure size 864x432 with 1 Axes>"
      ]
     },
     "metadata": {
      "needs_background": "light"
     },
     "output_type": "display_data"
    }
   ],
   "source": [
    "movies_runtime['runtime'] = movies_runtime['runtime'].astype('float')\n",
    "plt.figure(figsize=(12, 6))\n",
    "sns.distplot(movies_runtime[(movies_runtime['runtime'] < 300) & (\n",
    "    movies_runtime['runtime'] > 0)]['runtime'], color='green')\n",
    "plt.ylabel(\"count\")\n",
    "plt.title('Distribution of Movies based on Runtime')\n",
    "experiment.log_figure(\n",
    "    figure=plt, figure_name='Distribution of Movies based on Runtime')\n",
    "plt.show()\n"
   ]
  },
  {
   "cell_type": "markdown",
   "execution_count": null,
   "metadata": {
    "id": "3p0zfLgOGE1C"
   },
   "source": [
    "Now we look at how the run time affects the budget"
   ]
  },
  {
   "cell_type": "code",
   "execution_count": 38,
   "metadata": {
    "id": "UEZFyDTlGE1D",
    "outputId": "18a20249-234c-4f84-aff4-a02e4b84ad4d"
   },
   "outputs": [
    {
     "name": "stderr",
     "output_type": "stream",
     "text": [
      "/opt/conda/lib/python3.7/site-packages/ipykernel_launcher.py:3: SettingWithCopyWarning: \n",
      "A value is trying to be set on a copy of a slice from a DataFrame.\n",
      "Try using .loc[row_indexer,col_indexer] = value instead\n",
      "\n",
      "See the caveats in the documentation: https://pandas.pydata.org/pandas-docs/stable/user_guide/indexing.html#returning-a-view-versus-a-copy\n",
      "  This is separate from the ipykernel package so we can avoid doing imports until\n"
     ]
    },
    {
     "data": {
      "text/html": [
       "<div>\n",
       "<style scoped>\n",
       "    .dataframe tbody tr th:only-of-type {\n",
       "        vertical-align: middle;\n",
       "    }\n",
       "\n",
       "    .dataframe tbody tr th {\n",
       "        vertical-align: top;\n",
       "    }\n",
       "\n",
       "    .dataframe thead th {\n",
       "        text-align: right;\n",
       "    }\n",
       "</style>\n",
       "<table border=\"1\" class=\"dataframe\">\n",
       "  <thead>\n",
       "    <tr style=\"text-align: right;\">\n",
       "      <th></th>\n",
       "      <th>movieId</th>\n",
       "      <th>title</th>\n",
       "      <th>genres</th>\n",
       "      <th>runtime</th>\n",
       "      <th>budget</th>\n",
       "    </tr>\n",
       "  </thead>\n",
       "  <tbody>\n",
       "    <tr>\n",
       "      <th>0</th>\n",
       "      <td>1</td>\n",
       "      <td>Toy Story (1995)</td>\n",
       "      <td>Adventure Animation Children Comedy Fantasy</td>\n",
       "      <td>81.0</td>\n",
       "      <td>30000000.0</td>\n",
       "    </tr>\n",
       "    <tr>\n",
       "      <th>1</th>\n",
       "      <td>2</td>\n",
       "      <td>Jumanji (1995)</td>\n",
       "      <td>Adventure Children Fantasy</td>\n",
       "      <td>104.0</td>\n",
       "      <td>65000000.0</td>\n",
       "    </tr>\n",
       "    <tr>\n",
       "      <th>2</th>\n",
       "      <td>3</td>\n",
       "      <td>Grumpier Old Men (1995)</td>\n",
       "      <td>Comedy Romance</td>\n",
       "      <td>101.0</td>\n",
       "      <td>25000000.0</td>\n",
       "    </tr>\n",
       "    <tr>\n",
       "      <th>3</th>\n",
       "      <td>4</td>\n",
       "      <td>Waiting to Exhale (1995)</td>\n",
       "      <td>Comedy Drama Romance</td>\n",
       "      <td>124.0</td>\n",
       "      <td>16000000.0</td>\n",
       "    </tr>\n",
       "    <tr>\n",
       "      <th>4</th>\n",
       "      <td>5</td>\n",
       "      <td>Father of the Bride Part II (1995)</td>\n",
       "      <td>Comedy</td>\n",
       "      <td>106.0</td>\n",
       "      <td>30000000.0</td>\n",
       "    </tr>\n",
       "  </tbody>\n",
       "</table>\n",
       "</div>"
      ],
      "text/plain": [
       "   movieId                               title  \\\n",
       "0        1                    Toy Story (1995)   \n",
       "1        2                      Jumanji (1995)   \n",
       "2        3             Grumpier Old Men (1995)   \n",
       "3        4            Waiting to Exhale (1995)   \n",
       "4        5  Father of the Bride Part II (1995)   \n",
       "\n",
       "                                        genres  runtime      budget  \n",
       "0  Adventure Animation Children Comedy Fantasy     81.0  30000000.0  \n",
       "1                   Adventure Children Fantasy    104.0  65000000.0  \n",
       "2                               Comedy Romance    101.0  25000000.0  \n",
       "3                         Comedy Drama Romance    124.0  16000000.0  \n",
       "4                                       Comedy    106.0  30000000.0  "
      ]
     },
     "execution_count": 38,
     "metadata": {},
     "output_type": "execute_result"
    }
   ],
   "source": [
    "movies_budget = movies_runtime.dropna()\n",
    "movies_budget[\"budget\"] = movies_budget[\"budget\"].str.replace(\n",
    "    \",\", \"\", regex=False)\n",
    "movies_budget = movies_budget[movies_budget['budget'].str.startswith('$')]\n",
    "\n",
    "movies_budget[\"budget\"] = movies_budget[\"budget\"].str.replace(\n",
    "    \"$\", \"\", regex=False)\n",
    "movies_budget[\"budget\"] = movies_budget[\"budget\"].str.replace(\n",
    "    \",\", \"\", regex=False)\n",
    "movies_budget[\"budget\"] = movies_budget[\"budget\"].astype(float)\n",
    "df_mat = movies_budget[(movies_budget['budget'].notnull()) & (\n",
    "    movies_budget['runtime'] > 0)]\n",
    "movies_budget.head()\n"
   ]
  },
  {
   "cell_type": "code",
   "execution_count": 39,
   "metadata": {
    "id": "1qpzux8nGE1J",
    "outputId": "64ce35ee-e44d-41ef-db3e-8676b2e2619d"
   },
   "outputs": [
    {
     "data": {
      "text/plain": [
       "<Figure size 864x432 with 0 Axes>"
      ]
     },
     "metadata": {},
     "output_type": "display_data"
    },
    {
     "data": {
      "image/png": "[encoded data removed]",
      "text/plain": [
       "<Figure size 432x432 with 3 Axes>"
      ]
     },
     "metadata": {
      "needs_background": "light"
     },
     "output_type": "display_data"
    }
   ],
   "source": [
    "plt.figure(figsize=(12, 6))\n",
    "sns.jointplot('budget', 'runtime', data=df_mat)\n",
    "plt.title('Runtime on Budget\\n')\n",
    "experiment.log_figure(figure=plt, figure_name='Runtime on Budget')\n",
    "plt.show()\n"
   ]
  },
  {
   "cell_type": "markdown",
   "execution_count": null,
   "metadata": {
    "id": "LZ7ll8KNGE1N"
   },
   "source": [
    "The run time and budget have a much weaker correlation than we had expected. This makes sense if one looks at it this way; the grenre has a greater impact on the budget of the movie. A two hour documentary will cost significantly lesser than a one hour Sci-Fi movie.\n",
    "\n",
    "Next, we would like to see the average lengths of movies through time. It would be interesting to see the trends in what filmmakers adjudged would be the appropriate length of a movie at that time."
   ]
  },
  {
   "cell_type": "code",
   "execution_count": 40,
   "metadata": {
    "id": "6aSrNTueGE1O",
    "outputId": "9c383793-cf0c-4588-fb85-3d11cdbd7882"
   },
   "outputs": [
    {
     "data": {
      "image/png": "[encoded data removed]",
      "text/plain": [
       "<Figure size 1080x360 with 1 Axes>"
      ]
     },
     "metadata": {
      "needs_background": "light"
     },
     "output_type": "display_data"
    }
   ],
   "source": [
    "plt.figure(figsize=(15, 5))\n",
    "year_runtime = movies_merge1.dropna(\n",
    "    axis=0, subset=['runtime']).groupby('year')['runtime'].mean()\n",
    "plt.plot(year_runtime.index, year_runtime, color='orange')\n",
    "plt.xticks(np.arange(1894, 2015, 10))\n",
    "plt.xlabel('Year')\n",
    "plt.ylabel('Runtime')\n",
    "plt.title('Movies Runtime Plot')\n",
    "experiment.log_figure(figure=plt, figure_name='Movies Runtime Plot')\n",
    "plt.show()\n"
   ]
  },
  {
   "cell_type": "markdown",
   "execution_count": null,
   "metadata": {
    "id": "BARbHFcmGE1S"
   },
   "source": [
    "We notice that movies started around 1 minute duration and started going for up to over 100 minutes after 1990 . From 1994 movies started ranging from 100 to 110 minutes and remained there.\n",
    "\n",
    "Let us now see the longest and the shortest movies of all time (with respect to the data we are working with)."
   ]
  },
  {
   "cell_type": "code",
   "execution_count": 41,
   "metadata": {
    "id": "tetSfbyuGE1T",
    "outputId": "d573811b-01a9-4663-e649-d2c6d7b8d243"
   },
   "outputs": [
    {
     "data": {
      "text/html": [
       "<div>\n",
       "<style scoped>\n",
       "    .dataframe tbody tr th:only-of-type {\n",
       "        vertical-align: middle;\n",
       "    }\n",
       "\n",
       "    .dataframe tbody tr th {\n",
       "        vertical-align: top;\n",
       "    }\n",
       "\n",
       "    .dataframe thead th {\n",
       "        text-align: right;\n",
       "    }\n",
       "</style>\n",
       "<table border=\"1\" class=\"dataframe\">\n",
       "  <thead>\n",
       "    <tr style=\"text-align: right;\">\n",
       "      <th></th>\n",
       "      <th>runtime</th>\n",
       "      <th>title</th>\n",
       "      <th>year</th>\n",
       "    </tr>\n",
       "  </thead>\n",
       "  <tbody>\n",
       "    <tr>\n",
       "      <th>15584</th>\n",
       "      <td>1.0</td>\n",
       "      <td>Pyramid of Triboulet, The (La pyramide de Trib...</td>\n",
       "      <td>1899.0</td>\n",
       "    </tr>\n",
       "    <tr>\n",
       "      <th>15579</th>\n",
       "      <td>1.0</td>\n",
       "      <td>Four Heads Are Better Than One (Un homme de tê...</td>\n",
       "      <td>1898.0</td>\n",
       "    </tr>\n",
       "    <tr>\n",
       "      <th>23826</th>\n",
       "      <td>1.0</td>\n",
       "      <td>Stille Nacht I: Dramolet (1988)</td>\n",
       "      <td>1988.0</td>\n",
       "    </tr>\n",
       "    <tr>\n",
       "      <th>22650</th>\n",
       "      <td>1.0</td>\n",
       "      <td>The Kiss (1900)</td>\n",
       "      <td>1900.0</td>\n",
       "    </tr>\n",
       "    <tr>\n",
       "      <th>23790</th>\n",
       "      <td>1.0</td>\n",
       "      <td>Santa Claus (1898)</td>\n",
       "      <td>1898.0</td>\n",
       "    </tr>\n",
       "    <tr>\n",
       "      <th>24594</th>\n",
       "      <td>1.0</td>\n",
       "      <td>Dickson Greeting (1891)</td>\n",
       "      <td>1891.0</td>\n",
       "    </tr>\n",
       "    <tr>\n",
       "      <th>22629</th>\n",
       "      <td>2.0</td>\n",
       "      <td>The Menacing Eye (1960)</td>\n",
       "      <td>1960.0</td>\n",
       "    </tr>\n",
       "    <tr>\n",
       "      <th>23772</th>\n",
       "      <td>2.0</td>\n",
       "      <td>Curb Dance (2010)</td>\n",
       "      <td>2010.0</td>\n",
       "    </tr>\n",
       "    <tr>\n",
       "      <th>23148</th>\n",
       "      <td>2.0</td>\n",
       "      <td>Fresh Guacamole (2012)</td>\n",
       "      <td>2012.0</td>\n",
       "    </tr>\n",
       "    <tr>\n",
       "      <th>23771</th>\n",
       "      <td>3.0</td>\n",
       "      <td>Syrinx (1966)</td>\n",
       "      <td>1966.0</td>\n",
       "    </tr>\n",
       "  </tbody>\n",
       "</table>\n",
       "</div>"
      ],
      "text/plain": [
       "       runtime                                              title    year\n",
       "15584      1.0  Pyramid of Triboulet, The (La pyramide de Trib...  1899.0\n",
       "15579      1.0  Four Heads Are Better Than One (Un homme de tê...  1898.0\n",
       "23826      1.0                    Stille Nacht I: Dramolet (1988)  1988.0\n",
       "22650      1.0                                    The Kiss (1900)  1900.0\n",
       "23790      1.0                                 Santa Claus (1898)  1898.0\n",
       "24594      1.0                            Dickson Greeting (1891)  1891.0\n",
       "22629      2.0                            The Menacing Eye (1960)  1960.0\n",
       "23772      2.0                                  Curb Dance (2010)  2010.0\n",
       "23148      2.0                             Fresh Guacamole (2012)  2012.0\n",
       "23771      3.0                                      Syrinx (1966)  1966.0"
      ]
     },
     "execution_count": 41,
     "metadata": {},
     "output_type": "execute_result"
    }
   ],
   "source": [
    "movies_merge1[movies_merge1['runtime'] > 0][[\n",
    "    'runtime', 'title', 'year']].sort_values('runtime').head(10)\n"
   ]
  },
  {
   "cell_type": "markdown",
   "execution_count": null,
   "metadata": {
    "id": "cmCwIDMoGE1W"
   },
   "source": [
    "We see that every movie in this list with an exception of Curb the Dance and Fresh Gaucamole were filmed in the late 1890s and the beginning of the 20th century. These movies range from 1 to 3 minutes in duration.\n",
    "\n",
    "Let us look at the movies with the longest length."
   ]
  },
  {
   "cell_type": "code",
   "execution_count": 42,
   "metadata": {
    "id": "H00Cx5rhGE1X",
    "outputId": "ad9d17a0-065a-42dc-f7bb-f54fa0be2ac7"
   },
   "outputs": [
    {
     "data": {
      "text/html": [
       "<div>\n",
       "<style scoped>\n",
       "    .dataframe tbody tr th:only-of-type {\n",
       "        vertical-align: middle;\n",
       "    }\n",
       "\n",
       "    .dataframe tbody tr th {\n",
       "        vertical-align: top;\n",
       "    }\n",
       "\n",
       "    .dataframe thead th {\n",
       "        text-align: right;\n",
       "    }\n",
       "</style>\n",
       "<table border=\"1\" class=\"dataframe\">\n",
       "  <thead>\n",
       "    <tr style=\"text-align: right;\">\n",
       "      <th></th>\n",
       "      <th>runtime</th>\n",
       "      <th>title</th>\n",
       "      <th>year</th>\n",
       "    </tr>\n",
       "  </thead>\n",
       "  <tbody>\n",
       "    <tr>\n",
       "      <th>23518</th>\n",
       "      <td>877.0</td>\n",
       "      <td>Taken (2002)</td>\n",
       "      <td>2002.0</td>\n",
       "    </tr>\n",
       "    <tr>\n",
       "      <th>12717</th>\n",
       "      <td>552.0</td>\n",
       "      <td>Into the West (2005)</td>\n",
       "      <td>2005.0</td>\n",
       "    </tr>\n",
       "    <tr>\n",
       "      <th>23931</th>\n",
       "      <td>530.0</td>\n",
       "      <td>The Pacific (2010)</td>\n",
       "      <td>2010.0</td>\n",
       "    </tr>\n",
       "    <tr>\n",
       "      <th>16684</th>\n",
       "      <td>360.0</td>\n",
       "      <td>Comanche Moon (2008)</td>\n",
       "      <td>2008.0</td>\n",
       "    </tr>\n",
       "    <tr>\n",
       "      <th>10267</th>\n",
       "      <td>359.0</td>\n",
       "      <td>No Direction Home: Bob Dylan (2005)</td>\n",
       "      <td>2005.0</td>\n",
       "    </tr>\n",
       "    <tr>\n",
       "      <th>15463</th>\n",
       "      <td>330.0</td>\n",
       "      <td>Carlos (2010)</td>\n",
       "      <td>2010.0</td>\n",
       "    </tr>\n",
       "    <tr>\n",
       "      <th>3942</th>\n",
       "      <td>271.0</td>\n",
       "      <td>Gettysburg (1993)</td>\n",
       "      <td>1993.0</td>\n",
       "    </tr>\n",
       "    <tr>\n",
       "      <th>11253</th>\n",
       "      <td>255.0</td>\n",
       "      <td>When the Levees Broke: A Requiem in Four Acts ...</td>\n",
       "      <td>2006.0</td>\n",
       "    </tr>\n",
       "    <tr>\n",
       "      <th>12804</th>\n",
       "      <td>250.0</td>\n",
       "      <td>Dinotopia (2002)</td>\n",
       "      <td>2002.0</td>\n",
       "    </tr>\n",
       "    <tr>\n",
       "      <th>1373</th>\n",
       "      <td>242.0</td>\n",
       "      <td>Hamlet (1996)</td>\n",
       "      <td>1996.0</td>\n",
       "    </tr>\n",
       "  </tbody>\n",
       "</table>\n",
       "</div>"
      ],
      "text/plain": [
       "       runtime                                              title    year\n",
       "23518    877.0                                       Taken (2002)  2002.0\n",
       "12717    552.0                               Into the West (2005)  2005.0\n",
       "23931    530.0                                 The Pacific (2010)  2010.0\n",
       "16684    360.0                               Comanche Moon (2008)  2008.0\n",
       "10267    359.0                No Direction Home: Bob Dylan (2005)  2005.0\n",
       "15463    330.0                                      Carlos (2010)  2010.0\n",
       "3942     271.0                                  Gettysburg (1993)  1993.0\n",
       "11253    255.0  When the Levees Broke: A Requiem in Four Acts ...  2006.0\n",
       "12804    250.0                                   Dinotopia (2002)  2002.0\n",
       "1373     242.0                                      Hamlet (1996)  1996.0"
      ]
     },
     "execution_count": 42,
     "metadata": {},
     "output_type": "execute_result"
    }
   ],
   "source": [
    "movies_merge[movies_merge['runtime'] > 0][[\n",
    "    'runtime', 'title', 'year']].sort_values(\n",
    "        'runtime', ascending=False).head(10)\n"
   ]
  },
  {
   "cell_type": "markdown",
   "execution_count": null,
   "metadata": {
    "id": "tUJY2xC2GE1c"
   },
   "source": [
    "Although this list of of films that were relased in later 90s and early 2000s, we can see their duration is too long to be for a single movie. Films like these are mostly made in seasons and episodes and therefore once cannnot compare them with the table of the shortest films."
   ]
  },
  {
   "cell_type": "markdown",
   "execution_count": null,
   "metadata": {
    "id": "1gMyvUzpGE1c"
   },
   "source": [
    "### Movie budget"
   ]
  },
  {
   "cell_type": "markdown",
   "execution_count": null,
   "metadata": {
    "id": "NFeynAgkGE1d"
   },
   "source": [
    "Budget is expected to be skewed. We also know that budget is influenced by inflation and making it difficult to do comparisons. However, it would be interesting to gather as much insights as possible from this quantity as budget is often a critical feature in predicting movie revenue and success. Let us first start by gathering the summary statistics for our budget."
   ]
  },
  {
   "cell_type": "code",
   "execution_count": 43,
   "metadata": {
    "id": "B1nbLGXVGE1e",
    "outputId": "4d0ef9c1-a352-497c-e594-101ebbe65414"
   },
   "outputs": [
    {
     "data": {
      "text/plain": [
       "count    5.511000e+03\n",
       "mean     2.871092e+07\n",
       "std      3.673731e+07\n",
       "min      0.000000e+00\n",
       "25%      5.000000e+06\n",
       "50%      1.550000e+07\n",
       "75%      3.700000e+07\n",
       "max      3.000000e+08\n",
       "Name: budget, dtype: float64"
      ]
     },
     "execution_count": 43,
     "metadata": {},
     "output_type": "execute_result"
    }
   ],
   "source": [
    "movies_budget['budget'].describe()\n"
   ]
  },
  {
   "cell_type": "markdown",
   "execution_count": null,
   "metadata": {
    "id": "V4DdzhYNGE1j"
   },
   "source": [
    "The mean budget of a film is 29 million US dollars whereas the median budget is far smaller at 15 million US dollars. This strongly suggests the mean being influenced by outliers."
   ]
  },
  {
   "cell_type": "code",
   "execution_count": 44,
   "metadata": {
    "id": "s4in48h3GE1k",
    "outputId": "4d1380c0-c941-4ba1-8c16-cd494b12c6f4"
   },
   "outputs": [
    {
     "data": {
      "image/png": "[encoded data removed]",
      "text/plain": [
       "<Figure size 720x504 with 1 Axes>"
      ]
     },
     "metadata": {
      "needs_background": "light"
     },
     "output_type": "display_data"
    }
   ],
   "source": [
    "plt.figure(figsize=(10, 7))\n",
    "plt.title('Distribution of Movie Budget')\n",
    "plt.ylabel('Count')\n",
    "sns.distplot(\n",
    "    movies_budget[movies_budget['budget'].notnull()]['budget'], color='violet')\n",
    "experiment.log_figure(figure=plt, figure_name='Distribution of Movie Budget')\n",
    "plt.show()\n"
   ]
  },
  {
   "cell_type": "code",
   "execution_count": 45,
   "metadata": {
    "id": "oxcruRSYGE1o",
    "outputId": "5f278536-25f6-448d-f09a-8dce9103b802"
   },
   "outputs": [
    {
     "data": {
      "image/png": "[encoded data removed]",
      "text/plain": [
       "<Figure size 720x504 with 1 Axes>"
      ]
     },
     "metadata": {
      "needs_background": "light"
     },
     "output_type": "display_data"
    }
   ],
   "source": [
    "plt.figure(figsize=(10, 7))\n",
    "plt.title('Histogram showing Movie Budget')\n",
    "plt.ylabel('Count')\n",
    "movies_budget['budget'].plot(\n",
    "    logy=True, kind='hist', color='lightblue',\n",
    "    edgecolor='black', linewidth=0.5)\n",
    "experiment.log_figure(figure=plt, figure_name='Histogram showing Movie Budget')\n",
    "plt.show()\n"
   ]
  },
  {
   "cell_type": "markdown",
   "execution_count": null,
   "metadata": {
    "id": "YsOWNCXIGE1s"
   },
   "source": [
    "The distribution of movie budgets shows an exponential decay. More than 75% of the movies have a budget smaller than 37 million dollars. Next, let us take a look at the most expensive movies of all time."
   ]
  },
  {
   "cell_type": "code",
   "execution_count": 46,
   "metadata": {
    "id": "_F-eSHqYGE1t",
    "outputId": "3fc3c9b0-7d60-447a-fd4f-2adbd8bbf6cc"
   },
   "outputs": [
    {
     "data": {
      "text/html": [
       "<div>\n",
       "<style scoped>\n",
       "    .dataframe tbody tr th:only-of-type {\n",
       "        vertical-align: middle;\n",
       "    }\n",
       "\n",
       "    .dataframe tbody tr th {\n",
       "        vertical-align: top;\n",
       "    }\n",
       "\n",
       "    .dataframe thead th {\n",
       "        text-align: right;\n",
       "    }\n",
       "</style>\n",
       "<table border=\"1\" class=\"dataframe\">\n",
       "  <thead>\n",
       "    <tr style=\"text-align: right;\">\n",
       "      <th></th>\n",
       "      <th>budget</th>\n",
       "      <th>title</th>\n",
       "      <th>year</th>\n",
       "    </tr>\n",
       "  </thead>\n",
       "  <tbody>\n",
       "    <tr>\n",
       "      <th>11582</th>\n",
       "      <td>300000000.0</td>\n",
       "      <td>Pirates of the Caribbean: At World's End (2007)</td>\n",
       "      <td>2007.0</td>\n",
       "    </tr>\n",
       "    <tr>\n",
       "      <th>10870</th>\n",
       "      <td>270000000.0</td>\n",
       "      <td>Superman Returns (2006)</td>\n",
       "      <td>2006.0</td>\n",
       "    </tr>\n",
       "    <tr>\n",
       "      <th>15470</th>\n",
       "      <td>260000000.0</td>\n",
       "      <td>Tangled (2010)</td>\n",
       "      <td>2010.0</td>\n",
       "    </tr>\n",
       "    <tr>\n",
       "      <th>11537</th>\n",
       "      <td>258000000.0</td>\n",
       "      <td>Spider-Man 3 (2007)</td>\n",
       "      <td>2007.0</td>\n",
       "    </tr>\n",
       "    <tr>\n",
       "      <th>13470</th>\n",
       "      <td>250000000.0</td>\n",
       "      <td>Harry Potter and the Half-Blood Prince (2009)</td>\n",
       "      <td>2009.0</td>\n",
       "    </tr>\n",
       "    <tr>\n",
       "      <th>17354</th>\n",
       "      <td>250000000.0</td>\n",
       "      <td>Dark Knight Rises, The (2012)</td>\n",
       "      <td>2012.0</td>\n",
       "    </tr>\n",
       "    <tr>\n",
       "      <th>17753</th>\n",
       "      <td>250000000.0</td>\n",
       "      <td>John Carter (2012)</td>\n",
       "      <td>2012.0</td>\n",
       "    </tr>\n",
       "    <tr>\n",
       "      <th>16356</th>\n",
       "      <td>250000000.0</td>\n",
       "      <td>Pirates of the Caribbean: On Stranger Tides (2...</td>\n",
       "      <td>2011.0</td>\n",
       "    </tr>\n",
       "    <tr>\n",
       "      <th>22785</th>\n",
       "      <td>250000000.0</td>\n",
       "      <td>The Hobbit: The Battle of the Five Armies (2014)</td>\n",
       "      <td>2014.0</td>\n",
       "    </tr>\n",
       "    <tr>\n",
       "      <th>14050</th>\n",
       "      <td>237000000.0</td>\n",
       "      <td>Avatar (2009)</td>\n",
       "      <td>2009.0</td>\n",
       "    </tr>\n",
       "  </tbody>\n",
       "</table>\n",
       "</div>"
      ],
      "text/plain": [
       "            budget                                              title    year\n",
       "11582  300000000.0    Pirates of the Caribbean: At World's End (2007)  2007.0\n",
       "10870  270000000.0                            Superman Returns (2006)  2006.0\n",
       "15470  260000000.0                                     Tangled (2010)  2010.0\n",
       "11537  258000000.0                                Spider-Man 3 (2007)  2007.0\n",
       "13470  250000000.0      Harry Potter and the Half-Blood Prince (2009)  2009.0\n",
       "17354  250000000.0                      Dark Knight Rises, The (2012)  2012.0\n",
       "17753  250000000.0                                 John Carter (2012)  2012.0\n",
       "16356  250000000.0  Pirates of the Caribbean: On Stranger Tides (2...  2011.0\n",
       "22785  250000000.0   The Hobbit: The Battle of the Five Armies (2014)  2014.0\n",
       "14050  237000000.0                                      Avatar (2009)  2009.0"
      ]
     },
     "execution_count": 46,
     "metadata": {},
     "output_type": "execute_result"
    }
   ],
   "source": [
    "movies_merge[movies_merge['budget'].notnull()][[\n",
    "    'budget', 'title', 'year']].sort_values('budget', ascending=False).head(10)\n"
   ]
  },
  {
   "cell_type": "markdown",
   "execution_count": null,
   "metadata": {
    "id": "KGqE12pMGE1x"
   },
   "source": [
    "Pirates of the Caribbean: At World's End and Superman Returns films occupy the top spots in this list with a staggering budget of over 300 million dollars. It is also noticeable that none of these movies in the top 10 are from the 21th century."
   ]
  },
  {
   "cell_type": "markdown",
   "execution_count": null,
   "metadata": {
    "id": "22Tri0JV3tYG"
   },
   "source": [
    "[Back to contents](#contents)"
   ]
  },
  {
   "cell_type": "markdown",
   "execution_count": null,
   "metadata": {
    "id": "hgLCsChbGE1y"
   },
   "source": [
    "<a id='the_system'></a>\n",
    "## 8. Recommender systems"
   ]
  },
  {
   "cell_type": "markdown",
   "execution_count": null,
   "metadata": {
    "id": "ogtUahixGE1y"
   },
   "source": [
    "A Recommender System uses statistical techniques to try and predict user's ratings for an item depending on similarities between the items or similarities between the user's who have previously rated the items. \n",
    "<br>\n",
    "\n",
    "**Types of Recommender Systems**<br>\n",
    "\n",
    "* **Content-based Filtering** : This method suggests similar items based a particular item. It uses metadata such as genre,description,actors,tags,directors, authors,etc to make recommendations. It works based on **implict** reations (viewing an item, adding it to a wish list, the time spent watching a movie, and metadata we mentioned). For example  if a person likes a particular item, he or she will also like an item that is similar to it.<br>\n",
    "![](https://github.com/Clarencia/unsupervised-predict-streamlit-template/blob/master/images/content.PNG?raw=true)\n",
    "* **Collaborative Filtering** : This method attempt to predict the rating or preference that a would would give an item based on previous ratings or preferences of other users. It works based on **explict** reactions (rating on a scale of 1-5, likes or dislikes). For example,say, a number of users gave the same ratings to movies X and Y. A new user comes who gave the same rating to movie X but hasn't watched movie Y yet will be recommended the movie Y. <br>\n",
    "![](https://github.com/Clarencia/unsupervised-predict-streamlit-template/blob/master/images/colab.PNG?raw=true) \n",
    "**Types of algorithms in the family of collaborative filtering:**\n",
    "   * **Memory based** collaborative filtering uses user rating data to compute the similarity between users or items.There are two main types of memory based methods, namely the user-based filtering and the item-based filtering\n",
    "     * User-based filtering: it is a technique that is used to predict the items that a user might like on the basis of ratings given to that item by the other users who have similar taste with that of the target user.\n",
    "     * Item-based filtering: it is a technique used to filter based on the similarity between items calculated using people's ratings of those items.\n",
    "   * **Model based** collaborative filtering utilizes several machine learning algorithms to train on the vector of items for a specific user, then they can build a model that can predict the user’s rating for a new item that has just been added to the system. Listed below are some of the algorithms used for model based recommender systems:\n",
    "       * Bayesian Networks\n",
    "       * Singular Value Decomposition (SVD)\n",
    "       * Clustering algorithms\n",
    "       * Probabilistic Latent Semantic Analysis\n",
    "\n",
    "Ealier we spoke about the `cold-start problem`. The **cold-start problem** happens when new users or new items arrive in an e-commerce platform. It causes an issue of the system not being able to draw any inferences for users or items which it has not yet gathered sufficient information on.\n",
    "<br>\n",
    "\n",
    "**Content-based filtering rarely suffers from the cold start problem compared to collaborative filtering.**\n",
    "\n",
    "\n"
   ]
  },
  {
   "cell_type": "markdown",
   "execution_count": null,
   "metadata": {
    "id": "piWjE0mj3tYM"
   },
   "source": [
    "[Back to contents](#contents)"
   ]
  },
  {
   "cell_type": "markdown",
   "execution_count": null,
   "metadata": {
    "id": "lNu3HFK3GE29"
   },
   "source": [
    "<a id='the_surprise'></a>\n",
    "## 9. Recommender system for movie ratings\n"
   ]
  },
  {
   "cell_type": "markdown",
   "execution_count": null,
   "metadata": {
    "id": "Gop0MflWGE2-"
   },
   "source": [
    "To build our recommender system, we will use python's scikit library known as `surprise`. [Surprise](http://surpriselib.com/#:~:text=Surprise%20is%20a%20Python%20scikit,perfect%20control%20over%20their%20experiments.) is a Python scikit building and analyzing recommender systems that deal with explicit rating data. This allows us to use collaborative filtering. Due to space limitations we are not going to use content based filterting fot ratings predictions but for movie predictions. Let us look at the advantages and disadvantages of collaborative filtering before we start with implementing the algorithm.\n",
    "<br>\n",
    "\n",
    "**Advantages of Collaborative Filtering**:<br>\n",
    "   * The system only needs the feedback matrix to train a matrix factorization model. In particular, the system doesn't need contextual features. \n",
    "   * The model can help users discover new interests. In isolation, the Machine Learning model may not know the user is interested in a given item, but the model might still recommend it because similar users are interested in that item.\n",
    "<br>   \n",
    "\n",
    "**Disadvantages of Collaborative Filtering**:<br>\n",
    "   * The matrix used for collaborative filtering could be extremely large and sparse, which     brings about the challenges in the performances of the recommendation.\n",
    "   * Cold start problem.\n"
   ]
  },
  {
   "cell_type": "markdown",
   "execution_count": null,
   "metadata": {
    "id": "S_dKB8pXGE2_"
   },
   "source": [
    "With limitations of computational time, we first compare the rmse for different models. The model that performs the best will be the one we use to get the predictions. The surprise has basic algorithms, k-NN algorithms and Matrix Factorization-based algorithms. Only a portion of these algorithms we will use for the purposes of this project. We are going to try out the following algorithms:\n",
    "<br>\n",
    "\n",
    "* **Singular Vector Decomposition (SDV)** <br>\n",
    "    `SVD` is an algorithm that is equivalent to [Probabilistic Matrix Factorization](http://papers.nips.cc/paper/3208-probabilistic-matrix-factorization.pdf).  SVD gives you the whole full view of diagonalizing a matrix into special matrices that are easy to manipulate and to analyze. It lay down the foundation to untangle data into independent components. We will not go deeper with the mathematics behind, it is out of our scope. \n",
    "    \n",
    "* **Non-Negative Matrix Factorization(NMF)**<br>\n",
    "    `NMF` is a collaborative filtering algorithm that is similar to SVD. This algorithm finds two non-negative matrices and the product of two matrices approximates the non-negative X. The factorization applied here can be used as an example for dimensionality reduction.\n",
    "\n",
    "* **BaselineOnly**<br>\n",
    "    `BaselineOnly` is an algorithm predicts the baseline estimate for given user and item. It is one of the basic algorithms. Basic models do not do much work but we still need them as they are useful when we want to compare accuracies. \n",
    "    \n",
    "Note that these algorithms rely on intense mathematical techniques. More about these algorithms can be found on the suprise package information page.\n",
    "    \n",
    "    "
   ]
  },
  {
   "cell_type": "markdown",
   "execution_count": null,
   "metadata": {
    "id": "Vs8wHiliGE2_"
   },
   "source": [
    "### Cross validation"
   ]
  },
  {
   "cell_type": "markdown",
   "execution_count": null,
   "metadata": {
    "id": "6gfzbom6GE3A"
   },
   "source": [
    "The `cross_validate()` function runs a cross-validation procedure according to the cv argument, and computes some accuracy measures.<br>\n",
    "\n",
    "To know which algorithm will perform best, we first check the cross validate results, to save us time and space from training all algorithms.In this section we choose the best algorithm. Let's assess the cross_validate results for the models. We are looking for an algorithm with the lowest `test rmse`."
   ]
  },
  {
   "cell_type": "markdown",
   "execution_count": null,
   "metadata": {
    "id": "-2yc6FUa5kE8"
   },
   "source": [
    "First let us read in our data."
   ]
  },
  {
   "cell_type": "code",
   "execution_count": 47,
   "metadata": {
    "id": "XLe_KjGq5mC3"
   },
   "outputs": [],
   "source": [
    "# Instantiate the reader object\n",
    "reader = Reader()\n",
    "data = Dataset.load_from_df(df[['userId', 'movieId', 'rating']], reader)\n"
   ]
  },
  {
   "cell_type": "markdown",
   "execution_count": null,
   "metadata": {
    "id": "K7DM9zL-GE3A"
   },
   "source": [
    "#### SVD Performance"
   ]
  },
  {
   "cell_type": "markdown",
   "execution_count": null,
   "metadata": {
    "id": "HWfSw0wT5ZUU"
   },
   "source": [
    "`cross_validate(algorithm_svd, data, measures=['RMSE'], cv=3, verbose=False)`\n",
    "<br>\n",
    "\n",
    "`{'test_rmse': array([0.84548699, 0.84660084, 0.845991  ]),\n",
    " 'fit_time': (881.7942757606506, 889.0900523662567, 885.4885053634644),\n",
    " 'test_time': (121.4857976436615, 126.40761017799377, 137.64266920089722)}`"
   ]
  },
  {
   "cell_type": "markdown",
   "execution_count": null,
   "metadata": {
    "id": "ad3GDUEqGE3E"
   },
   "source": [
    "#### Baseline Performance"
   ]
  },
  {
   "cell_type": "markdown",
   "execution_count": null,
   "metadata": {
    "id": "gE5nuyayGE3E"
   },
   "source": [
    "`bsl_options = {'method': 'als', 'n_epochs': 5,'reg_u': 12,'reg_i': 5}\n",
    "cross_validate(BaselineOnly(bsl_options=bsl_options), data, measures=['RMSE'], cv=3, verbose=False)`\n",
    "\n",
    "`{'test_rmse': array([0.86745023, 0.86732325, 0.86822369]),\n",
    " 'fit_time': (18.905017614364624, 22.70960807800293, 23.073598861694336),\n",
    " 'test_time': (59.38574409484863, 60.329806327819824, 64.02023839950562)}`\n",
    " \n",
    "\n",
    "\n",
    "\n",
    "\n",
    "\n"
   ]
  },
  {
   "cell_type": "markdown",
   "execution_count": null,
   "metadata": {
    "id": "S2o2kL78GE3F"
   },
   "source": [
    "#### NMF performance"
   ]
  },
  {
   "cell_type": "markdown",
   "execution_count": null,
   "metadata": {
    "id": "bVfYO8ZfGE3F"
   },
   "source": [
    "`cross_validate(NMF(), data, measures=['RMSE'], cv=3, verbose=False)`\n",
    "<br>\n",
    "\n",
    "`{'test_rmse': array([0.88901116, 0.88867021, 0.88883018]),\n",
    " 'fit_time': (988.345846414566, 961.9062538146973, 988.6009919643402),\n",
    " 'test_time': (92.31729197502136, 76.45683908462524, 90.96124601364136)}`"
   ]
  },
  {
   "cell_type": "markdown",
   "execution_count": null,
   "metadata": {
    "id": "uDTBacFIGE3G"
   },
   "source": [
    "#### SVD Performance"
   ]
  },
  {
   "cell_type": "markdown",
   "execution_count": null,
   "metadata": {
    "id": "vYQAhLbJGE3G"
   },
   "source": [
    "`cross_validate(algorithm_svd, data, measures=['RMSE'], cv=3, verbose=False)`\n",
    "<br>\n",
    "\n",
    "`{'test_rmse': array([0.84548699, 0.84660084, 0.845991  ]),\n",
    " 'fit_time': (881.7942757606506, 889.0900523662567, 885.4885053634644),\n",
    " 'test_time': (121.4857976436615, 126.40761017799377, 137.64266920089722)}`"
   ]
  },
  {
   "cell_type": "markdown",
   "execution_count": null,
   "metadata": {
    "id": "q2VX8fu_3tZO"
   },
   "source": [
    "### Evaluation of Algorithms"
   ]
  },
  {
   "cell_type": "markdown",
   "execution_count": null,
   "metadata": {
    "id": "fmOUWxnQGE3H"
   },
   "source": [
    "#### Summary of rmse's for algorithms"
   ]
  },
  {
   "cell_type": "code",
   "execution_count": 48,
   "metadata": {
    "id": "Z4dE-wUwGE3L"
   },
   "outputs": [
    {
     "data": {
      "text/html": [
       "<div>\n",
       "<style scoped>\n",
       "    .dataframe tbody tr th:only-of-type {\n",
       "        vertical-align: middle;\n",
       "    }\n",
       "\n",
       "    .dataframe tbody tr th {\n",
       "        vertical-align: top;\n",
       "    }\n",
       "\n",
       "    .dataframe thead th {\n",
       "        text-align: right;\n",
       "    }\n",
       "</style>\n",
       "<table border=\"1\" class=\"dataframe\">\n",
       "  <thead>\n",
       "    <tr style=\"text-align: right;\">\n",
       "      <th></th>\n",
       "      <th>RMSE</th>\n",
       "    </tr>\n",
       "  </thead>\n",
       "  <tbody>\n",
       "    <tr>\n",
       "      <th>SVD</th>\n",
       "      <td>0.845487</td>\n",
       "    </tr>\n",
       "    <tr>\n",
       "      <th>BaselineOnly</th>\n",
       "      <td>0.867450</td>\n",
       "    </tr>\n",
       "    <tr>\n",
       "      <th>NMF</th>\n",
       "      <td>0.889011</td>\n",
       "    </tr>\n",
       "  </tbody>\n",
       "</table>\n",
       "</div>"
      ],
      "text/plain": [
       "                  RMSE\n",
       "SVD           0.845487\n",
       "BaselineOnly  0.867450\n",
       "NMF           0.889011"
      ]
     },
     "execution_count": 48,
     "metadata": {},
     "output_type": "execute_result"
    }
   ],
   "source": [
    "algorithms = ['SVD', 'BaselineOnly', 'NMF']\n",
    "rmse_scores = [0.84548699, 0.86745023, 0.88901116]\n",
    "pd.DataFrame(rmse_scores, algorithms, columns=['RMSE'])\n"
   ]
  },
  {
   "cell_type": "markdown",
   "execution_count": null,
   "metadata": {
    "id": "W6F5-CXJ58At"
   },
   "source": [
    "Above when, we did the cross validation,the SVD did better and we decided to tune it to get even better performance. The tuned SVD, `SVD(lr_all=009,n_factors=20)` performed the best as it gave the lowest `rmse` score. It is of no surprise that the SVD did well since it is a matrix factorization algorithm, which means it breaks down a large matrix into a product of smaller ones thus untangling the data, in a sense that we extract useful information in this haystack of large data."
   ]
  },
  {
   "cell_type": "markdown",
   "execution_count": null,
   "metadata": {
    "id": "w6t47JaRGE3O"
   },
   "source": [
    "#### Fit the best algorithm"
   ]
  },
  {
   "cell_type": "markdown",
   "execution_count": null,
   "metadata": {
    "id": "KmTon6sYGE3O"
   },
   "source": [
    "Our best algorithm, the `SVD(lr_all=0.009,n_factors=20)`, gave the lowest `test rmse` hence we only test and get predictions only for that algorithm.\n",
    "<br>\n",
    "\n",
    "**Caution : This might take hours to run!!!**"
   ]
  },
  {
   "cell_type": "code",
   "execution_count": 49,
   "metadata": {
    "id": "-LV8HhlgGE3P"
   },
   "outputs": [
    {
     "data": {
      "text/plain": [
       "<surprise.prediction_algorithms.matrix_factorization.SVD at 0x7f63fbef92d0>"
      ]
     },
     "execution_count": 49,
     "metadata": {},
     "output_type": "execute_result"
    }
   ],
   "source": [
    "# Define the algorithm\n",
    "algorithm_svd_tuned = SVD(lr_all=0.009, n_factors=20)\n",
    "\n",
    "# Build the trainset\n",
    "trainset = data.build_full_trainset()\n",
    "\n",
    "# Fit the model\n",
    "algorithm_svd_tuned.fit(trainset)\n"
   ]
  },
  {
   "cell_type": "markdown",
   "execution_count": null,
   "metadata": {
    "id": "J04ShNnQGE3U"
   },
   "source": [
    "### Predictions"
   ]
  },
  {
   "cell_type": "code",
   "execution_count": 50,
   "metadata": {
    "id": "O-WFCYcAGE3V"
   },
   "outputs": [],
   "source": [
    "\n",
    "def get_predictions(algorithm):\n",
    "    \"\"\"\n",
    "    The functions makes predictions of ratings\n",
    "    to match them with the user_movie ids.\n",
    "\n",
    "    Parameters\n",
    "    -----------\n",
    "    model : fitted model\n",
    "    Returns\n",
    "    -------\n",
    "    Pandas Dataframe :\n",
    "        dataframe with user_movie ids and ratings\n",
    "    \"\"\"\n",
    "    # Create a new list to add predictions.\n",
    "    # Iterate over the test_df, select user and movie.\n",
    "    # Predict ratings using the algo.predict() method.\n",
    "    # Append the predictions to the p list.\n",
    "    X = test_df[['userId', 'movieId']]\n",
    "    p = []\n",
    "    for k in range(len(test_df)):\n",
    "        user = X.iloc[k][0]\n",
    "        movie = X.iloc[k][1]\n",
    "        predicted = algorithm.predict(user, movie).est\n",
    "        p.append(predicted)\n",
    "\n",
    "    predictions = [round(num, 3) for num in p]\n",
    "\n",
    "    # Create dataframe for the ratings.\n",
    "    # Create dataframe for the user_movie ids.\n",
    "    # Concatenate the two dataframes.\n",
    "    rate = np.array(predictions)\n",
    "    rating = pd.DataFrame(rate, columns=['rating'])\n",
    "\n",
    "    Idd = np.array([str(x)+\"_\"+str(y) for x, y in test_df[[\n",
    "        'userId', 'movieId']].values]).reshape(-1, 1)\n",
    "    Id = pd.DataFrame(Idd, columns=['Id'])\n",
    "\n",
    "    data_df = pd.concat([Id, rating], axis=1)\n",
    "\n",
    "    return data_df\n"
   ]
  },
  {
   "cell_type": "code",
   "execution_count": 51,
   "metadata": {
    "id": "Mn3hoXG9GE3Z"
   },
   "outputs": [
    {
     "data": {
      "text/html": [
       "<div>\n",
       "<style scoped>\n",
       "    .dataframe tbody tr th:only-of-type {\n",
       "        vertical-align: middle;\n",
       "    }\n",
       "\n",
       "    .dataframe tbody tr th {\n",
       "        vertical-align: top;\n",
       "    }\n",
       "\n",
       "    .dataframe thead th {\n",
       "        text-align: right;\n",
       "    }\n",
       "</style>\n",
       "<table border=\"1\" class=\"dataframe\">\n",
       "  <thead>\n",
       "    <tr style=\"text-align: right;\">\n",
       "      <th></th>\n",
       "      <th>Id</th>\n",
       "      <th>rating</th>\n",
       "    </tr>\n",
       "  </thead>\n",
       "  <tbody>\n",
       "    <tr>\n",
       "      <th>0</th>\n",
       "      <td>1_2011</td>\n",
       "      <td>2.770</td>\n",
       "    </tr>\n",
       "    <tr>\n",
       "      <th>1</th>\n",
       "      <td>1_4144</td>\n",
       "      <td>4.335</td>\n",
       "    </tr>\n",
       "    <tr>\n",
       "      <th>2</th>\n",
       "      <td>1_5767</td>\n",
       "      <td>3.580</td>\n",
       "    </tr>\n",
       "    <tr>\n",
       "      <th>3</th>\n",
       "      <td>1_6711</td>\n",
       "      <td>4.133</td>\n",
       "    </tr>\n",
       "    <tr>\n",
       "      <th>4</th>\n",
       "      <td>1_7318</td>\n",
       "      <td>3.241</td>\n",
       "    </tr>\n",
       "  </tbody>\n",
       "</table>\n",
       "</div>"
      ],
      "text/plain": [
       "       Id  rating\n",
       "0  1_2011   2.770\n",
       "1  1_4144   4.335\n",
       "2  1_5767   3.580\n",
       "3  1_6711   4.133\n",
       "4  1_7318   3.241"
      ]
     },
     "execution_count": 51,
     "metadata": {},
     "output_type": "execute_result"
    }
   ],
   "source": [
    "predicted = get_predictions(algorithm_svd_tuned)\n",
    "predicted.head()\n"
   ]
  },
  {
   "cell_type": "code",
   "execution_count": 52,
   "metadata": {
    "id": "VMAHvR2MGE3f"
   },
   "outputs": [],
   "source": [
    "predicted.to_csv(\"/kaggle/working/final_sub.csv\", index=False)\n"
   ]
  },
  {
   "cell_type": "markdown",
   "execution_count": null,
   "metadata": {
    "id": "IoP8kc853tZM"
   },
   "source": [
    "[Back to contents](#contents)"
   ]
  },
  {
   "cell_type": "markdown",
   "execution_count": null,
   "metadata": {
    "id": "P62Ze804GE1z"
   },
   "source": [
    "<a id='the_movie'></a>\n",
    "## 10. Recommender system for movie recommendation"
   ]
  },
  {
   "cell_type": "markdown",
   "execution_count": null,
   "metadata": {
    "id": "Eik7p1IzGE1z"
   },
   "source": [
    "In this section, as already mentioned in the previous section, we will use both filtering methods to recommend movies. A good defination of what `Content Based Filtering` is has been given in the section before this. Here, however we will look into the **advantages** and **disadvantages** of content based filtering as well as some of the short comings of the recommender system.\n",
    "\n",
    "**Types of alogrithms in the content based filtering family**:\n",
    "* **Pearson correlation**: Similarity between two users (and their attributes, such as articles read from a collection of blogs) can be accurately calculated with the `Pearson correlation`. The alogrothm measures the linear dependance between two variables as a function of their attributes. The shotfall of this alogrithm however is that it does not calculate this measure over the entire population base.\n",
    "* **Clustering alogrithms**: The alogrithm works by  identifying similarities among items, such as blog readers, by calculating their distance from other items in a `feature space`. The number of independent features defines the dimensionality of the space. If items are \"close\" together, they can be joined in a ` cluster`. A family of other clustering alogrithms that can be used in content based filtering includes **k-means**, **Adoptive Resonance Theory(ART)**, **Expectation-Maximization**.\n",
    "\n",
    "**Advantages of Content Based Filtering**\n",
    "* The model `doesn't need any data about other users`, since the recommendations are specific to this user. This makes it `easier to scale` to a `large number of users`.\n",
    "* The model can `capture the specific interests of a user`, and can `recommend niche items` that very few other users are interested in.\n",
    "\n",
    "**Disadvantages of Content Based Filtering**\n",
    "* Since the `feature representation of the items are hand-engineered to some extent`, this technique requires a `lot of domain knowledge`. Therefore, the model can only be as good as the hand-engineered features.\n",
    "* The model can only make `recommendations based on existing interests of the user`. In other words, the model has limited ability to expand on the users' existing interests.\n",
    "<br>\n",
    "\n",
    "Now let us use some content based filtering to recommend similar movies to a given user.\n"
   ]
  },
  {
   "cell_type": "markdown",
   "execution_count": null,
   "metadata": {
    "id": "S89FzFgg3tZg"
   },
   "source": [
    "### Recommendations using collaborative based filtering\n",
    "We create a fuction that uses collaborative based filtering to recommend movies."
   ]
  },
  {
   "cell_type": "code",
   "execution_count": 53,
   "metadata": {
    "id": "dneiCrgjGsV8"
   },
   "outputs": [],
   "source": [
    "train_df = train_df[:2700]  # Subset of train_df to see comparison\n",
    "\n",
    "\n",
    "def collab_model(movie_list, top_n=10):\n",
    "    \"\"\"Performs Collaborative filtering based upon a list of movies supplied\n",
    "       by the app user.\n",
    "\n",
    "    Parameters\n",
    "    ----------\n",
    "    movie_list : list (str)\n",
    "        Favorite movies chosen by the app user.\n",
    "    top_n : type\n",
    "        Number of top recommendations to return to the user.\n",
    "\n",
    "    Returns\n",
    "    -------\n",
    "    list (str)\n",
    "        Titles of the top-n movie recommendations to the user.\n",
    "\n",
    "    \"\"\"\n",
    "    # Select features to use and create a utility matrix\n",
    "    rate = pd.merge(train_df[[\n",
    "        'userId', 'movieId', 'rating']], movies_df[[\n",
    "            'title', \"movieId\"]], on=\"movieId\")\n",
    "    util_matrix = rate.pivot_table(\n",
    "        index=['title'], columns=['userId'], values='rating')\n",
    "\n",
    "    # Normalize each row (a given user's ratings) of the utility matrix\n",
    "    util_matrix_norm = util_matrix.apply(\n",
    "        lambda x: (x-np.mean(x))/(np.max(x)-np.min(x)), axis=1)\n",
    "\n",
    "    # Fill Nan values with 0's, transpose matrix, drop users with no ratings\n",
    "    util_matrix_norm.fillna(0, inplace=True)\n",
    "    util_matrix_norm = util_matrix_norm.T\n",
    "    util_matrix_norm = util_matrix_norm.loc[:, (\n",
    "        util_matrix_norm != 0).any(axis=0)]\n",
    "\n",
    "    # Save the utility matrix in scipy's sparse matrix format\n",
    "    util_matrix_sparse = sp.sparse.csr_matrix(util_matrix_norm.values)\n",
    "\n",
    "    # Compute the similarity matrix using the cosine similarity metric\n",
    "    movie_similarity = cosine_similarity(util_matrix_sparse.T)\n",
    "\n",
    "    # Save the matrix as a dataframe to allow for easier indexing\n",
    "    movie_sim_df = pd.DataFrame(\n",
    "        movie_similarity, index=util_matrix_norm.columns,\n",
    "        columns=util_matrix_norm.columns)\n",
    "\n",
    "    # select movie 1\n",
    "    if movie_list[0] not in movie_sim_df.columns:\n",
    "        movie1 = pd.DataFrame()\n",
    "    else:\n",
    "        movie1 = pd.DataFrame(movie_sim_df[movie_list[0]])\n",
    "        movie1 = movie1.reset_index()\n",
    "        movie1['similarity'] = movie1[movie_list[0]]\n",
    "        movie1 = pd.DataFrame(movie1, columns=['title', 'similarity'])\n",
    "\n",
    "    # select movie 2\n",
    "    if movie_list[1] not in movie_sim_df.columns:\n",
    "        movie2 = pd.DataFrame()\n",
    "    else:\n",
    "        movie2 = pd.DataFrame(movie_sim_df[movie_list[1]])\n",
    "        movie2 = movie2.reset_index()\n",
    "        movie2['similarity'] = movie2[movie_list[1]]\n",
    "        movie2 = pd.DataFrame(movie2, columns=['title', 'similarity'])\n",
    "\n",
    "    # select movie 3\n",
    "    if movie_list[2] not in movie_sim_df.columns:\n",
    "        movie3 = pd.DataFrame()\n",
    "    else:\n",
    "        movie3 = pd.DataFrame(movie_sim_df[movie_list[2]])\n",
    "        movie3 = movie3.reset_index()\n",
    "        movie3['similarity'] = movie3[movie_list[2]]\n",
    "        movie3 = pd.DataFrame(movie3, columns=['title', 'similarity'])\n",
    "\n",
    "    finalmovies = pd.concat([movie1, movie2, movie3])\n",
    "    if finalmovies.empty:\n",
    "        reco = rate.groupby(\n",
    "            'title').mean().sort_values(\n",
    "                by='rating', ascending=False).index[:10].to_list()\n",
    "        recommended_movies = random.sample(reco, top_n)\n",
    "    else:\n",
    "        recommended_movies = finalmovies.sort_values(\n",
    "            'similarity', ascending=False)\n",
    "        recommended_movies = recommended_movies[~(\n",
    "            recommended_movies['title'].isin(movie_list))]\n",
    "        recommended_movies = list(recommended_movies[0:top_n]['title'])\n",
    "\n",
    "        return recommended_movies\n"
   ]
  },
  {
   "cell_type": "markdown",
   "execution_count": null,
   "metadata": {
    "id": "kJwYngg3GE10"
   },
   "source": [
    "### Recommendations using content based filtering"
   ]
  },
  {
   "cell_type": "markdown",
   "execution_count": null,
   "metadata": {
    "id": "3rqc02p03tZn"
   },
   "source": [
    "Now we create three fuctions using content based filtering to recomment movies. The first one will suggest movies based on grenres, the second one based on plot ,cast and directors, and the last one based on movie titles."
   ]
  },
  {
   "cell_type": "code",
   "execution_count": 54,
   "metadata": {
    "id": "Sbl28btuGE10"
   },
   "outputs": [],
   "source": [
    "def content_model(movie_list, top_n=10):\n",
    "    \"\"\"Performs content filtering based upon a list of movies supplied\n",
    "       by the app user.Recommendation based on movie genres\n",
    "\n",
    "    Parameters\n",
    "    ----------\n",
    "    movie_list : list (str)\n",
    "        Favorite movies chosen by the app user.\n",
    "    top_n : type\n",
    "        Number of top recommendations to return to the user.\n",
    "\n",
    "    Returns\n",
    "    -------\n",
    "    list (str)\n",
    "        Titles of the top-n movie recommendations to the user.\n",
    "\n",
    "    \"\"\"\n",
    "    # Take subset of database\n",
    "    df = movies_df[:27000]\n",
    "    df['genres'] = df['genres'].str.replace('|', ' ')\n",
    "    # Transforms text to feature vectors that can be used as input to estimator\n",
    "    tf = TfidfVectorizer(\n",
    "        analyzer='word', ngram_range=(1, 2), min_df=0, stop_words='english')\n",
    "    tfidf_matrix = tf.fit_transform(df['genres'])\n",
    "    tfidf_matrix.shape\n",
    "\n",
    "    # Compute cosine similarity between samples\n",
    "    cosine_sim = linear_kernel(tfidf_matrix, tfidf_matrix)\n",
    "    df = df.reset_index()\n",
    "    df = df.drop('index', axis=1)\n",
    "    titles = df['title']\n",
    "    indices = pd.Series(df.index, index=df['title'])\n",
    "\n",
    "    # first movie\n",
    "    idx1 = indices[movie_list[0]]\n",
    "    sim_scores1 = list(enumerate(cosine_sim[idx1]))\n",
    "    sim_scores1 = sorted(sim_scores1, key=lambda x: x[1], reverse=True)\n",
    "    sim_scores1 = sim_scores1[0:5]\n",
    "\n",
    "    # second movie\n",
    "    idx2 = indices[movie_list[1]]\n",
    "    sim_scores2 = list(enumerate(cosine_sim[idx2]))\n",
    "    sim_scores2 = sorted(sim_scores2, key=lambda x: x[1], reverse=True)\n",
    "    sim_scores2 = sim_scores2[0:5]\n",
    "\n",
    "    # third movie\n",
    "    idx3 = indices[movie_list[2]]\n",
    "    sim_scores3 = list(enumerate(cosine_sim[idx3]))\n",
    "    sim_scores3 = sorted(sim_scores3, key=lambda x: x[1], reverse=True)\n",
    "    sim_scores3 = sim_scores3[0:5]\n",
    "\n",
    "    mix = sim_scores3+sim_scores2+sim_scores1\n",
    "    mix = sorted(mix, key=lambda x: x[1], reverse=True)\n",
    "    movie_indices = [i[0] for i in mix]\n",
    "    recc = (titles.iloc[movie_indices])\n",
    "    recc = [elem for elem in recc if elem not in movie_list]\n",
    "    return recc[0:top_n]\n",
    "\n"
   ]
  },
  {
   "cell_type": "code",
   "execution_count": 55,
   "metadata": {
    "id": "1qhoRpDLGE2Y"
   },
   "outputs": [],
   "source": [
    "def content_model1(movie_list, top_n=10):\n",
    "    \"\"\"Performs content filtering based upon a list of movies supplied\n",
    "       by the app user.Recommendation will\n",
    "       be based on mixture of movie properties\n",
    "\n",
    "    Parameters\n",
    "    ----------\n",
    "    movie_list : list (str)\n",
    "        Favorite movies chosen by the app user.\n",
    "    top_n : type\n",
    "        Number of top recommendations to return to the user.\n",
    "\n",
    "    Returns\n",
    "    -------\n",
    "    list (str)\n",
    "        Titles of the top-n movie recommendations to the user.\n",
    "\n",
    "    \"\"\"\n",
    "    df = movies_df[:27000]\n",
    "    imdb_df = imdb_df = pd.read_csv(\n",
    "        '/kaggle/input/edsa-recommender-system-predict/imdb_data.csv')\n",
    "    imdb_df['title_cast'] = imdb_df['title_cast'].str.replace('|', ' ')\n",
    "    imdb_df['plot_keywords'] = imdb_df['plot_keywords'].str.replace('|', ' ')\n",
    "    imdb_df = imdb_df.drop(['budget'], axis=1)\n",
    "\n",
    "    # Create soup of movie properties\n",
    "    # Soup of Plotkyeowrds ,cast ,director and genres\n",
    "    imdb_df['movie_attributes'] = imdb_df[\n",
    "        'title_cast'] + imdb_df['plot_keywords'] + imdb_df['director']\n",
    "    attributes_df = pd.merge(df, imdb_df, on='movieId')\n",
    "    attributes_df['attributes'] = attributes_df[\n",
    "        'movie_attributes'] + attributes_df['genres']\n",
    "    attributes_df = attributes_df.drop([\n",
    "        'title_cast', 'title_cast', 'director',\n",
    "        'plot_keywords', 'movie_attributes'], axis=1)\n",
    "    # fill null values with the value of genre\n",
    "    attributes_df['attributes'] = attributes_df[\n",
    "        'attributes'].fillna(attributes_df['genres'])\n",
    "\n",
    "    # Transforms text to feature vectors that can be used as input to estimator\n",
    "    tf = TfidfVectorizer(\n",
    "        analyzer='word', ngram_range=(1, 2), min_df=0, stop_words='english')\n",
    "    tfidf_matrix1 = tf.fit_transform(attributes_df['attributes'])\n",
    "    cosine_sim1 = linear_kernel(tfidf_matrix1, tfidf_matrix1)\n",
    "    tfidf_matrix1.shape\n",
    "    cosine_sim1 = linear_kernel(tfidf_matrix1, tfidf_matrix1)\n",
    "    attributes_df = attributes_df.reset_index()\n",
    "    attributes_df = attributes_df.drop('index', axis=1)\n",
    "    indices1 = pd.Series(attributes_df.index, index=attributes_df['title'])\n",
    "    titles = attributes_df['title']\n",
    "\n",
    "    # first movie\n",
    "    idx1 = indices1[movie_list[0]]\n",
    "    sim_scores1 = list(enumerate(cosine_sim1[idx1]))\n",
    "    sim_scores1 = sorted(sim_scores1, key=lambda x: x[1], reverse=True)\n",
    "    sim_scores1 = sim_scores1[0:5]\n",
    "\n",
    "    # second movie\n",
    "    idx2 = indices1[movie_list[1]]\n",
    "    sim_scores2 = list(enumerate(cosine_sim1[idx2]))\n",
    "    sim_scores2 = sorted(sim_scores2, key=lambda x: x[1], reverse=True)\n",
    "    sim_scores2 = sim_scores2[0:5]\n",
    "\n",
    "    # third movie\n",
    "    idx3 = indices1[movie_list[2]]\n",
    "    sim_scores3 = list(enumerate(cosine_sim1[idx3]))\n",
    "    sim_scores3 = sorted(sim_scores3, key=lambda x: x[1], reverse=True)\n",
    "    sim_scores3 = sim_scores3[0:5]\n",
    "\n",
    "    mix = sim_scores3+sim_scores2+sim_scores1\n",
    "    mix = sorted(mix, key=lambda x: x[1], reverse=True)\n",
    "    movie_indices = [i[0] for i in mix]\n",
    "    recc = (titles.iloc[movie_indices])\n",
    "    recc = [elem for elem in recc if elem not in movie_list]\n",
    "    return recc[0:top_n]\n"
   ]
  },
  {
   "cell_type": "code",
   "execution_count": 56,
   "metadata": {
    "id": "lc2O94HEGE2d"
   },
   "outputs": [],
   "source": [
    "def content_model2(movie_list, top_n=10):\n",
    "    \"\"\"Performs content filtering based upon a list of movies supplied\n",
    "       by the app user.Recommdendation based on movie titles\n",
    "\n",
    "    Parameters\n",
    "    ----------\n",
    "    movie_list : list (str)\n",
    "        Favorite movies chosen by the app user.\n",
    "    top_n : type\n",
    "        Number of top recommendations to return to the user.\n",
    "\n",
    "    Returns\n",
    "    -------\n",
    "    list (str)\n",
    "        Titles of the top-n movie recommendations to the user.\n",
    "\n",
    "    \"\"\"\n",
    "    df = movies_df[:27000]\n",
    "    # df['genres'] = df['genres'].str.replace('|', ' ')\n",
    "    tf = TfidfVectorizer(\n",
    "        analyzer='word', ngram_range=(1, 2), min_df=0, stop_words='english')\n",
    "    tfidf_matrix2 = tf.fit_transform(df['title'])\n",
    "    tfidf_matrix2.shape\n",
    "    cosine_sim2 = linear_kernel(tfidf_matrix2, tfidf_matrix2)\n",
    "    df = df.reset_index()\n",
    "    df = df.drop('index', axis=1)\n",
    "    titles = df['title']\n",
    "    indices2 = pd.Series(df.index, index=df['title'])\n",
    "\n",
    "    # first movie\n",
    "    idx1 = indices2[movie_list[0]]\n",
    "    sim_scores1 = list(enumerate(cosine_sim2[idx1]))\n",
    "    sim_scores1 = sorted(sim_scores1, key=lambda x: x[1], reverse=True)\n",
    "    sim_scores1 = sim_scores1[0:5]\n",
    "\n",
    "    # second movie\n",
    "    idx2 = indices2[movie_list[1]]\n",
    "    sim_scores2 = list(enumerate(cosine_sim2[idx2]))\n",
    "    sim_scores2 = sorted(sim_scores2, key=lambda x: x[1], reverse=True)\n",
    "    sim_scores2 = sim_scores2[0:5]\n",
    "\n",
    "    # third movie\n",
    "    idx3 = indices2[movie_list[2]]\n",
    "    sim_scores3 = list(enumerate(cosine_sim2[idx3]))\n",
    "    sim_scores3 = sorted(sim_scores3, key=lambda x: x[1], reverse=True)\n",
    "    sim_scores3 = sim_scores3[0:5]\n",
    "\n",
    "    mix = sim_scores3+sim_scores2+sim_scores1\n",
    "    mix = sorted(mix, key=lambda x: x[1], reverse=True)\n",
    "    movie_indices = [i[0] for i in mix]\n",
    "    recc = (titles.iloc[movie_indices])\n",
    "    recc = [elem for elem in recc if elem not in movie_list]\n",
    "    return recc[0:top_n]\n"
   ]
  },
  {
   "cell_type": "code",
   "execution_count": 57,
   "metadata": {
    "id": "j_1tXWnMGE2h"
   },
   "outputs": [],
   "source": [
    "movie_list = ['Toy Story (1995)', 'In Bruges (2008)', 'Lost, The (2009)']\n"
   ]
  },
  {
   "cell_type": "markdown",
   "execution_count": null,
   "metadata": {
    "id": "Q_bKMkgf3taI"
   },
   "source": [
    "**Side by side comparison of suggested movies**\n",
    "Given a list of movies i.e `Toy Story (1995),In Bruges (2008), Lost, The (2009)`\n",
    "Here we can observe how the movie suggestions using collaborative filtering and content based filtering differ even though they were based on the same three movies.\n",
    "![](https://github.com/Clarencia/unsupervised-predict-streamlit-template/blob/READme/resources/imgs/Movie_suggestions.png?raw=true)\n",
    "\n",
    "In the content based model, because one of the movie in the movie list is `Toy story (1995)`,some of the top ten recommended movies include `Toy Story 2 (1999)` and `Toy Story 3 (2010)` ,which are part of the same movie series .This is a good result result because there will be a continuation of the toy story for the user .They most likely are curious to see whay happens next in the story .This result also shows that the recommender recognises that they movies had the same cast and a very similar plot.\n",
    "\n",
    "For collaborative based filtering ,two users are considered similar if they have watched the same movie and have rated it the same (e.g if they both hated it).This information is then used to make the recommendation ,to say if you as user A have liked the same same 10 movies as user B ,then you will most likely like this list of 10 movies that user B has rated highly"
   ]
  },
  {
   "cell_type": "markdown",
   "execution_count": null,
   "metadata": {
    "id": "AwYYTSV23taI"
   },
   "source": [
    "[Back to contents](#contents)"
   ]
  },
  {
   "cell_type": "markdown",
   "execution_count": null,
   "metadata": {
    "id": "FOtES8Go3taJ"
   },
   "source": [
    "![](https://github.com/Clarencia/unsupervised-predict-streamlit-template/blob/READme/resources/imgs/Movie_suggestions.png.PNG?raw=true)"
   ]
  },
  {
   "cell_type": "markdown",
   "execution_count": null,
   "metadata": {
    "id": "5BvJYH5RGE3m"
   },
   "source": [
    "<a id='the_save'></a>\n",
    "## 11. Save the model"
   ]
  },
  {
   "cell_type": "code",
   "execution_count": 58,
   "metadata": {
    "id": "IeqdShYhGE3m"
   },
   "outputs": [],
   "source": [
    "model = algorithm_svd_tuned\n",
    "model_save = \"model.pkl\"\n",
    "with open(model_save, 'wb') as file:\n",
    "    pickle.dump(model, file)\n"
   ]
  },
  {
   "cell_type": "markdown",
   "execution_count": null,
   "metadata": {
    "id": "5znLIqfMGE3p"
   },
   "source": [
    "<a id='the_log'></a>\n",
    "## 12. Log to Comet"
   ]
  },
  {
   "cell_type": "code",
   "execution_count": 59,
   "metadata": {
    "id": "yX7SjhSCGE3p"
   },
   "outputs": [],
   "source": [
    "# Log the best algorithm.\n",
    "experiment.log_model('SVD_tuned', model_save)\n",
    "\n",
    "# Log the best hyperparameters\n",
    "experiment.log_parameters({'lr_all': 0.009, 'n_factors': 20})\n",
    "\n",
    "# Log the best rmse\n",
    "experiment.log_metric('RMSE', 0.81303)\n"
   ]
  },
  {
   "cell_type": "markdown",
   "execution_count": null,
   "metadata": {
    "id": "hXsvYFVE3taW"
   },
   "source": [
    "[Back to contents](#contents)"
   ]
  },
  {
   "cell_type": "markdown",
   "execution_count": null,
   "metadata": {
    "id": "1Mce4J8TGE3w"
   },
   "source": [
    "<a id='the_end'></a>\n",
    "## 13. Conclusion"
   ]
  },
  {
   "cell_type": "markdown",
   "execution_count": null,
   "metadata": {
    "id": "IE0J5NWE3taX"
   },
   "source": [
    "The purpose of the project was to build a recommender system, either content-based or collaborative, that will suggest a selection fo movies for a user to watch ,and also predict how a user would rate a movie they have not yet viewed based on previous ratings. To achieve this we first cleaned our data dropping uncessary columns, dropping duplicates, and overall ensuring there was uniformity with our data.\n",
    "\n",
    "The datasets we were given were in separate files, we had merge them based on same ids to get a complete picture . By so doing it allowed us to do make insightful exploratory data analysis, for example we were able to do a time series of runtime of movies by year and notice increasing trends of runtime of movies after the early 90's , looking the distribution of genres we were able to deduce what that the most made movies were drama.\n",
    "\n",
    "Recommender systems were discussed throughly. We have content-based filtering system, collaborative filtering system and the hybrid methods, which combine both content-based filtering and collaborative filtering. Content-based filtering is an **implicit** method, while collaborative filtering is an **explicit** method. The advantages and disadvantages of these systems also discussed.\n",
    "\n",
    "The major problem in recommender systems was discussed, the cold start problem, which is the difficulty of making recommendations when the users or the items are new. This cause the utility matrix to be **sparse**(contains many empty entries). The **utility** matrix is a matrix where on one axis you have the users and the other axis, items. Collarative Filtering is higly affected by the cold start problem since it uses ratings from individual users on individual items.\n",
    "\n",
    "To build the recommender system, we used python's scikit learn package `surprise`. The package only support collaborative filtering. As a result we chose to implement the collaborative filtering system using the package to get the predictions for ratings instead of doing it manually due to the large dataset restrictions we encountered. For movie recommendations, we took subsets, applied the two methods and made compared the two methods. The reason we did not use content based filtering it is because the utility matrix grows at an exponential rate and the limitations of large storage it could only cause more distress.\n",
    "\n",
    "To obtain the predictions we had to fit unsuperised learning models available in the surprise package. The algorithms (models) that we fitted were ; `SVD()`, `BaselineOnly` and `NMF`. The accuracy measure that we used for the predictions was the rmse. The aim was to obtain a low rmse score. The Baseline algorithm performed the second worst since it is a basic model and does not do much work. The Matrix factorization algorithm (SVD) was the best performing model. Tuning the SVD algorithm with the best hyperparamters, improved the score significantly.\n",
    "\n",
    "The best model was pickled and ready to be used for future predictions and results were logged into comet.\n",
    "\n"
   ]
  },
  {
   "cell_type": "markdown",
   "execution_count": null,
   "metadata": {
    "id": "S0SySemQ9uOE"
   },
   "source": [
    "It is always a good practice to end the experiment when done."
   ]
  },
  {
   "cell_type": "code",
   "execution_count": 60,
   "metadata": {
    "id": "W0TICthPGE31"
   },
   "outputs": [
    {
     "name": "stderr",
     "output_type": "stream",
     "text": [
      "COMET INFO: ---------------------------\n",
      "COMET INFO: Comet.ml Experiment Summary\n",
      "COMET INFO: ---------------------------\n",
      "COMET INFO:   Data:\n",
      "COMET INFO:     display_summary_level : 1\n",
      "COMET INFO:     url                   : https://www.comet.ml/crtshabangu/unsupervised-learning-ts2/8142b122ad49403d9309a31385e1a4f1\n",
      "COMET INFO:   Metrics:\n",
      "COMET INFO:     RMSE : 0.81303\n",
      "COMET INFO:   Parameters:\n",
      "COMET INFO:     lr_all    : 0.009\n",
      "COMET INFO:     n_factors : 20\n",
      "COMET INFO:   Uploads [count]:\n",
      "COMET INFO:     code                : 1 (25 KB)\n",
      "COMET INFO:     environment details : 1\n",
      "COMET INFO:     figures [12]        : 12\n",
      "COMET INFO:     filename            : 1\n",
      "COMET INFO:     installed packages  : 1\n",
      "COMET INFO:     model-element       : 1\n",
      "COMET INFO:     notebook            : 1\n",
      "COMET INFO:     os packages         : 1\n",
      "COMET INFO: ---------------------------\n",
      "COMET INFO: Uploading stats to Comet before program termination (may take several seconds)\n",
      "COMET INFO: Waiting for completion of the file uploads (may take several seconds)\n",
      "COMET INFO: Still uploading\n",
      "COMET INFO: Still uploading\n",
      "COMET INFO: Still uploading\n",
      "COMET INFO: Still uploading\n",
      "COMET INFO: Still uploading\n",
      "COMET INFO: Still uploading\n",
      "COMET INFO: Still uploading\n",
      "COMET INFO: Still uploading\n",
      "COMET INFO: Still uploading\n",
      "COMET INFO: Still uploading\n",
      "COMET INFO: Still uploading\n"
     ]
    }
   ],
   "source": [
    "experiment.end()\n"
   ]
  },
  {
   "cell_type": "markdown",
   "execution_count": null,
   "metadata": {
    "id": "lfIodiaQ3tab"
   },
   "source": [
    "[Back to contents](#contents)"
   ]
  },
  {
   "cell_type": "markdown",
   "execution_count": null,
   "metadata": {
    "id": "YjTOd0zK9pTs"
   },
   "source": [
    "Display the comet page."
   ]
  },
  {
   "cell_type": "code",
   "execution_count": 61,
   "metadata": {
    "id": "y90luXWW3tab"
   },
   "outputs": [
    {
     "data": {
      "text/html": [
       "\n",
       "        <iframe\n",
       "            width=\"100%\"\n",
       "            height=\"800px\"\n",
       "            src=\"https://www.comet.ml/crtshabangu/unsupervised-learning-ts2/8142b122ad49403d9309a31385e1a4f1\"\n",
       "            frameborder=\"0\"\n",
       "            allowfullscreen\n",
       "        ></iframe>\n",
       "        "
      ],
      "text/plain": [
       "<IPython.lib.display.IFrame at 0x7f63f575efd0>"
      ]
     },
     "metadata": {},
     "output_type": "display_data"
    }
   ],
   "source": [
    "experiment.display()"
   ]
  },
  {
   "cell_type": "markdown",
   "execution_count": null,
   "metadata": {
    "id": "JD717r2w9835"
   },
   "source": [
    "<a id = 'the_ref'></a>\n",
    "## 14. References "
   ]
  },
  {
   "cell_type": "markdown",
   "execution_count": null,
   "metadata": {
    "id": "kyRShBDV-AcN"
   },
   "source": [
    "*   Recommender systems:\n",
    "      * https://stackabuse.com/creating-a-simple-recommender-system-in-python-using-pandas/\n",
    "      * https://blog.cambridgespark.com/tutorial-practical-introduction-to-recommender-systems-dbe22848392b\n",
    "      * https://towardsdatascience.com/building-and-testing-recommender-systems-with-surprise-step-by-step-d4ba702ef80b\n",
    "\n",
    "*   More on the advantages and disadvantages of collaborative filtering : https://developers.google.com/machine-learning/recommendation/collaborative/summary\n",
    "\n",
    "\n"
   ]
  }
 ],
 "metadata": {
  "kernelspec": {
   "display_name": "Python 3",
   "language": "python",
   "name": "python3"
  },
  "language_info": {
   "codemirror_mode": {
    "name": "ipython",
    "version": 3
   },
   "file_extension": ".py",
   "mimetype": "text/x-python",
   "name": "python",
   "nbconvert_exporter": "python",
   "pygments_lexer": "ipython3",
   "version": "3.7.6"
  }
 },
 "nbformat": 4,
 "nbformat_minor": 4
}
