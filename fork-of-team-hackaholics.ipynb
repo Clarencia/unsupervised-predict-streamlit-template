{
 "cells": [
  {
   "cell_type": "markdown",
   "metadata": {
    "id": "OJ4Bb3tchIb4"
   },
   "source": [
    "# <center>EDSA Movie Recommendation Challenge</center>"
   ]
  },
  {
   "cell_type": "markdown",
   "metadata": {
    "id": "MGjdGTFPhIb6"
   },
   "source": [
    "## Introduction"
   ]
  },
  {
   "cell_type": "markdown",
   "metadata": {
    "id": "c9jhP4JmhIb6"
   },
   "source": [
    "In today’s technology driven world, recommender systems are socially and economically critical for ensuring that individuals can make appropriate choices surrounding the content they engage with on a daily basis. One application where this is especially true surrounds movie content recommendations; where intelligent algorithms can help viewers find great titles from tens of thousands of options. \n",
    "<br>\n",
    "\n",
    "Providing an accurate and robust solution to this challenge has immense economic potential, with users of the system being exposed to content they would like to view or purchase - generating revenue and platform affinity."
   ]
  },
  {
   "cell_type": "markdown",
   "metadata": {
    "id": "GzZpu620hIb7"
   },
   "source": [
    "## Problem Statement"
   ]
  },
  {
   "cell_type": "markdown",
   "metadata": {
    "id": "2YQQBpK5hIb8"
   },
   "source": [
    "The aim of this project is to **construct a recommendation algorithm based on `content or collaborative filtering`, capable of accurately predicting how a user will rate a movie they have not yet viewed based on their historical preferences.**\n",
    "<br>\n",
    "\n",
    "The evaluation metric will be the `Root Mean Square Error(RMSE)`. The lower(close to 0) the error, the better.\n",
    "<br>\n",
    "\n",
    "To view more infomation about the compepition [Click here](https://www.kaggle.com/c/edsa-recommender-system-predict/overview)"
   ]
  },
  {
   "cell_type": "markdown",
   "metadata": {
    "id": "QLZFDw9ohIb9"
   },
   "source": [
    "## Table of Contents"
   ]
  },
  {
   "cell_type": "markdown",
   "metadata": {
    "id": "7E0MKuJ_hIcA"
   },
   "source": [
    "* [Data Overview](#the_over)\n",
    "* [Connect to Comet](#the_connect)\n",
    "* [Import librabies](#the_library)\n",
    "* [Load datasets](#the_data)\n",
    "* [Inspect Datasets](#the_inspect)\n",
    "* [Data Cleaning](#the_clean)\n",
    "* [Explonatory Data Analysis](#the_eda)\n",
    "* [Feature Engineering](#the_engineer)\n",
    "* [Implementation of Recommender Systems](#the_recommender)\n",
    "* [Assessing Accuracy](#the_assess)\n",
    "* [Conclusion](#the_conclusion)\n"
   ]
  },
  {
   "cell_type": "markdown",
   "metadata": {
    "id": "zGf_9ldHhIcB"
   },
   "source": [
    "<a id='the_over'></a>\n",
    "## Data Overview"
   ]
  },
  {
   "cell_type": "markdown",
   "metadata": {
    "id": "Wc0W7hR6hIcC"
   },
   "source": [
    "This dataset consists of several million 5-star ratings obtained from users of the online [MovieLens](http://movielens.org/ ) movie recommendation service. The data for the MovieLens dataset is maintained by the [GroupLens](https://grouplens.org/)  research group in the Department of Computer Science and Engineering at the University of Minnesota. Additional movie content data was legally scraped from [IMDB](https://www.imdb.com/).\n",
    "\n",
    "Below is a table of supplied files that will be used in this notebook:\n",
    "\n"
   ]
  },
  {
   "cell_type": "markdown",
   "metadata": {
    "id": "Gx9ARX2hhIcC"
   },
   "source": [
    "| **File Name** | **Description** |\n",
    "|:---------:|:----------------|\n",
    "|   **genome_scores.csv**   |A score mapping the strength between movies and tag-related properties. Read more [here](http://files.grouplens.org/papers/tag_genome.pdf) |\n",
    "|   **genome_tags.csv**   |User assigned tags for genome-related scores. |\n",
    "|   **imdb_data.csv**   |Additional movie metadata scraped from IMDB using the links.csv file. |\n",
    "|  **links.csv**   |File providing a mapping between a MovieLens ID and associated IMDB and TMDB IDs. |  \n",
    "|  **sample_submission.csv**   |Sample of the submission format for the hackathon. | \n",
    "|  **tags.csv**   |User assigned for the movies within the dataset. | \n",
    "|  **test.csv**   |The test split of the dataset. Contains user and movie IDs with no rating data. | \n",
    "|  **train.csv**   |The training split of the dataset. Contains user and movie IDs with associated rating data. | \n"
   ]
  },
  {
   "cell_type": "markdown",
   "metadata": {
    "id": "ABNy5EXPhIcD"
   },
   "source": [
    "**Ratings Data File Structure (train.csv)**\n",
    "\n",
    "All ratings are contained in the file train.csv. Each line of this file after the header row represents one rating of one movie by one user, and has the following features:\n",
    "\n",
    "| userId | movieId | rating | timestamp |\n",
    "|:---------:|:----------------|:---------:|:----------------|\n",
    "\n",
    "\n",
    "The lines within this file are ordered first by userId, then, within user, by movieId. Ratings are made on a 5-star scale, with half-star increments (0.5 stars - 5.0 stars). Timestamps represent seconds since midnight Coordinated Universal Time (UTC) of January 1, 1970.\n",
    "\n",
    "**Tags Data File Structure (tags.csv)**\n",
    "\n",
    "All tags are contained in the file tags.csv. Each line of this file after the header row represents one tag applied to one movie by one user, and has the following features:\n",
    "\n",
    "| userId | movieId | tag | timestamp |\n",
    "|:---------:|:----------------|:---------:|:----------------|\n",
    "\n",
    "\n",
    "The lines within this file are ordered first by userId, then, within user, by movieId. Tags are user-generated metadata about movies. Each tag is typically a single word or short phrase. The meaning, value, and purpose of a particular tag is determined by each user. Timestamps represent seconds since midnight Coordinated Universal Time (UTC) of January 1, 1970\n",
    "\n",
    "**Movies Data File Structure (movies.csv)**\n",
    "\n",
    "Movie information is contained in the file movies.csv. Each line of this file after the header row represents one movie, and has the following features:\n",
    "\n",
    "\n",
    "| userId | title | genres | \n",
    "|:---------:|:----------------|:---------:|\n",
    "\n",
    "\n",
    "Movie titles are entered manually or imported from [here](https://www.themoviedb.org/), and include the year of release in parentheses. Errors and inconsistencies may exist in these titles. Genres are a pipe-separated list, and are selected from the following:\n",
    "\n",
    "Action,\n",
    "Adventure,\n",
    "Animation,\n",
    "Children's,\n",
    "Comedy,\n",
    "Crime,\n",
    "Documentary,\n",
    "Drama,\n",
    "Fantasy,\n",
    "Film-Noir,\n",
    "Horror,\n",
    "Musical,\n",
    "Mystery,\n",
    "Romance,\n",
    "Sci-Fi,\n",
    "Thriller,\n",
    "War,\n",
    "Western,\n",
    "and (no genres listed).\n",
    "\n",
    "**Links Data File Structure (links.csv)**\n",
    "\n",
    "Identifiers that can be used to link to other sources of movie data are contained in the file links.csv. Each line of this file after the header row represents one movie, and has the following features:\n",
    "\n",
    "| userId |imdbId  | tmdbId  | \n",
    "|:---------:|:----------------|:---------:|\n",
    "\n",
    "\n",
    "\n",
    "- movieId is an identifier for movies used by [movielens site](https://movielens.org). E.g., the movie Toy Story has this [link](https://movielens.org/movies/1).\n",
    "\n",
    "- imdbId is an identifier for movies used by [imdb site](http://www.imdb.com). E.g., the movie Toy Story has this [link](http://www.imdb.com/title/tt0114709/).\n",
    "\n",
    "- tmdbId is an identifier for movies used by [themoviedb site](https://www.themoviedb.org). E.g., the movie Toy Story has this [link](https://www.themoviedb.org/movie/862).\n",
    "\n",
    "- Use of the resources listed above is subject to the terms of each provider.\n",
    "\n",
    "**Tag Genome (genome-scores.csv and genome-tags.csv)**\n",
    "\n",
    "The tag genome encodes how strongly movies exhibit particular properties represented by tags (atmospheric, thought-provoking, realistic, etc.). The tag genome was computed using a machine learning algorithm on user-contributed content including tags, ratings, and textual reviews. The genome is split into two files. The file genome-scores.csv contains movie-tag relevance data in the following features:\n",
    "\n",
    "\n",
    "| userId | tagId | relevance | \n",
    "|:---------:|:----------------|:---------:|\n",
    "\n",
    "\n",
    "The second file, genome-tags.csv, provides the tag descriptions for the tag IDs in the genome file, in the following features:\n",
    "\n",
    "| tagId | tag |\n",
    "|:---------:|:----------------|\n"
   ]
  },
  {
   "cell_type": "markdown",
   "metadata": {
    "id": "l8LVAN6DhIcE"
   },
   "source": [
    "<a id='the_connection'></a>\n",
    "## Connect to Comet"
   ]
  },
  {
   "cell_type": "code",
   "execution_count": null,
   "metadata": {
    "id": "kDWGNuzjhIcE"
   },
   "outputs": [],
   "source": [
    "#!pip install comet_ml"
   ]
  },
  {
   "cell_type": "code",
   "execution_count": null,
   "metadata": {
    "id": "GVY7gLxAhIcI"
   },
   "outputs": [],
   "source": []
  },
  {
   "cell_type": "markdown",
   "metadata": {
    "id": "IZM965p5hIcN"
   },
   "source": [
    "<a id='the_library'></a>\n",
    "## Importing the libraries"
   ]
  },
  {
   "cell_type": "code",
   "execution_count": 1,
   "metadata": {
    "id": "KaqXWb7FhIcN"
   },
   "outputs": [],
   "source": [
    "import numpy as np # linear algebra\n",
    "import pandas as pd # data processing, CSV file I/O (e.g. pd.read_csv)\n",
    "from wordcloud import WordCloud\n",
    "\n",
    "#visualization\n",
    "import matplotlib.pyplot as plt\n",
    "import seaborn as sns\n",
    "sns.set_style('dark')\n",
    "%matplotlib inline"
   ]
  },
  {
   "cell_type": "markdown",
   "metadata": {
    "id": "9caRuzP1hIcS"
   },
   "source": [
    "<a id ='the_data'></a>\n",
    "## Load datasets"
   ]
  },
  {
   "cell_type": "code",
   "execution_count": 2,
   "metadata": {
    "id": "9oZZ8vzhhIcT"
   },
   "outputs": [],
   "source": [
    "train_df = pd.read_csv('train.csv')\n",
    "genome_scores_df = pd.read_csv('genome_scores.csv')\n",
    "genome_tags_df = pd.read_csv('genome_tags.csv')\n",
    "imdb_df = pd.read_csv('imdb_data.csv')\n",
    "links_df = pd.read_csv('links.csv')\n",
    "movies_df = pd.read_csv('movies.csv')\n",
    "sample_submission_df = pd.read_csv('sample_submission.csv')\n",
    "tags_df = pd.read_csv('tags.csv')\n",
    "test_df = pd.read_csv('test.csv')"
   ]
  },
  {
   "cell_type": "markdown",
   "metadata": {
    "id": "TAe7KJ75hIcY"
   },
   "source": [
    "<a id='the_inspect'></a>\n",
    "## Inspect datasets"
   ]
  },
  {
   "cell_type": "code",
   "execution_count": 3,
   "metadata": {
    "id": "lyfyY0HZhIca"
   },
   "outputs": [
    {
     "data": {
      "text/html": [
       "<div>\n",
       "<style scoped>\n",
       "    .dataframe tbody tr th:only-of-type {\n",
       "        vertical-align: middle;\n",
       "    }\n",
       "\n",
       "    .dataframe tbody tr th {\n",
       "        vertical-align: top;\n",
       "    }\n",
       "\n",
       "    .dataframe thead th {\n",
       "        text-align: right;\n",
       "    }\n",
       "</style>\n",
       "<table border=\"1\" class=\"dataframe\">\n",
       "  <thead>\n",
       "    <tr style=\"text-align: right;\">\n",
       "      <th></th>\n",
       "      <th>userId</th>\n",
       "      <th>movieId</th>\n",
       "      <th>rating</th>\n",
       "      <th>timestamp</th>\n",
       "    </tr>\n",
       "  </thead>\n",
       "  <tbody>\n",
       "    <tr>\n",
       "      <th>0</th>\n",
       "      <td>5163</td>\n",
       "      <td>57669</td>\n",
       "      <td>4.0</td>\n",
       "      <td>1518349992</td>\n",
       "    </tr>\n",
       "    <tr>\n",
       "      <th>1</th>\n",
       "      <td>106343</td>\n",
       "      <td>5</td>\n",
       "      <td>4.5</td>\n",
       "      <td>1206238739</td>\n",
       "    </tr>\n",
       "    <tr>\n",
       "      <th>2</th>\n",
       "      <td>146790</td>\n",
       "      <td>5459</td>\n",
       "      <td>5.0</td>\n",
       "      <td>1076215539</td>\n",
       "    </tr>\n",
       "    <tr>\n",
       "      <th>3</th>\n",
       "      <td>106362</td>\n",
       "      <td>32296</td>\n",
       "      <td>2.0</td>\n",
       "      <td>1423042565</td>\n",
       "    </tr>\n",
       "    <tr>\n",
       "      <th>4</th>\n",
       "      <td>9041</td>\n",
       "      <td>366</td>\n",
       "      <td>3.0</td>\n",
       "      <td>833375837</td>\n",
       "    </tr>\n",
       "  </tbody>\n",
       "</table>\n",
       "</div>"
      ],
      "text/plain": [
       "   userId  movieId  rating   timestamp\n",
       "0    5163    57669     4.0  1518349992\n",
       "1  106343        5     4.5  1206238739\n",
       "2  146790     5459     5.0  1076215539\n",
       "3  106362    32296     2.0  1423042565\n",
       "4    9041      366     3.0   833375837"
      ]
     },
     "execution_count": 3,
     "metadata": {},
     "output_type": "execute_result"
    }
   ],
   "source": [
    "train_df.head()"
   ]
  },
  {
   "cell_type": "markdown",
   "metadata": {
    "id": "hgB60c_whIci"
   },
   "source": [
    "The userId column contains the ID of the user who left the rating. The movieId column contains the Id of the movie, the rating column contains the rating left by the user. Ratings can have values between 1 and 5. And finally, the timestamp refers to the time at which the user left the rating."
   ]
  },
  {
   "cell_type": "markdown",
   "metadata": {
    "id": "9H84cNTUhIck"
   },
   "source": [
    "Let's add in some movie titles"
   ]
  },
  {
   "cell_type": "code",
   "execution_count": 4,
   "metadata": {
    "id": "YeMuGVU9hIcl"
   },
   "outputs": [
    {
     "data": {
      "text/html": [
       "<div>\n",
       "<style scoped>\n",
       "    .dataframe tbody tr th:only-of-type {\n",
       "        vertical-align: middle;\n",
       "    }\n",
       "\n",
       "    .dataframe tbody tr th {\n",
       "        vertical-align: top;\n",
       "    }\n",
       "\n",
       "    .dataframe thead th {\n",
       "        text-align: right;\n",
       "    }\n",
       "</style>\n",
       "<table border=\"1\" class=\"dataframe\">\n",
       "  <thead>\n",
       "    <tr style=\"text-align: right;\">\n",
       "      <th></th>\n",
       "      <th>movieId</th>\n",
       "      <th>title</th>\n",
       "      <th>genres</th>\n",
       "    </tr>\n",
       "  </thead>\n",
       "  <tbody>\n",
       "    <tr>\n",
       "      <th>0</th>\n",
       "      <td>1</td>\n",
       "      <td>Toy Story (1995)</td>\n",
       "      <td>Adventure|Animation|Children|Comedy|Fantasy</td>\n",
       "    </tr>\n",
       "    <tr>\n",
       "      <th>1</th>\n",
       "      <td>2</td>\n",
       "      <td>Jumanji (1995)</td>\n",
       "      <td>Adventure|Children|Fantasy</td>\n",
       "    </tr>\n",
       "    <tr>\n",
       "      <th>2</th>\n",
       "      <td>3</td>\n",
       "      <td>Grumpier Old Men (1995)</td>\n",
       "      <td>Comedy|Romance</td>\n",
       "    </tr>\n",
       "    <tr>\n",
       "      <th>3</th>\n",
       "      <td>4</td>\n",
       "      <td>Waiting to Exhale (1995)</td>\n",
       "      <td>Comedy|Drama|Romance</td>\n",
       "    </tr>\n",
       "    <tr>\n",
       "      <th>4</th>\n",
       "      <td>5</td>\n",
       "      <td>Father of the Bride Part II (1995)</td>\n",
       "      <td>Comedy</td>\n",
       "    </tr>\n",
       "  </tbody>\n",
       "</table>\n",
       "</div>"
      ],
      "text/plain": [
       "   movieId                               title  \\\n",
       "0        1                    Toy Story (1995)   \n",
       "1        2                      Jumanji (1995)   \n",
       "2        3             Grumpier Old Men (1995)   \n",
       "3        4            Waiting to Exhale (1995)   \n",
       "4        5  Father of the Bride Part II (1995)   \n",
       "\n",
       "                                        genres  \n",
       "0  Adventure|Animation|Children|Comedy|Fantasy  \n",
       "1                   Adventure|Children|Fantasy  \n",
       "2                               Comedy|Romance  \n",
       "3                         Comedy|Drama|Romance  \n",
       "4                                       Comedy  "
      ]
     },
     "execution_count": 4,
     "metadata": {},
     "output_type": "execute_result"
    }
   ],
   "source": [
    "movies_df.head()"
   ]
  },
  {
   "cell_type": "code",
   "execution_count": 5,
   "metadata": {
    "id": "R0uh45hdhIdj"
   },
   "outputs": [
    {
     "name": "stdout",
     "output_type": "stream",
     "text": [
      "<class 'pandas.core.frame.DataFrame'>\n",
      "RangeIndex: 62423 entries, 0 to 62422\n",
      "Data columns (total 3 columns):\n",
      " #   Column   Non-Null Count  Dtype \n",
      "---  ------   --------------  ----- \n",
      " 0   movieId  62423 non-null  int64 \n",
      " 1   title    62423 non-null  object\n",
      " 2   genres   62423 non-null  object\n",
      "dtypes: int64(1), object(2)\n",
      "memory usage: 1.4+ MB\n"
     ]
    }
   ],
   "source": [
    "movies_df.info()"
   ]
  },
  {
   "cell_type": "markdown",
   "metadata": {
    "id": "3IH0XdtkhIdl"
   },
   "source": [
    "Movies database appears to have no null values ,but further inspection is required"
   ]
  },
  {
   "cell_type": "code",
   "execution_count": 6,
   "metadata": {
    "id": "pZ4D9YDAhIdm"
   },
   "outputs": [
    {
     "data": {
      "text/html": [
       "<div>\n",
       "<style scoped>\n",
       "    .dataframe tbody tr th:only-of-type {\n",
       "        vertical-align: middle;\n",
       "    }\n",
       "\n",
       "    .dataframe tbody tr th {\n",
       "        vertical-align: top;\n",
       "    }\n",
       "\n",
       "    .dataframe thead th {\n",
       "        text-align: right;\n",
       "    }\n",
       "</style>\n",
       "<table border=\"1\" class=\"dataframe\">\n",
       "  <thead>\n",
       "    <tr style=\"text-align: right;\">\n",
       "      <th></th>\n",
       "      <th>movieId</th>\n",
       "      <th>title</th>\n",
       "      <th>genres</th>\n",
       "    </tr>\n",
       "  </thead>\n",
       "  <tbody>\n",
       "    <tr>\n",
       "      <th>15881</th>\n",
       "      <td>83773</td>\n",
       "      <td>Away with Words (San tiao ren) (1999)</td>\n",
       "      <td>(no genres listed)</td>\n",
       "    </tr>\n",
       "    <tr>\n",
       "      <th>16060</th>\n",
       "      <td>84768</td>\n",
       "      <td>Glitterbug (1994)</td>\n",
       "      <td>(no genres listed)</td>\n",
       "    </tr>\n",
       "    <tr>\n",
       "      <th>16351</th>\n",
       "      <td>86493</td>\n",
       "      <td>Age of the Earth, The (A Idade da Terra) (1980)</td>\n",
       "      <td>(no genres listed)</td>\n",
       "    </tr>\n",
       "    <tr>\n",
       "      <th>16491</th>\n",
       "      <td>87061</td>\n",
       "      <td>Trails (Veredas) (1978)</td>\n",
       "      <td>(no genres listed)</td>\n",
       "    </tr>\n",
       "    <tr>\n",
       "      <th>17404</th>\n",
       "      <td>91246</td>\n",
       "      <td>Milky Way (Tejút) (2007)</td>\n",
       "      <td>(no genres listed)</td>\n",
       "    </tr>\n",
       "    <tr>\n",
       "      <th>...</th>\n",
       "      <td>...</td>\n",
       "      <td>...</td>\n",
       "      <td>...</td>\n",
       "    </tr>\n",
       "    <tr>\n",
       "      <th>62400</th>\n",
       "      <td>209101</td>\n",
       "      <td>Hua yang de nian hua (2001)</td>\n",
       "      <td>(no genres listed)</td>\n",
       "    </tr>\n",
       "    <tr>\n",
       "      <th>62401</th>\n",
       "      <td>209103</td>\n",
       "      <td>Tsar Ivan the Terrible (1991)</td>\n",
       "      <td>(no genres listed)</td>\n",
       "    </tr>\n",
       "    <tr>\n",
       "      <th>62407</th>\n",
       "      <td>209133</td>\n",
       "      <td>The Riot and the Dance (2018)</td>\n",
       "      <td>(no genres listed)</td>\n",
       "    </tr>\n",
       "    <tr>\n",
       "      <th>62415</th>\n",
       "      <td>209151</td>\n",
       "      <td>Mao Zedong 1949 (2019)</td>\n",
       "      <td>(no genres listed)</td>\n",
       "    </tr>\n",
       "    <tr>\n",
       "      <th>62421</th>\n",
       "      <td>209169</td>\n",
       "      <td>A Girl Thing (2001)</td>\n",
       "      <td>(no genres listed)</td>\n",
       "    </tr>\n",
       "  </tbody>\n",
       "</table>\n",
       "<p>5062 rows × 3 columns</p>\n",
       "</div>"
      ],
      "text/plain": [
       "       movieId                                            title  \\\n",
       "15881    83773            Away with Words (San tiao ren) (1999)   \n",
       "16060    84768                                Glitterbug (1994)   \n",
       "16351    86493  Age of the Earth, The (A Idade da Terra) (1980)   \n",
       "16491    87061                          Trails (Veredas) (1978)   \n",
       "17404    91246                         Milky Way (Tejút) (2007)   \n",
       "...        ...                                              ...   \n",
       "62400   209101                      Hua yang de nian hua (2001)   \n",
       "62401   209103                    Tsar Ivan the Terrible (1991)   \n",
       "62407   209133                    The Riot and the Dance (2018)   \n",
       "62415   209151                           Mao Zedong 1949 (2019)   \n",
       "62421   209169                              A Girl Thing (2001)   \n",
       "\n",
       "                   genres  \n",
       "15881  (no genres listed)  \n",
       "16060  (no genres listed)  \n",
       "16351  (no genres listed)  \n",
       "16491  (no genres listed)  \n",
       "17404  (no genres listed)  \n",
       "...                   ...  \n",
       "62400  (no genres listed)  \n",
       "62401  (no genres listed)  \n",
       "62407  (no genres listed)  \n",
       "62415  (no genres listed)  \n",
       "62421  (no genres listed)  \n",
       "\n",
       "[5062 rows x 3 columns]"
      ]
     },
     "execution_count": 6,
     "metadata": {},
     "output_type": "execute_result"
    }
   ],
   "source": [
    "movies_df.loc[movies_df[\"genres\"] == \"(no genres listed)\"] #to see which movies have missing genres"
   ]
  },
  {
   "cell_type": "markdown",
   "metadata": {
    "id": "dtA8UMkWhIdp"
   },
   "source": [
    "5062 movies in the data have no genre listed "
   ]
  },
  {
   "cell_type": "code",
   "execution_count": 7,
   "metadata": {
    "id": "hUtvvgm_hIdq"
   },
   "outputs": [
    {
     "data": {
      "text/html": [
       "<div>\n",
       "<style scoped>\n",
       "    .dataframe tbody tr th:only-of-type {\n",
       "        vertical-align: middle;\n",
       "    }\n",
       "\n",
       "    .dataframe tbody tr th {\n",
       "        vertical-align: top;\n",
       "    }\n",
       "\n",
       "    .dataframe thead th {\n",
       "        text-align: right;\n",
       "    }\n",
       "</style>\n",
       "<table border=\"1\" class=\"dataframe\">\n",
       "  <thead>\n",
       "    <tr style=\"text-align: right;\">\n",
       "      <th></th>\n",
       "      <th>movieId</th>\n",
       "      <th>title</th>\n",
       "      <th>genres</th>\n",
       "    </tr>\n",
       "  </thead>\n",
       "  <tbody>\n",
       "    <tr>\n",
       "      <th>9065</th>\n",
       "      <td>26982</td>\n",
       "      <td>Men with Guns (1997)</td>\n",
       "      <td>Drama</td>\n",
       "    </tr>\n",
       "    <tr>\n",
       "      <th>12909</th>\n",
       "      <td>64997</td>\n",
       "      <td>War of the Worlds (2005)</td>\n",
       "      <td>Action|Sci-Fi</td>\n",
       "    </tr>\n",
       "    <tr>\n",
       "      <th>12984</th>\n",
       "      <td>65665</td>\n",
       "      <td>Hamlet (2000)</td>\n",
       "      <td>Drama</td>\n",
       "    </tr>\n",
       "    <tr>\n",
       "      <th>13177</th>\n",
       "      <td>67459</td>\n",
       "      <td>Chaos (2005)</td>\n",
       "      <td>Crime|Drama|Horror</td>\n",
       "    </tr>\n",
       "    <tr>\n",
       "      <th>16120</th>\n",
       "      <td>85070</td>\n",
       "      <td>Blackout (2007)</td>\n",
       "      <td>Drama</td>\n",
       "    </tr>\n",
       "    <tr>\n",
       "      <th>...</th>\n",
       "      <td>...</td>\n",
       "      <td>...</td>\n",
       "      <td>...</td>\n",
       "    </tr>\n",
       "    <tr>\n",
       "      <th>61521</th>\n",
       "      <td>206117</td>\n",
       "      <td>The Lonely Island Presents: The Unauthorized B...</td>\n",
       "      <td>Comedy</td>\n",
       "    </tr>\n",
       "    <tr>\n",
       "      <th>61525</th>\n",
       "      <td>206125</td>\n",
       "      <td>Lost &amp; Found (2018)</td>\n",
       "      <td>Comedy|Drama</td>\n",
       "    </tr>\n",
       "    <tr>\n",
       "      <th>61697</th>\n",
       "      <td>206674</td>\n",
       "      <td>Camino (2016)</td>\n",
       "      <td>Comedy</td>\n",
       "    </tr>\n",
       "    <tr>\n",
       "      <th>61800</th>\n",
       "      <td>206925</td>\n",
       "      <td>The Plague (2006)</td>\n",
       "      <td>Documentary</td>\n",
       "    </tr>\n",
       "    <tr>\n",
       "      <th>61913</th>\n",
       "      <td>207249</td>\n",
       "      <td>American Woman (2019)</td>\n",
       "      <td>Drama</td>\n",
       "    </tr>\n",
       "  </tbody>\n",
       "</table>\n",
       "<p>98 rows × 3 columns</p>\n",
       "</div>"
      ],
      "text/plain": [
       "       movieId                                              title  \\\n",
       "9065     26982                               Men with Guns (1997)   \n",
       "12909    64997                           War of the Worlds (2005)   \n",
       "12984    65665                                      Hamlet (2000)   \n",
       "13177    67459                                       Chaos (2005)   \n",
       "16120    85070                                    Blackout (2007)   \n",
       "...        ...                                                ...   \n",
       "61521   206117  The Lonely Island Presents: The Unauthorized B...   \n",
       "61525   206125                                Lost & Found (2018)   \n",
       "61697   206674                                      Camino (2016)   \n",
       "61800   206925                                  The Plague (2006)   \n",
       "61913   207249                              American Woman (2019)   \n",
       "\n",
       "                   genres  \n",
       "9065                Drama  \n",
       "12909       Action|Sci-Fi  \n",
       "12984               Drama  \n",
       "13177  Crime|Drama|Horror  \n",
       "16120               Drama  \n",
       "...                   ...  \n",
       "61521              Comedy  \n",
       "61525        Comedy|Drama  \n",
       "61697              Comedy  \n",
       "61800         Documentary  \n",
       "61913               Drama  \n",
       "\n",
       "[98 rows x 3 columns]"
      ]
     },
     "execution_count": 7,
     "metadata": {},
     "output_type": "execute_result"
    }
   ],
   "source": [
    "movies_df.loc[movies_df[\"title\"].duplicated() == True]\n",
    "#All the duplicate rows except their first occurrence are returned \n",
    "#the default value of keep argument was ”first”."
   ]
  },
  {
   "cell_type": "markdown",
   "metadata": {
    "id": "1ZQ6L_QihIdu"
   },
   "source": [
    "98 movie titles are duplicated in the movies database.\n",
    "However ,the movie id and and titles for the duplicates are different .\n",
    "Overall ,because this is the same movie ,the duplicates need to be deleted .\n",
    "Only keep the title with the most genres as this one has more information.\n",
    "Inspecting random dupliction shows that the first occourance of the movies title has more genres ,so keep first occurance"
   ]
  },
  {
   "cell_type": "code",
   "execution_count": 8,
   "metadata": {
    "id": "XBhEvg8XhIdv"
   },
   "outputs": [
    {
     "data": {
      "text/html": [
       "<div>\n",
       "<style scoped>\n",
       "    .dataframe tbody tr th:only-of-type {\n",
       "        vertical-align: middle;\n",
       "    }\n",
       "\n",
       "    .dataframe tbody tr th {\n",
       "        vertical-align: top;\n",
       "    }\n",
       "\n",
       "    .dataframe thead th {\n",
       "        text-align: right;\n",
       "    }\n",
       "</style>\n",
       "<table border=\"1\" class=\"dataframe\">\n",
       "  <thead>\n",
       "    <tr style=\"text-align: right;\">\n",
       "      <th></th>\n",
       "      <th>movieId</th>\n",
       "      <th>title</th>\n",
       "      <th>genres</th>\n",
       "    </tr>\n",
       "  </thead>\n",
       "  <tbody>\n",
       "    <tr>\n",
       "      <th>27081</th>\n",
       "      <td>128255</td>\n",
       "      <td>The Plague (2006)</td>\n",
       "      <td>Documentary|Horror|Thriller</td>\n",
       "    </tr>\n",
       "    <tr>\n",
       "      <th>61800</th>\n",
       "      <td>206925</td>\n",
       "      <td>The Plague (2006)</td>\n",
       "      <td>Documentary</td>\n",
       "    </tr>\n",
       "  </tbody>\n",
       "</table>\n",
       "</div>"
      ],
      "text/plain": [
       "       movieId              title                       genres\n",
       "27081   128255  The Plague (2006)  Documentary|Horror|Thriller\n",
       "61800   206925  The Plague (2006)                  Documentary"
      ]
     },
     "execution_count": 8,
     "metadata": {},
     "output_type": "execute_result"
    }
   ],
   "source": [
    "#Randomly selected to check differences between first and second\n",
    "movies_df.loc[movies_df[\"title\"] == \"The Plague (2006)\"] \n"
   ]
  },
  {
   "cell_type": "code",
   "execution_count": null,
   "metadata": {
    "id": "IwDNO08chIdz"
   },
   "outputs": [],
   "source": [
    "movies_df.loc[movies_df[\"title\"] == \"Men with Guns (1997)\"]"
   ]
  },
  {
   "cell_type": "code",
   "execution_count": null,
   "metadata": {
    "id": "BU9wn6iShId2"
   },
   "outputs": [],
   "source": [
    "movies_df.loc[movies_df[\"title\"] == \"War of the Worlds (2005)\"]"
   ]
  },
  {
   "cell_type": "code",
   "execution_count": null,
   "metadata": {
    "id": "zYggwPsPhId5"
   },
   "outputs": [],
   "source": [
    "movies_df.loc[movies_df[\"title\"] == \"Chaos (2005)\"]"
   ]
  },
  {
   "cell_type": "markdown",
   "metadata": {
    "id": "sCe-OJiRhId8"
   },
   "source": [
    "Need to drop all second occurances of a movie titble ,first occurance has more genres"
   ]
  },
  {
   "cell_type": "code",
   "execution_count": null,
   "metadata": {
    "id": "6O_NqKmxhId9"
   },
   "outputs": [],
   "source": []
  },
  {
   "cell_type": "markdown",
   "metadata": {
    "id": "yNa0_MHUh7iF"
   },
   "source": [
    "#### Merge Datasets"
   ]
  },
  {
   "cell_type": "code",
   "execution_count": 13,
   "metadata": {
    "id": "aSS8Y8_dhIct"
   },
   "outputs": [
    {
     "data": {
      "text/html": [
       "<div>\n",
       "<style scoped>\n",
       "    .dataframe tbody tr th:only-of-type {\n",
       "        vertical-align: middle;\n",
       "    }\n",
       "\n",
       "    .dataframe tbody tr th {\n",
       "        vertical-align: top;\n",
       "    }\n",
       "\n",
       "    .dataframe thead th {\n",
       "        text-align: right;\n",
       "    }\n",
       "</style>\n",
       "<table border=\"1\" class=\"dataframe\">\n",
       "  <thead>\n",
       "    <tr style=\"text-align: right;\">\n",
       "      <th></th>\n",
       "      <th>userId</th>\n",
       "      <th>movieId</th>\n",
       "      <th>rating</th>\n",
       "      <th>timestamp</th>\n",
       "      <th>title</th>\n",
       "      <th>genres</th>\n",
       "    </tr>\n",
       "  </thead>\n",
       "  <tbody>\n",
       "    <tr>\n",
       "      <th>0</th>\n",
       "      <td>5163</td>\n",
       "      <td>57669</td>\n",
       "      <td>4.0</td>\n",
       "      <td>1518349992</td>\n",
       "      <td>In Bruges (2008)</td>\n",
       "      <td>Comedy|Crime|Drama|Thriller</td>\n",
       "    </tr>\n",
       "    <tr>\n",
       "      <th>1</th>\n",
       "      <td>87388</td>\n",
       "      <td>57669</td>\n",
       "      <td>3.5</td>\n",
       "      <td>1237455297</td>\n",
       "      <td>In Bruges (2008)</td>\n",
       "      <td>Comedy|Crime|Drama|Thriller</td>\n",
       "    </tr>\n",
       "    <tr>\n",
       "      <th>2</th>\n",
       "      <td>137050</td>\n",
       "      <td>57669</td>\n",
       "      <td>4.0</td>\n",
       "      <td>1425631854</td>\n",
       "      <td>In Bruges (2008)</td>\n",
       "      <td>Comedy|Crime|Drama|Thriller</td>\n",
       "    </tr>\n",
       "    <tr>\n",
       "      <th>3</th>\n",
       "      <td>120490</td>\n",
       "      <td>57669</td>\n",
       "      <td>4.5</td>\n",
       "      <td>1408228517</td>\n",
       "      <td>In Bruges (2008)</td>\n",
       "      <td>Comedy|Crime|Drama|Thriller</td>\n",
       "    </tr>\n",
       "    <tr>\n",
       "      <th>4</th>\n",
       "      <td>50616</td>\n",
       "      <td>57669</td>\n",
       "      <td>4.5</td>\n",
       "      <td>1446941640</td>\n",
       "      <td>In Bruges (2008)</td>\n",
       "      <td>Comedy|Crime|Drama|Thriller</td>\n",
       "    </tr>\n",
       "  </tbody>\n",
       "</table>\n",
       "</div>"
      ],
      "text/plain": [
       "   userId  movieId  rating   timestamp             title  \\\n",
       "0    5163    57669     4.0  1518349992  In Bruges (2008)   \n",
       "1   87388    57669     3.5  1237455297  In Bruges (2008)   \n",
       "2  137050    57669     4.0  1425631854  In Bruges (2008)   \n",
       "3  120490    57669     4.5  1408228517  In Bruges (2008)   \n",
       "4   50616    57669     4.5  1446941640  In Bruges (2008)   \n",
       "\n",
       "                        genres  \n",
       "0  Comedy|Crime|Drama|Thriller  \n",
       "1  Comedy|Crime|Drama|Thriller  \n",
       "2  Comedy|Crime|Drama|Thriller  \n",
       "3  Comedy|Crime|Drama|Thriller  \n",
       "4  Comedy|Crime|Drama|Thriller  "
      ]
     },
     "execution_count": 13,
     "metadata": {},
     "output_type": "execute_result"
    }
   ],
   "source": [
    "movies_info_df = pd.merge(train_df,movies_df, on='movieId')\n",
    "movies_info_df.head()"
   ]
  },
  {
   "cell_type": "code",
   "execution_count": 9,
   "metadata": {},
   "outputs": [
    {
     "data": {
      "text/html": [
       "<div>\n",
       "<style scoped>\n",
       "    .dataframe tbody tr th:only-of-type {\n",
       "        vertical-align: middle;\n",
       "    }\n",
       "\n",
       "    .dataframe tbody tr th {\n",
       "        vertical-align: top;\n",
       "    }\n",
       "\n",
       "    .dataframe thead th {\n",
       "        text-align: right;\n",
       "    }\n",
       "</style>\n",
       "<table border=\"1\" class=\"dataframe\">\n",
       "  <thead>\n",
       "    <tr style=\"text-align: right;\">\n",
       "      <th></th>\n",
       "      <th>movieId</th>\n",
       "      <th>title_cast</th>\n",
       "      <th>director</th>\n",
       "      <th>runtime</th>\n",
       "      <th>budget</th>\n",
       "      <th>plot_keywords</th>\n",
       "    </tr>\n",
       "  </thead>\n",
       "  <tbody>\n",
       "    <tr>\n",
       "      <th>0</th>\n",
       "      <td>1</td>\n",
       "      <td>Tom Hanks|Tim Allen|Don Rickles|Jim Varney|Wal...</td>\n",
       "      <td>John Lasseter</td>\n",
       "      <td>81.0</td>\n",
       "      <td>$30,000,000</td>\n",
       "      <td>toy|rivalry|cowboy|cgi animation</td>\n",
       "    </tr>\n",
       "    <tr>\n",
       "      <th>1</th>\n",
       "      <td>2</td>\n",
       "      <td>Robin Williams|Jonathan Hyde|Kirsten Dunst|Bra...</td>\n",
       "      <td>Jonathan Hensleigh</td>\n",
       "      <td>104.0</td>\n",
       "      <td>$65,000,000</td>\n",
       "      <td>board game|adventurer|fight|game</td>\n",
       "    </tr>\n",
       "    <tr>\n",
       "      <th>2</th>\n",
       "      <td>3</td>\n",
       "      <td>Walter Matthau|Jack Lemmon|Sophia Loren|Ann-Ma...</td>\n",
       "      <td>Mark Steven Johnson</td>\n",
       "      <td>101.0</td>\n",
       "      <td>$25,000,000</td>\n",
       "      <td>boat|lake|neighbor|rivalry</td>\n",
       "    </tr>\n",
       "    <tr>\n",
       "      <th>3</th>\n",
       "      <td>4</td>\n",
       "      <td>Whitney Houston|Angela Bassett|Loretta Devine|...</td>\n",
       "      <td>Terry McMillan</td>\n",
       "      <td>124.0</td>\n",
       "      <td>$16,000,000</td>\n",
       "      <td>black american|husband wife relationship|betra...</td>\n",
       "    </tr>\n",
       "    <tr>\n",
       "      <th>4</th>\n",
       "      <td>5</td>\n",
       "      <td>Steve Martin|Diane Keaton|Martin Short|Kimberl...</td>\n",
       "      <td>Albert Hackett</td>\n",
       "      <td>106.0</td>\n",
       "      <td>$30,000,000</td>\n",
       "      <td>fatherhood|doberman|dog|mansion</td>\n",
       "    </tr>\n",
       "  </tbody>\n",
       "</table>\n",
       "</div>"
      ],
      "text/plain": [
       "   movieId                                         title_cast  \\\n",
       "0        1  Tom Hanks|Tim Allen|Don Rickles|Jim Varney|Wal...   \n",
       "1        2  Robin Williams|Jonathan Hyde|Kirsten Dunst|Bra...   \n",
       "2        3  Walter Matthau|Jack Lemmon|Sophia Loren|Ann-Ma...   \n",
       "3        4  Whitney Houston|Angela Bassett|Loretta Devine|...   \n",
       "4        5  Steve Martin|Diane Keaton|Martin Short|Kimberl...   \n",
       "\n",
       "              director  runtime       budget  \\\n",
       "0        John Lasseter     81.0  $30,000,000   \n",
       "1   Jonathan Hensleigh    104.0  $65,000,000   \n",
       "2  Mark Steven Johnson    101.0  $25,000,000   \n",
       "3       Terry McMillan    124.0  $16,000,000   \n",
       "4       Albert Hackett    106.0  $30,000,000   \n",
       "\n",
       "                                       plot_keywords  \n",
       "0                   toy|rivalry|cowboy|cgi animation  \n",
       "1                   board game|adventurer|fight|game  \n",
       "2                         boat|lake|neighbor|rivalry  \n",
       "3  black american|husband wife relationship|betra...  \n",
       "4                    fatherhood|doberman|dog|mansion  "
      ]
     },
     "execution_count": 9,
     "metadata": {},
     "output_type": "execute_result"
    }
   ],
   "source": [
    "imdb_df.head()"
   ]
  },
  {
   "cell_type": "code",
   "execution_count": 21,
   "metadata": {},
   "outputs": [],
   "source": [
    "movies_info_df = pd.merge(movies_info_df,imdb_df, on='movieId')"
   ]
  },
  {
   "cell_type": "code",
   "execution_count": 22,
   "metadata": {},
   "outputs": [
    {
     "name": "stdout",
     "output_type": "stream",
     "text": [
      "<class 'pandas.core.frame.DataFrame'>\n",
      "Int64Index: 9633031 entries, 0 to 9633030\n",
      "Data columns (total 11 columns):\n",
      " #   Column         Dtype  \n",
      "---  ------         -----  \n",
      " 0   userId         int64  \n",
      " 1   movieId        int64  \n",
      " 2   rating         float64\n",
      " 3   timestamp      int64  \n",
      " 4   title          object \n",
      " 5   genres         object \n",
      " 6   title_cast     object \n",
      " 7   director       object \n",
      " 8   runtime        float64\n",
      " 9   budget         object \n",
      " 10  plot_keywords  object \n",
      "dtypes: float64(2), int64(3), object(6)\n",
      "memory usage: 881.9+ MB\n"
     ]
    }
   ],
   "source": [
    "movies_info_df.info()"
   ]
  },
  {
   "cell_type": "code",
   "execution_count": 23,
   "metadata": {},
   "outputs": [],
   "source": [
    "movies_info_df=movies_info_df.dropna()"
   ]
  },
  {
   "cell_type": "code",
   "execution_count": 24,
   "metadata": {},
   "outputs": [
    {
     "name": "stdout",
     "output_type": "stream",
     "text": [
      "<class 'pandas.core.frame.DataFrame'>\n",
      "Int64Index: 6454993 entries, 0 to 9633029\n",
      "Data columns (total 11 columns):\n",
      " #   Column         Dtype  \n",
      "---  ------         -----  \n",
      " 0   userId         int64  \n",
      " 1   movieId        int64  \n",
      " 2   rating         float64\n",
      " 3   timestamp      int64  \n",
      " 4   title          object \n",
      " 5   genres         object \n",
      " 6   title_cast     object \n",
      " 7   director       object \n",
      " 8   runtime        float64\n",
      " 9   budget         object \n",
      " 10  plot_keywords  object \n",
      "dtypes: float64(2), int64(3), object(6)\n",
      "memory usage: 591.0+ MB\n"
     ]
    }
   ],
   "source": [
    "movies_info_df.info()"
   ]
  },
  {
   "cell_type": "markdown",
   "metadata": {
    "id": "ky6_tZDbjARG"
   },
   "source": [
    "## Data Cleaning"
   ]
  },
  {
   "cell_type": "code",
   "execution_count": null,
   "metadata": {
    "id": "zyueAUzUi_mY"
   },
   "outputs": [],
   "source": []
  },
  {
   "cell_type": "markdown",
   "metadata": {
    "id": "mu7gikuohMs6"
   },
   "source": [
    "## Exploratory Data Analysis"
   ]
  },
  {
   "cell_type": "markdown",
   "metadata": {
    "id": "JuqLNxh9hIc1"
   },
   "source": [
    "Now let's take a look at the average rating of each movie. To do so, we can group the dataset by the title of the movie and then calculate the mean of the rating for each movie."
   ]
  },
  {
   "cell_type": "code",
   "execution_count": null,
   "metadata": {
    "id": "av0HsqnphIc2"
   },
   "outputs": [],
   "source": [
    "movies_info_df.groupby('title')['rating'].mean().sort_values(ascending=False).head() #top 5 movies!!!"
   ]
  },
  {
   "cell_type": "markdown",
   "metadata": {
    "id": "ip8oFxt9hIc_"
   },
   "source": [
    "A movie can make it to the top of the above list even if only a single user has given it five stars. Therefore, the above stats can be misleading. Normally, a movie which is really a good one gets a higher rating by a large number of users."
   ]
  },
  {
   "cell_type": "code",
   "execution_count": null,
   "metadata": {
    "id": "3Czbz8ENhIdA"
   },
   "outputs": [],
   "source": [
    "movies_info_df.groupby('title')['rating'].count().sort_values(ascending=False).head()"
   ]
  },
  {
   "cell_type": "markdown",
   "metadata": {
    "id": "AtWt71DDhIdF"
   },
   "source": [
    "Average ratings"
   ]
  },
  {
   "cell_type": "code",
   "execution_count": null,
   "metadata": {
    "id": "jmhV-IfOhIdG"
   },
   "outputs": [],
   "source": [
    "ratings_avg = pd.DataFrame(movies_info_df.groupby('title')['rating'].mean())"
   ]
  },
  {
   "cell_type": "code",
   "execution_count": null,
   "metadata": {
    "id": "a7FTnG0fhIdN"
   },
   "outputs": [],
   "source": [
    "ratings_avg['rating_counts'] = pd.DataFrame(movies_info_df.groupby('title')['rating'].count())"
   ]
  },
  {
   "cell_type": "code",
   "execution_count": null,
   "metadata": {
    "id": "7ESfKbh9hIdR"
   },
   "outputs": [],
   "source": [
    "ratings_avg.head()"
   ]
  },
  {
   "cell_type": "markdown",
   "metadata": {
    "id": "kbt_ioHlhIdU"
   },
   "source": [
    "Let's plot these"
   ]
  },
  {
   "cell_type": "code",
   "execution_count": null,
   "metadata": {
    "id": "kTHWH_vohIdV"
   },
   "outputs": [],
   "source": [
    "plt.figure(figsize=(8,6))\n",
    "plt.rcParams['patch.force_edgecolor'] = True\n",
    "ratings_avg['rating_counts'].hist(bins=50)"
   ]
  },
  {
   "cell_type": "markdown",
   "metadata": {
    "id": "5-oEJD9ihIdY"
   },
   "source": [
    "Most movies received less than 5000 ratings."
   ]
  },
  {
   "cell_type": "code",
   "execution_count": null,
   "metadata": {
    "id": "c7KN4TPKhIdZ"
   },
   "outputs": [],
   "source": [
    "plt.figure(figsize=(8,6))\n",
    "plt.rcParams['patch.force_edgecolor'] = True\n",
    "ratings_avg['rating'].hist(bins=50)"
   ]
  },
  {
   "cell_type": "code",
   "execution_count": null,
   "metadata": {
    "id": "YTjQ_tkwhIdc"
   },
   "outputs": [],
   "source": [
    "plt.figure(figsize=(8,6))\n",
    "plt.rcParams['patch.force_edgecolor'] = True\n",
    "sns.jointplot(x='rating', y='rating_counts', data=ratings_avg, alpha=0.4)"
   ]
  },
  {
   "cell_type": "markdown",
   "metadata": {},
   "source": [
    "# Tshegofatjo"
   ]
  },
  {
   "cell_type": "code",
   "execution_count": 19,
   "metadata": {},
   "outputs": [],
   "source": [
    "%matplotlib inline\n",
    "from IPython.display import Image, HTML\n",
    "import json\n",
    "import datetime\n",
    "import ast\n",
    "import pandas as pd\n",
    "import matplotlib.pyplot as plt\n",
    "import seaborn as sns\n",
    "import numpy as np\n",
    "from scipy import stats\n",
    "from sklearn.ensemble import GradientBoostingClassifier, GradientBoostingRegressor\n",
    "from sklearn.dummy import DummyClassifier, DummyRegressor\n",
    "from sklearn.model_selection import train_test_split\n",
    "from wordcloud import WordCloud, STOPWORDS\n",
    "import warnings\n",
    "warnings.filterwarnings('ignore')\n",
    "\n",
    "sns.set_style('whitegrid')\n",
    "sns.set(font_scale=1.25)\n",
    "pd.set_option('display.max_colwidth', 50)"
   ]
  },
  {
   "cell_type": "markdown",
   "metadata": {},
   "source": []
  },
  {
   "cell_type": "code",
   "execution_count": 25,
   "metadata": {},
   "outputs": [
    {
     "data": {
      "text/html": [
       "<div>\n",
       "<style scoped>\n",
       "    .dataframe tbody tr th:only-of-type {\n",
       "        vertical-align: middle;\n",
       "    }\n",
       "\n",
       "    .dataframe tbody tr th {\n",
       "        vertical-align: top;\n",
       "    }\n",
       "\n",
       "    .dataframe thead th {\n",
       "        text-align: right;\n",
       "    }\n",
       "</style>\n",
       "<table border=\"1\" class=\"dataframe\">\n",
       "  <thead>\n",
       "    <tr style=\"text-align: right;\">\n",
       "      <th></th>\n",
       "      <th>userId</th>\n",
       "      <th>movieId</th>\n",
       "      <th>rating</th>\n",
       "      <th>timestamp</th>\n",
       "      <th>title</th>\n",
       "      <th>genres</th>\n",
       "      <th>title_cast</th>\n",
       "      <th>director</th>\n",
       "      <th>runtime</th>\n",
       "      <th>budget</th>\n",
       "      <th>plot_keywords</th>\n",
       "    </tr>\n",
       "  </thead>\n",
       "  <tbody>\n",
       "    <tr>\n",
       "      <th>0</th>\n",
       "      <td>5163</td>\n",
       "      <td>57669</td>\n",
       "      <td>4.0</td>\n",
       "      <td>1518349992</td>\n",
       "      <td>In Bruges (2008)</td>\n",
       "      <td>Comedy|Crime|Drama|Thriller</td>\n",
       "      <td>Elizabeth Berrington|Rudy Blomme|Olivier Bonjo...</td>\n",
       "      <td>Martin McDonagh</td>\n",
       "      <td>107.0</td>\n",
       "      <td>$15,000,000</td>\n",
       "      <td>dwarf|bruges|irish|hitman</td>\n",
       "    </tr>\n",
       "    <tr>\n",
       "      <th>1</th>\n",
       "      <td>87388</td>\n",
       "      <td>57669</td>\n",
       "      <td>3.5</td>\n",
       "      <td>1237455297</td>\n",
       "      <td>In Bruges (2008)</td>\n",
       "      <td>Comedy|Crime|Drama|Thriller</td>\n",
       "      <td>Elizabeth Berrington|Rudy Blomme|Olivier Bonjo...</td>\n",
       "      <td>Martin McDonagh</td>\n",
       "      <td>107.0</td>\n",
       "      <td>$15,000,000</td>\n",
       "      <td>dwarf|bruges|irish|hitman</td>\n",
       "    </tr>\n",
       "    <tr>\n",
       "      <th>2</th>\n",
       "      <td>137050</td>\n",
       "      <td>57669</td>\n",
       "      <td>4.0</td>\n",
       "      <td>1425631854</td>\n",
       "      <td>In Bruges (2008)</td>\n",
       "      <td>Comedy|Crime|Drama|Thriller</td>\n",
       "      <td>Elizabeth Berrington|Rudy Blomme|Olivier Bonjo...</td>\n",
       "      <td>Martin McDonagh</td>\n",
       "      <td>107.0</td>\n",
       "      <td>$15,000,000</td>\n",
       "      <td>dwarf|bruges|irish|hitman</td>\n",
       "    </tr>\n",
       "    <tr>\n",
       "      <th>3</th>\n",
       "      <td>120490</td>\n",
       "      <td>57669</td>\n",
       "      <td>4.5</td>\n",
       "      <td>1408228517</td>\n",
       "      <td>In Bruges (2008)</td>\n",
       "      <td>Comedy|Crime|Drama|Thriller</td>\n",
       "      <td>Elizabeth Berrington|Rudy Blomme|Olivier Bonjo...</td>\n",
       "      <td>Martin McDonagh</td>\n",
       "      <td>107.0</td>\n",
       "      <td>$15,000,000</td>\n",
       "      <td>dwarf|bruges|irish|hitman</td>\n",
       "    </tr>\n",
       "    <tr>\n",
       "      <th>4</th>\n",
       "      <td>50616</td>\n",
       "      <td>57669</td>\n",
       "      <td>4.5</td>\n",
       "      <td>1446941640</td>\n",
       "      <td>In Bruges (2008)</td>\n",
       "      <td>Comedy|Crime|Drama|Thriller</td>\n",
       "      <td>Elizabeth Berrington|Rudy Blomme|Olivier Bonjo...</td>\n",
       "      <td>Martin McDonagh</td>\n",
       "      <td>107.0</td>\n",
       "      <td>$15,000,000</td>\n",
       "      <td>dwarf|bruges|irish|hitman</td>\n",
       "    </tr>\n",
       "  </tbody>\n",
       "</table>\n",
       "</div>"
      ],
      "text/plain": [
       "   userId  movieId  rating   timestamp             title  \\\n",
       "0    5163    57669     4.0  1518349992  In Bruges (2008)   \n",
       "1   87388    57669     3.5  1237455297  In Bruges (2008)   \n",
       "2  137050    57669     4.0  1425631854  In Bruges (2008)   \n",
       "3  120490    57669     4.5  1408228517  In Bruges (2008)   \n",
       "4   50616    57669     4.5  1446941640  In Bruges (2008)   \n",
       "\n",
       "                        genres  \\\n",
       "0  Comedy|Crime|Drama|Thriller   \n",
       "1  Comedy|Crime|Drama|Thriller   \n",
       "2  Comedy|Crime|Drama|Thriller   \n",
       "3  Comedy|Crime|Drama|Thriller   \n",
       "4  Comedy|Crime|Drama|Thriller   \n",
       "\n",
       "                                          title_cast         director  \\\n",
       "0  Elizabeth Berrington|Rudy Blomme|Olivier Bonjo...  Martin McDonagh   \n",
       "1  Elizabeth Berrington|Rudy Blomme|Olivier Bonjo...  Martin McDonagh   \n",
       "2  Elizabeth Berrington|Rudy Blomme|Olivier Bonjo...  Martin McDonagh   \n",
       "3  Elizabeth Berrington|Rudy Blomme|Olivier Bonjo...  Martin McDonagh   \n",
       "4  Elizabeth Berrington|Rudy Blomme|Olivier Bonjo...  Martin McDonagh   \n",
       "\n",
       "   runtime       budget              plot_keywords  \n",
       "0    107.0  $15,000,000  dwarf|bruges|irish|hitman  \n",
       "1    107.0  $15,000,000  dwarf|bruges|irish|hitman  \n",
       "2    107.0  $15,000,000  dwarf|bruges|irish|hitman  \n",
       "3    107.0  $15,000,000  dwarf|bruges|irish|hitman  \n",
       "4    107.0  $15,000,000  dwarf|bruges|irish|hitman  "
      ]
     },
     "execution_count": 25,
     "metadata": {},
     "output_type": "execute_result"
    }
   ],
   "source": [
    "movies_info_df.head(5)"
   ]
  },
  {
   "cell_type": "code",
   "execution_count": null,
   "metadata": {},
   "outputs": [],
   "source": []
  },
  {
   "cell_type": "code",
   "execution_count": null,
   "metadata": {},
   "outputs": [],
   "source": []
  },
  {
   "cell_type": "code",
   "execution_count": null,
   "metadata": {},
   "outputs": [],
   "source": []
  },
  {
   "cell_type": "markdown",
   "metadata": {
    "id": "OSHnrbekjRq3"
   },
   "source": [
    "## Feature Engineering"
   ]
  },
  {
   "cell_type": "code",
   "execution_count": null,
   "metadata": {
    "id": "JFfmxUxNjXwX"
   },
   "outputs": [],
   "source": []
  },
  {
   "cell_type": "code",
   "execution_count": null,
   "metadata": {
    "id": "_j0ju2NCjXgR"
   },
   "outputs": [],
   "source": []
  },
  {
   "cell_type": "markdown",
   "metadata": {
    "id": "Eu1F9P-Wiyah"
   },
   "source": [
    "## Implementation of Recommeder Systems"
   ]
  },
  {
   "cell_type": "markdown",
   "metadata": {
    "id": "i6TSuHF3hIeB"
   },
   "source": [
    "### Impementation of Content Based filtering"
   ]
  },
  {
   "cell_type": "code",
   "execution_count": null,
   "metadata": {
    "id": "fhfQdYCrinbj"
   },
   "outputs": [],
   "source": []
  },
  {
   "cell_type": "markdown",
   "metadata": {
    "id": "M8mfHJGaida8"
   },
   "source": [
    "### Implementation of Collaborative filtering"
   ]
  },
  {
   "cell_type": "code",
   "execution_count": null,
   "metadata": {
    "id": "Jex6yPiUioPp"
   },
   "outputs": [],
   "source": []
  },
  {
   "cell_type": "markdown",
   "metadata": {
    "id": "5gxyEuVyiizP"
   },
   "source": [
    "## Assessing accuracy"
   ]
  },
  {
   "cell_type": "code",
   "execution_count": null,
   "metadata": {
    "id": "xfZogozgibA8"
   },
   "outputs": [],
   "source": []
  },
  {
   "cell_type": "markdown",
   "metadata": {
    "id": "ZQSRPDwliqVW"
   },
   "source": [
    "## Conclusion"
   ]
  },
  {
   "cell_type": "code",
   "execution_count": null,
   "metadata": {
    "id": "xKm0lQkJisSX"
   },
   "outputs": [],
   "source": []
  }
 ],
 "metadata": {
  "kernelspec": {
   "display_name": "Python 3",
   "language": "python",
   "name": "python3"
  },
  "language_info": {
   "codemirror_mode": {
    "name": "ipython",
    "version": 3
   },
   "file_extension": ".py",
   "mimetype": "text/x-python",
   "name": "python",
   "nbconvert_exporter": "python",
   "pygments_lexer": "ipython3",
   "version": "3.7.6"
  }
 },
 "nbformat": 4,
 "nbformat_minor": 4
}
